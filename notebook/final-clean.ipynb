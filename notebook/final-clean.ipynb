{
 "cells": [
  {
   "attachments": {},
   "cell_type": "markdown",
   "metadata": {},
   "source": [
    "# Check GPU"
   ]
  },
  {
   "cell_type": "code",
   "execution_count": 1,
   "metadata": {},
   "outputs": [
    {
     "name": "stdout",
     "output_type": "stream",
     "text": [
      "Wed Apr 19 15:13:39 2023       \n",
      "+---------------------------------------------------------------------------------------+\n",
      "| NVIDIA-SMI 530.30.02              Driver Version: 530.30.02    CUDA Version: 12.1     |\n",
      "|-----------------------------------------+----------------------+----------------------+\n",
      "| GPU  Name                  Persistence-M| Bus-Id        Disp.A | Volatile Uncorr. ECC |\n",
      "| Fan  Temp  Perf            Pwr:Usage/Cap|         Memory-Usage | GPU-Util  Compute M. |\n",
      "|                                         |                      |               MIG M. |\n",
      "|=========================================+======================+======================|\n",
      "|   0  NVIDIA GeForce GTX 1080         On | 00000000:0A:00.0 Off |                  N/A |\n",
      "|  0%   48C    P5               18W / 200W|   1797MiB /  8192MiB |     24%      Default |\n",
      "|                                         |                      |                  N/A |\n",
      "+-----------------------------------------+----------------------+----------------------+\n",
      "                                                                                         \n",
      "+---------------------------------------------------------------------------------------+\n",
      "| Processes:                                                                            |\n",
      "|  GPU   GI   CI        PID   Type   Process name                            GPU Memory |\n",
      "|        ID   ID                                                             Usage      |\n",
      "|=======================================================================================|\n",
      "|    0   N/A  N/A      2141      G   /usr/lib/xorg/Xorg                          621MiB |\n",
      "|    0   N/A  N/A      2388    C+G   ...libexec/gnome-remote-desktop-daemon      105MiB |\n",
      "|    0   N/A  N/A      2457      G   /usr/bin/gnome-shell                        124MiB |\n",
      "|    0   N/A  N/A     11908      G   ...,WinRetrieveSuggestionsOnlyOnDemand      113MiB |\n",
      "|    0   N/A  N/A     14811      G   ...0748060,14637513075212548214,131072      116MiB |\n",
      "|    0   N/A  N/A    541865      G   ...--disable-features=BackForwardCache       63MiB |\n",
      "|    0   N/A  N/A   1672066      G   ...es=GlobalMediaControlsCastStartStop      425MiB |\n",
      "|    0   N/A  N/A   1760845      G   gnome-control-center                         17MiB |\n",
      "|    0   N/A  N/A   2234387      G   ...sion,SpareRendererForSitePerProcess      172MiB |\n",
      "+---------------------------------------------------------------------------------------+\n"
     ]
    }
   ],
   "source": [
    "!nvidia-smi"
   ]
  },
  {
   "attachments": {},
   "cell_type": "markdown",
   "metadata": {},
   "source": [
    "# Setup 1: Install Scripts (Use a venv)"
   ]
  },
  {
   "cell_type": "code",
   "execution_count": null,
   "metadata": {},
   "outputs": [],
   "source": [
    "import os\n",
    "import glob\n",
    "!git clone https://github.com/effusiveperiscope/so-vits-svc -b eff-4.0\n",
    "os.chdir('so-vits-svc')\n",
    "# install requirements one-at-a-time to ignore exceptions\n",
    "!cat requirements.txt | xargs -n 1 pip install --extra-index-url https://download.pytorch.org/whl/cu116\n",
    "!pip install praat-parselmouth\n",
    "!pip install ipywidgets\n",
    "!pip install huggingface_hub\n",
    "!pip install pip==23.0.1 # fix pip version for fairseq install\n",
    "!pip install fairseq==0.12.2\n",
    "!jupyter nbextension enable --py widgetsnbextension\n",
    "existing_files = glob.glob('/content/**/*.*', recursive=True)\n",
    "!pip install numpy==1.21\n",
    "!pip install --upgrade protobuf=3.9.2\n",
    "!pip uninstall -y tensorflow\n",
    "!pip install tensorflow==2.11.0 "
   ]
  },
  {
   "cell_type": "markdown",
   "metadata": {},
   "source": []
  }
 ],
 "metadata": {
  "kernelspec": {
   "display_name": "Python 3",
   "language": "python",
   "name": "python3"
  },
  "language_info": {
   "codemirror_mode": {
    "name": "ipython",
    "version": 3
   },
   "file_extension": ".py",
   "mimetype": "text/x-python",
   "name": "python",
   "nbconvert_exporter": "python",
   "pygments_lexer": "ipython3",
   "version": "3.10.6"
  },
  "orig_nbformat": 4
 },
 "nbformat": 4,
 "nbformat_minor": 2
}

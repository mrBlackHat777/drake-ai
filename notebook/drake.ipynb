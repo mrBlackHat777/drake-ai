{
  "cells": [
    {
      "cell_type": "code",
      "execution_count": 6,
      "metadata": {
        "colab": {
          "base_uri": "https://localhost:8080/"
        },
        "id": "2P9H2ubS5msc",
        "outputId": "1de95c8b-3eb2-4fc3-feb6-2efce2546258"
      },
      "outputs": [
        {
          "name": "stdout",
          "output_type": "stream",
          "text": [
            "Wed Apr 19 18:07:01 2023       \n",
            "+---------------------------------------------------------------------------------------+\n",
            "| NVIDIA-SMI 530.30.02              Driver Version: 530.30.02    CUDA Version: 12.1     |\n",
            "|-----------------------------------------+----------------------+----------------------+\n",
            "| GPU  Name                  Persistence-M| Bus-Id        Disp.A | Volatile Uncorr. ECC |\n",
            "| Fan  Temp  Perf            Pwr:Usage/Cap|         Memory-Usage | GPU-Util  Compute M. |\n",
            "|                                         |                      |               MIG M. |\n",
            "|=========================================+======================+======================|\n",
            "|   0  NVIDIA GeForce GTX 1080         On | 00000000:0A:00.0 Off |                  N/A |\n",
            "| 15%   48C    P5               19W / 200W|   3519MiB /  8192MiB |     25%      Default |\n",
            "|                                         |                      |                  N/A |\n",
            "+-----------------------------------------+----------------------+----------------------+\n",
            "                                                                                         \n",
            "+---------------------------------------------------------------------------------------+\n",
            "| Processes:                                                                            |\n",
            "|  GPU   GI   CI        PID   Type   Process name                            GPU Memory |\n",
            "|        ID   ID                                                             Usage      |\n",
            "|=======================================================================================|\n",
            "|    0   N/A  N/A      2141      G   /usr/lib/xorg/Xorg                          621MiB |\n",
            "|    0   N/A  N/A      2388    C+G   ...libexec/gnome-remote-desktop-daemon      105MiB |\n",
            "|    0   N/A  N/A      2457      G   /usr/bin/gnome-shell                        144MiB |\n",
            "|    0   N/A  N/A     11908      G   ...,WinRetrieveSuggestionsOnlyOnDemand       59MiB |\n",
            "|    0   N/A  N/A     14811      G   ...0748060,14637513075212548214,131072      114MiB |\n",
            "|    0   N/A  N/A    541865      G   ...--disable-features=BackForwardCache       68MiB |\n",
            "|    0   N/A  N/A   1672066      G   ...es=GlobalMediaControlsCastStartStop      228MiB |\n",
            "|    0   N/A  N/A   1760845      G   gnome-control-center                         17MiB |\n",
            "|    0   N/A  N/A   2467207      G   ...sion,SpareRendererForSitePerProcess      377MiB |\n",
            "|    0   N/A  N/A   2478657      C   ...drake_ai-0bRsTVrO-py3.10/bin/python      872MiB |\n",
            "|    0   N/A  N/A   2478658      C   ...drake_ai-0bRsTVrO-py3.10/bin/python      872MiB |\n",
            "+---------------------------------------------------------------------------------------+\n"
          ]
        }
      ],
      "source": [
        "#@title Check GPU\n",
        "!nvidia-smi"
      ]
    },
    {
      "cell_type": "code",
      "execution_count": 14,
      "metadata": {
        "cellView": "form",
        "id": "b-4eVF_7T_YF"
      },
      "outputs": [
        {
          "name": "stdout",
          "output_type": "stream",
          "text": [
            "Cloning into 'so-vits-svc'...\n",
            "remote: Enumerating objects: 1241, done.\u001b[K\n",
            "remote: Counting objects: 100% (39/39), done.\u001b[K\n",
            "remote: Compressing objects: 100% (23/23), done.\u001b[K\n",
            "remote: Total 1241 (delta 18), reused 33 (delta 16), pack-reused 1202\u001b[K\n",
            "Receiving objects: 100% (1241/1241), 24.28 MiB | 7.32 MiB/s, done.\n",
            "Resolving deltas: 100% (690/690), done.\n",
            "Looking in indexes: https://pypi.org/simple, https://download.pytorch.org/whl/cu116\n",
            "Requirement already satisfied: Flask in /home/antoine/.cache/pypoetry/virtualenvs/drake_ai-0bRsTVrO-py3.7/lib/python3.7/site-packages (2.2.3)\n",
            "Requirement already satisfied: importlib-metadata>=3.6.0 in /home/antoine/.cache/pypoetry/virtualenvs/drake_ai-0bRsTVrO-py3.7/lib/python3.7/site-packages (from Flask) (6.5.0)\n",
            "Requirement already satisfied: click>=8.0 in /home/antoine/.cache/pypoetry/virtualenvs/drake_ai-0bRsTVrO-py3.7/lib/python3.7/site-packages (from Flask) (8.1.3)\n",
            "Requirement already satisfied: Jinja2>=3.0 in /home/antoine/.cache/pypoetry/virtualenvs/drake_ai-0bRsTVrO-py3.7/lib/python3.7/site-packages (from Flask) (3.1.2)\n",
            "Requirement already satisfied: Werkzeug>=2.2.2 in /home/antoine/.cache/pypoetry/virtualenvs/drake_ai-0bRsTVrO-py3.7/lib/python3.7/site-packages (from Flask) (2.2.3)\n",
            "Requirement already satisfied: itsdangerous>=2.0 in /home/antoine/.cache/pypoetry/virtualenvs/drake_ai-0bRsTVrO-py3.7/lib/python3.7/site-packages (from Flask) (2.1.2)\n",
            "Requirement already satisfied: typing-extensions>=3.6.4 in /home/antoine/.cache/pypoetry/virtualenvs/drake_ai-0bRsTVrO-py3.7/lib/python3.7/site-packages (from importlib-metadata>=3.6.0->Flask) (4.5.0)\n",
            "Requirement already satisfied: zipp>=0.5 in /home/antoine/.cache/pypoetry/virtualenvs/drake_ai-0bRsTVrO-py3.7/lib/python3.7/site-packages (from importlib-metadata>=3.6.0->Flask) (3.15.0)\n",
            "Requirement already satisfied: MarkupSafe>=2.0 in /home/antoine/.cache/pypoetry/virtualenvs/drake_ai-0bRsTVrO-py3.7/lib/python3.7/site-packages (from Jinja2>=3.0->Flask) (2.1.2)\n",
            "\n",
            "\u001b[1m[\u001b[0m\u001b[34;49mnotice\u001b[0m\u001b[1;39;49m]\u001b[0m\u001b[39;49m A new release of pip is available: \u001b[0m\u001b[31;49m23.0.1\u001b[0m\u001b[39;49m -> \u001b[0m\u001b[32;49m23.1\u001b[0m\n",
            "\u001b[1m[\u001b[0m\u001b[34;49mnotice\u001b[0m\u001b[1;39;49m]\u001b[0m\u001b[39;49m To update, run: \u001b[0m\u001b[32;49mpip install --upgrade pip\u001b[0m\n",
            "Looking in indexes: https://pypi.org/simple, https://download.pytorch.org/whl/cu116\n",
            "Requirement already satisfied: Flask_Cors in /home/antoine/.cache/pypoetry/virtualenvs/drake_ai-0bRsTVrO-py3.7/lib/python3.7/site-packages (3.0.10)\n",
            "Requirement already satisfied: Six in /home/antoine/.cache/pypoetry/virtualenvs/drake_ai-0bRsTVrO-py3.7/lib/python3.7/site-packages (from Flask_Cors) (1.16.0)\n",
            "Requirement already satisfied: Flask>=0.9 in /home/antoine/.cache/pypoetry/virtualenvs/drake_ai-0bRsTVrO-py3.7/lib/python3.7/site-packages (from Flask_Cors) (2.2.3)\n",
            "Requirement already satisfied: Jinja2>=3.0 in /home/antoine/.cache/pypoetry/virtualenvs/drake_ai-0bRsTVrO-py3.7/lib/python3.7/site-packages (from Flask>=0.9->Flask_Cors) (3.1.2)\n",
            "Requirement already satisfied: click>=8.0 in /home/antoine/.cache/pypoetry/virtualenvs/drake_ai-0bRsTVrO-py3.7/lib/python3.7/site-packages (from Flask>=0.9->Flask_Cors) (8.1.3)\n",
            "Requirement already satisfied: importlib-metadata>=3.6.0 in /home/antoine/.cache/pypoetry/virtualenvs/drake_ai-0bRsTVrO-py3.7/lib/python3.7/site-packages (from Flask>=0.9->Flask_Cors) (6.5.0)\n",
            "Requirement already satisfied: itsdangerous>=2.0 in /home/antoine/.cache/pypoetry/virtualenvs/drake_ai-0bRsTVrO-py3.7/lib/python3.7/site-packages (from Flask>=0.9->Flask_Cors) (2.1.2)\n",
            "Requirement already satisfied: Werkzeug>=2.2.2 in /home/antoine/.cache/pypoetry/virtualenvs/drake_ai-0bRsTVrO-py3.7/lib/python3.7/site-packages (from Flask>=0.9->Flask_Cors) (2.2.3)\n",
            "Requirement already satisfied: typing-extensions>=3.6.4 in /home/antoine/.cache/pypoetry/virtualenvs/drake_ai-0bRsTVrO-py3.7/lib/python3.7/site-packages (from importlib-metadata>=3.6.0->Flask>=0.9->Flask_Cors) (4.5.0)\n",
            "Requirement already satisfied: zipp>=0.5 in /home/antoine/.cache/pypoetry/virtualenvs/drake_ai-0bRsTVrO-py3.7/lib/python3.7/site-packages (from importlib-metadata>=3.6.0->Flask>=0.9->Flask_Cors) (3.15.0)\n",
            "Requirement already satisfied: MarkupSafe>=2.0 in /home/antoine/.cache/pypoetry/virtualenvs/drake_ai-0bRsTVrO-py3.7/lib/python3.7/site-packages (from Jinja2>=3.0->Flask>=0.9->Flask_Cors) (2.1.2)\n",
            "\n",
            "\u001b[1m[\u001b[0m\u001b[34;49mnotice\u001b[0m\u001b[1;39;49m]\u001b[0m\u001b[39;49m A new release of pip is available: \u001b[0m\u001b[31;49m23.0.1\u001b[0m\u001b[39;49m -> \u001b[0m\u001b[32;49m23.1\u001b[0m\n",
            "\u001b[1m[\u001b[0m\u001b[34;49mnotice\u001b[0m\u001b[1;39;49m]\u001b[0m\u001b[39;49m To update, run: \u001b[0m\u001b[32;49mpip install --upgrade pip\u001b[0m\n",
            "Looking in indexes: https://pypi.org/simple, https://download.pytorch.org/whl/cu116\n",
            "Requirement already satisfied: gradio in /home/antoine/.cache/pypoetry/virtualenvs/drake_ai-0bRsTVrO-py3.7/lib/python3.7/site-packages (3.27.0)\n",
            "Requirement already satisfied: typing-extensions in /home/antoine/.cache/pypoetry/virtualenvs/drake_ai-0bRsTVrO-py3.7/lib/python3.7/site-packages (from gradio) (4.5.0)\n",
            "Requirement already satisfied: semantic-version in /home/antoine/.cache/pypoetry/virtualenvs/drake_ai-0bRsTVrO-py3.7/lib/python3.7/site-packages (from gradio) (2.10.0)\n",
            "Requirement already satisfied: mdit-py-plugins<=0.3.3 in /home/antoine/.cache/pypoetry/virtualenvs/drake_ai-0bRsTVrO-py3.7/lib/python3.7/site-packages (from gradio) (0.3.3)\n",
            "Requirement already satisfied: pyyaml in /home/antoine/.cache/pypoetry/virtualenvs/drake_ai-0bRsTVrO-py3.7/lib/python3.7/site-packages (from gradio) (6.0)\n",
            "Requirement already satisfied: uvicorn in /home/antoine/.cache/pypoetry/virtualenvs/drake_ai-0bRsTVrO-py3.7/lib/python3.7/site-packages (from gradio) (0.21.1)\n",
            "Requirement already satisfied: huggingface-hub>=0.13.0 in /home/antoine/.cache/pypoetry/virtualenvs/drake_ai-0bRsTVrO-py3.7/lib/python3.7/site-packages (from gradio) (0.13.4)\n",
            "Requirement already satisfied: orjson in /home/antoine/.cache/pypoetry/virtualenvs/drake_ai-0bRsTVrO-py3.7/lib/python3.7/site-packages (from gradio) (3.8.10)\n",
            "Requirement already satisfied: markdown-it-py[linkify]>=2.0.0 in /home/antoine/.cache/pypoetry/virtualenvs/drake_ai-0bRsTVrO-py3.7/lib/python3.7/site-packages (from gradio) (2.2.0)\n",
            "Requirement already satisfied: pydub in /home/antoine/.cache/pypoetry/virtualenvs/drake_ai-0bRsTVrO-py3.7/lib/python3.7/site-packages (from gradio) (0.25.1)\n",
            "Requirement already satisfied: gradio-client>=0.1.3 in /home/antoine/.cache/pypoetry/virtualenvs/drake_ai-0bRsTVrO-py3.7/lib/python3.7/site-packages (from gradio) (0.1.3)\n",
            "Requirement already satisfied: numpy in /home/antoine/.cache/pypoetry/virtualenvs/drake_ai-0bRsTVrO-py3.7/lib/python3.7/site-packages (from gradio) (1.21.0)\n",
            "Requirement already satisfied: pydantic in /home/antoine/.cache/pypoetry/virtualenvs/drake_ai-0bRsTVrO-py3.7/lib/python3.7/site-packages (from gradio) (1.10.7)\n",
            "Requirement already satisfied: pillow in /home/antoine/.cache/pypoetry/virtualenvs/drake_ai-0bRsTVrO-py3.7/lib/python3.7/site-packages (from gradio) (9.5.0)\n",
            "Requirement already satisfied: fastapi in /home/antoine/.cache/pypoetry/virtualenvs/drake_ai-0bRsTVrO-py3.7/lib/python3.7/site-packages (from gradio) (0.95.1)\n",
            "Requirement already satisfied: python-multipart in /home/antoine/.cache/pypoetry/virtualenvs/drake_ai-0bRsTVrO-py3.7/lib/python3.7/site-packages (from gradio) (0.0.6)\n",
            "Requirement already satisfied: ffmpy in /home/antoine/.cache/pypoetry/virtualenvs/drake_ai-0bRsTVrO-py3.7/lib/python3.7/site-packages (from gradio) (0.3.0)\n",
            "Requirement already satisfied: jinja2 in /home/antoine/.cache/pypoetry/virtualenvs/drake_ai-0bRsTVrO-py3.7/lib/python3.7/site-packages (from gradio) (3.1.2)\n",
            "Requirement already satisfied: aiohttp in /home/antoine/.cache/pypoetry/virtualenvs/drake_ai-0bRsTVrO-py3.7/lib/python3.7/site-packages (from gradio) (3.8.4)\n",
            "Requirement already satisfied: websockets>=10.0 in /home/antoine/.cache/pypoetry/virtualenvs/drake_ai-0bRsTVrO-py3.7/lib/python3.7/site-packages (from gradio) (11.0.2)\n",
            "Requirement already satisfied: aiofiles in /home/antoine/.cache/pypoetry/virtualenvs/drake_ai-0bRsTVrO-py3.7/lib/python3.7/site-packages (from gradio) (23.1.0)\n",
            "Requirement already satisfied: markupsafe in /home/antoine/.cache/pypoetry/virtualenvs/drake_ai-0bRsTVrO-py3.7/lib/python3.7/site-packages (from gradio) (2.1.2)\n",
            "Requirement already satisfied: httpx in /home/antoine/.cache/pypoetry/virtualenvs/drake_ai-0bRsTVrO-py3.7/lib/python3.7/site-packages (from gradio) (0.24.0)\n",
            "Requirement already satisfied: matplotlib in /home/antoine/.cache/pypoetry/virtualenvs/drake_ai-0bRsTVrO-py3.7/lib/python3.7/site-packages (from gradio) (3.5.3)\n",
            "Requirement already satisfied: altair>=4.2.0 in /home/antoine/.cache/pypoetry/virtualenvs/drake_ai-0bRsTVrO-py3.7/lib/python3.7/site-packages (from gradio) (4.2.2)\n",
            "Requirement already satisfied: pandas in /home/antoine/.cache/pypoetry/virtualenvs/drake_ai-0bRsTVrO-py3.7/lib/python3.7/site-packages (from gradio) (1.3.5)\n",
            "Requirement already satisfied: requests in /home/antoine/.cache/pypoetry/virtualenvs/drake_ai-0bRsTVrO-py3.7/lib/python3.7/site-packages (from gradio) (2.28.2)\n",
            "Requirement already satisfied: toolz in /home/antoine/.cache/pypoetry/virtualenvs/drake_ai-0bRsTVrO-py3.7/lib/python3.7/site-packages (from altair>=4.2.0->gradio) (0.12.0)\n",
            "Requirement already satisfied: jsonschema>=3.0 in /home/antoine/.cache/pypoetry/virtualenvs/drake_ai-0bRsTVrO-py3.7/lib/python3.7/site-packages (from altair>=4.2.0->gradio) (4.17.3)\n",
            "Requirement already satisfied: entrypoints in /home/antoine/.cache/pypoetry/virtualenvs/drake_ai-0bRsTVrO-py3.7/lib/python3.7/site-packages (from altair>=4.2.0->gradio) (0.4)\n",
            "Requirement already satisfied: packaging in /home/antoine/.cache/pypoetry/virtualenvs/drake_ai-0bRsTVrO-py3.7/lib/python3.7/site-packages (from gradio-client>=0.1.3->gradio) (23.1)\n",
            "Requirement already satisfied: fsspec in /home/antoine/.cache/pypoetry/virtualenvs/drake_ai-0bRsTVrO-py3.7/lib/python3.7/site-packages (from gradio-client>=0.1.3->gradio) (2023.1.0)\n",
            "Requirement already satisfied: tqdm>=4.42.1 in /home/antoine/.cache/pypoetry/virtualenvs/drake_ai-0bRsTVrO-py3.7/lib/python3.7/site-packages (from huggingface-hub>=0.13.0->gradio) (4.65.0)\n",
            "Requirement already satisfied: filelock in /home/antoine/.cache/pypoetry/virtualenvs/drake_ai-0bRsTVrO-py3.7/lib/python3.7/site-packages (from huggingface-hub>=0.13.0->gradio) (3.12.0)\n",
            "Requirement already satisfied: importlib-metadata in /home/antoine/.cache/pypoetry/virtualenvs/drake_ai-0bRsTVrO-py3.7/lib/python3.7/site-packages (from huggingface-hub>=0.13.0->gradio) (6.5.0)\n",
            "Requirement already satisfied: mdurl~=0.1 in /home/antoine/.cache/pypoetry/virtualenvs/drake_ai-0bRsTVrO-py3.7/lib/python3.7/site-packages (from markdown-it-py[linkify]>=2.0.0->gradio) (0.1.2)\n",
            "Requirement already satisfied: linkify-it-py<3,>=1 in /home/antoine/.cache/pypoetry/virtualenvs/drake_ai-0bRsTVrO-py3.7/lib/python3.7/site-packages (from markdown-it-py[linkify]>=2.0.0->gradio) (2.0.0)\n",
            "Requirement already satisfied: python-dateutil>=2.7.3 in /home/antoine/.cache/pypoetry/virtualenvs/drake_ai-0bRsTVrO-py3.7/lib/python3.7/site-packages (from pandas->gradio) (2.8.2)\n",
            "Requirement already satisfied: pytz>=2017.3 in /home/antoine/.cache/pypoetry/virtualenvs/drake_ai-0bRsTVrO-py3.7/lib/python3.7/site-packages (from pandas->gradio) (2023.3)\n",
            "Requirement already satisfied: asynctest==0.13.0 in /home/antoine/.cache/pypoetry/virtualenvs/drake_ai-0bRsTVrO-py3.7/lib/python3.7/site-packages (from aiohttp->gradio) (0.13.0)\n",
            "Requirement already satisfied: async-timeout<5.0,>=4.0.0a3 in /home/antoine/.cache/pypoetry/virtualenvs/drake_ai-0bRsTVrO-py3.7/lib/python3.7/site-packages (from aiohttp->gradio) (4.0.2)\n",
            "Requirement already satisfied: aiosignal>=1.1.2 in /home/antoine/.cache/pypoetry/virtualenvs/drake_ai-0bRsTVrO-py3.7/lib/python3.7/site-packages (from aiohttp->gradio) (1.3.1)\n",
            "Requirement already satisfied: multidict<7.0,>=4.5 in /home/antoine/.cache/pypoetry/virtualenvs/drake_ai-0bRsTVrO-py3.7/lib/python3.7/site-packages (from aiohttp->gradio) (6.0.4)\n",
            "Requirement already satisfied: frozenlist>=1.1.1 in /home/antoine/.cache/pypoetry/virtualenvs/drake_ai-0bRsTVrO-py3.7/lib/python3.7/site-packages (from aiohttp->gradio) (1.3.3)\n",
            "Requirement already satisfied: attrs>=17.3.0 in /home/antoine/.cache/pypoetry/virtualenvs/drake_ai-0bRsTVrO-py3.7/lib/python3.7/site-packages (from aiohttp->gradio) (23.1.0)\n",
            "Requirement already satisfied: yarl<2.0,>=1.0 in /home/antoine/.cache/pypoetry/virtualenvs/drake_ai-0bRsTVrO-py3.7/lib/python3.7/site-packages (from aiohttp->gradio) (1.8.2)\n",
            "Requirement already satisfied: charset-normalizer<4.0,>=2.0 in /home/antoine/.cache/pypoetry/virtualenvs/drake_ai-0bRsTVrO-py3.7/lib/python3.7/site-packages (from aiohttp->gradio) (3.1.0)\n",
            "Requirement already satisfied: starlette<0.27.0,>=0.26.1 in /home/antoine/.cache/pypoetry/virtualenvs/drake_ai-0bRsTVrO-py3.7/lib/python3.7/site-packages (from fastapi->gradio) (0.26.1)\n",
            "Requirement already satisfied: httpcore<0.18.0,>=0.15.0 in /home/antoine/.cache/pypoetry/virtualenvs/drake_ai-0bRsTVrO-py3.7/lib/python3.7/site-packages (from httpx->gradio) (0.17.0)\n",
            "Requirement already satisfied: certifi in /home/antoine/.cache/pypoetry/virtualenvs/drake_ai-0bRsTVrO-py3.7/lib/python3.7/site-packages (from httpx->gradio) (2022.12.7)\n",
            "Requirement already satisfied: sniffio in /home/antoine/.cache/pypoetry/virtualenvs/drake_ai-0bRsTVrO-py3.7/lib/python3.7/site-packages (from httpx->gradio) (1.3.0)\n",
            "Requirement already satisfied: idna in /home/antoine/.cache/pypoetry/virtualenvs/drake_ai-0bRsTVrO-py3.7/lib/python3.7/site-packages (from httpx->gradio) (3.4)\n",
            "Requirement already satisfied: fonttools>=4.22.0 in /home/antoine/.cache/pypoetry/virtualenvs/drake_ai-0bRsTVrO-py3.7/lib/python3.7/site-packages (from matplotlib->gradio) (4.38.0)\n",
            "Requirement already satisfied: pyparsing>=2.2.1 in /home/antoine/.cache/pypoetry/virtualenvs/drake_ai-0bRsTVrO-py3.7/lib/python3.7/site-packages (from matplotlib->gradio) (3.0.9)\n",
            "Requirement already satisfied: cycler>=0.10 in /home/antoine/.cache/pypoetry/virtualenvs/drake_ai-0bRsTVrO-py3.7/lib/python3.7/site-packages (from matplotlib->gradio) (0.11.0)\n",
            "Requirement already satisfied: kiwisolver>=1.0.1 in /home/antoine/.cache/pypoetry/virtualenvs/drake_ai-0bRsTVrO-py3.7/lib/python3.7/site-packages (from matplotlib->gradio) (1.4.4)\n",
            "Requirement already satisfied: urllib3<1.27,>=1.21.1 in /home/antoine/.cache/pypoetry/virtualenvs/drake_ai-0bRsTVrO-py3.7/lib/python3.7/site-packages (from requests->gradio) (1.26.15)\n",
            "Requirement already satisfied: click>=7.0 in /home/antoine/.cache/pypoetry/virtualenvs/drake_ai-0bRsTVrO-py3.7/lib/python3.7/site-packages (from uvicorn->gradio) (8.1.3)\n",
            "Requirement already satisfied: h11>=0.8 in /home/antoine/.cache/pypoetry/virtualenvs/drake_ai-0bRsTVrO-py3.7/lib/python3.7/site-packages (from uvicorn->gradio) (0.14.0)\n",
            "Requirement already satisfied: anyio<5.0,>=3.0 in /home/antoine/.cache/pypoetry/virtualenvs/drake_ai-0bRsTVrO-py3.7/lib/python3.7/site-packages (from httpcore<0.18.0,>=0.15.0->httpx->gradio) (3.6.2)\n",
            "Requirement already satisfied: importlib-resources>=1.4.0 in /home/antoine/.cache/pypoetry/virtualenvs/drake_ai-0bRsTVrO-py3.7/lib/python3.7/site-packages (from jsonschema>=3.0->altair>=4.2.0->gradio) (5.12.0)\n",
            "Requirement already satisfied: pyrsistent!=0.17.0,!=0.17.1,!=0.17.2,>=0.14.0 in /home/antoine/.cache/pypoetry/virtualenvs/drake_ai-0bRsTVrO-py3.7/lib/python3.7/site-packages (from jsonschema>=3.0->altair>=4.2.0->gradio) (0.19.3)\n",
            "Requirement already satisfied: pkgutil-resolve-name>=1.3.10 in /home/antoine/.cache/pypoetry/virtualenvs/drake_ai-0bRsTVrO-py3.7/lib/python3.7/site-packages (from jsonschema>=3.0->altair>=4.2.0->gradio) (1.3.10)\n",
            "Requirement already satisfied: uc-micro-py in /home/antoine/.cache/pypoetry/virtualenvs/drake_ai-0bRsTVrO-py3.7/lib/python3.7/site-packages (from linkify-it-py<3,>=1->markdown-it-py[linkify]>=2.0.0->gradio) (1.0.1)\n",
            "Requirement already satisfied: six>=1.5 in /home/antoine/.cache/pypoetry/virtualenvs/drake_ai-0bRsTVrO-py3.7/lib/python3.7/site-packages (from python-dateutil>=2.7.3->pandas->gradio) (1.16.0)\n",
            "Requirement already satisfied: zipp>=0.5 in /home/antoine/.cache/pypoetry/virtualenvs/drake_ai-0bRsTVrO-py3.7/lib/python3.7/site-packages (from importlib-metadata->huggingface-hub>=0.13.0->gradio) (3.15.0)\n",
            "\n",
            "\u001b[1m[\u001b[0m\u001b[34;49mnotice\u001b[0m\u001b[1;39;49m]\u001b[0m\u001b[39;49m A new release of pip is available: \u001b[0m\u001b[31;49m23.0.1\u001b[0m\u001b[39;49m -> \u001b[0m\u001b[32;49m23.1\u001b[0m\n",
            "\u001b[1m[\u001b[0m\u001b[34;49mnotice\u001b[0m\u001b[1;39;49m]\u001b[0m\u001b[39;49m To update, run: \u001b[0m\u001b[32;49mpip install --upgrade pip\u001b[0m\n",
            "Looking in indexes: https://pypi.org/simple, https://download.pytorch.org/whl/cu116\n",
            "\u001b[31mERROR: Ignored the following versions that require a different python version: 1.22.0 Requires-Python >=3.8; 1.22.1 Requires-Python >=3.8; 1.22.2 Requires-Python >=3.8; 1.22.3 Requires-Python >=3.8; 1.22.4 Requires-Python >=3.8; 1.23.0 Requires-Python >=3.8; 1.23.0rc1 Requires-Python >=3.8; 1.23.0rc2 Requires-Python >=3.8; 1.23.0rc3 Requires-Python >=3.8; 1.23.1 Requires-Python >=3.8; 1.23.2 Requires-Python >=3.8; 1.23.3 Requires-Python >=3.8; 1.23.4 Requires-Python >=3.8; 1.23.5 Requires-Python >=3.8; 1.24.0 Requires-Python >=3.8; 1.24.0rc1 Requires-Python >=3.8; 1.24.0rc2 Requires-Python >=3.8; 1.24.1 Requires-Python >=3.8; 1.24.2 Requires-Python >=3.8\u001b[0m\u001b[31m\n",
            "\u001b[0m\u001b[31mERROR: Could not find a version that satisfies the requirement numpy==1.23.5 (from versions: 1.3.0, 1.4.1, 1.5.0, 1.5.1, 1.6.0, 1.6.1, 1.6.2, 1.7.0, 1.7.1, 1.7.2, 1.8.0, 1.8.1, 1.8.2, 1.9.0, 1.9.1, 1.9.2, 1.9.3, 1.10.0.post2, 1.10.1, 1.10.2, 1.10.4, 1.11.0, 1.11.1, 1.11.2, 1.11.3, 1.12.0, 1.12.1, 1.13.0, 1.13.1, 1.13.3, 1.14.0, 1.14.1, 1.14.2, 1.14.3, 1.14.4, 1.14.5, 1.14.6, 1.15.0, 1.15.1, 1.15.2, 1.15.3, 1.15.4, 1.16.0, 1.16.1, 1.16.2, 1.16.3, 1.16.4, 1.16.5, 1.16.6, 1.17.0, 1.17.1, 1.17.2, 1.17.3, 1.17.4, 1.17.5, 1.18.0, 1.18.1, 1.18.2, 1.18.3, 1.18.4, 1.18.5, 1.19.0, 1.19.1, 1.19.2, 1.19.3, 1.19.4, 1.19.5, 1.20.0, 1.20.1, 1.20.2, 1.20.3, 1.21.0, 1.21.1, 1.21.2, 1.21.3, 1.21.4, 1.21.5, 1.21.6)\u001b[0m\u001b[31m\n",
            "\u001b[0m\u001b[31mERROR: No matching distribution found for numpy==1.23.5\u001b[0m\u001b[31m\n",
            "\u001b[0m\n",
            "\u001b[1m[\u001b[0m\u001b[34;49mnotice\u001b[0m\u001b[1;39;49m]\u001b[0m\u001b[39;49m A new release of pip is available: \u001b[0m\u001b[31;49m23.0.1\u001b[0m\u001b[39;49m -> \u001b[0m\u001b[32;49m23.1\u001b[0m\n",
            "\u001b[1m[\u001b[0m\u001b[34;49mnotice\u001b[0m\u001b[1;39;49m]\u001b[0m\u001b[39;49m To update, run: \u001b[0m\u001b[32;49mpip install --upgrade pip\u001b[0m\n",
            "Looking in indexes: https://pypi.org/simple, https://download.pytorch.org/whl/cu116\n",
            "Requirement already satisfied: numba==0.56.4 in /home/antoine/.cache/pypoetry/virtualenvs/drake_ai-0bRsTVrO-py3.7/lib/python3.7/site-packages (0.56.4)\n",
            "Requirement already satisfied: importlib-metadata in /home/antoine/.cache/pypoetry/virtualenvs/drake_ai-0bRsTVrO-py3.7/lib/python3.7/site-packages (from numba==0.56.4) (6.5.0)\n",
            "Requirement already satisfied: setuptools in /home/antoine/.cache/pypoetry/virtualenvs/drake_ai-0bRsTVrO-py3.7/lib/python3.7/site-packages (from numba==0.56.4) (67.6.1)\n",
            "Requirement already satisfied: numpy<1.24,>=1.18 in /home/antoine/.cache/pypoetry/virtualenvs/drake_ai-0bRsTVrO-py3.7/lib/python3.7/site-packages (from numba==0.56.4) (1.21.0)\n",
            "Requirement already satisfied: llvmlite<0.40,>=0.39.0dev0 in /home/antoine/.cache/pypoetry/virtualenvs/drake_ai-0bRsTVrO-py3.7/lib/python3.7/site-packages (from numba==0.56.4) (0.39.1)\n",
            "Requirement already satisfied: typing-extensions>=3.6.4 in /home/antoine/.cache/pypoetry/virtualenvs/drake_ai-0bRsTVrO-py3.7/lib/python3.7/site-packages (from importlib-metadata->numba==0.56.4) (4.5.0)\n",
            "Requirement already satisfied: zipp>=0.5 in /home/antoine/.cache/pypoetry/virtualenvs/drake_ai-0bRsTVrO-py3.7/lib/python3.7/site-packages (from importlib-metadata->numba==0.56.4) (3.15.0)\n",
            "\n",
            "\u001b[1m[\u001b[0m\u001b[34;49mnotice\u001b[0m\u001b[1;39;49m]\u001b[0m\u001b[39;49m A new release of pip is available: \u001b[0m\u001b[31;49m23.0.1\u001b[0m\u001b[39;49m -> \u001b[0m\u001b[32;49m23.1\u001b[0m\n",
            "\u001b[1m[\u001b[0m\u001b[34;49mnotice\u001b[0m\u001b[1;39;49m]\u001b[0m\u001b[39;49m To update, run: \u001b[0m\u001b[32;49mpip install --upgrade pip\u001b[0m\n",
            "Looking in indexes: https://pypi.org/simple, https://download.pytorch.org/whl/cu116\n",
            "Requirement already satisfied: pyworld==0.3.0 in /home/antoine/.cache/pypoetry/virtualenvs/drake_ai-0bRsTVrO-py3.7/lib/python3.7/site-packages (0.3.0)\n",
            "Requirement already satisfied: cython>=0.24.0 in /home/antoine/.cache/pypoetry/virtualenvs/drake_ai-0bRsTVrO-py3.7/lib/python3.7/site-packages (from pyworld==0.3.0) (0.29.34)\n",
            "Requirement already satisfied: numpy in /home/antoine/.cache/pypoetry/virtualenvs/drake_ai-0bRsTVrO-py3.7/lib/python3.7/site-packages (from pyworld==0.3.0) (1.21.0)\n",
            "\n",
            "\u001b[1m[\u001b[0m\u001b[34;49mnotice\u001b[0m\u001b[1;39;49m]\u001b[0m\u001b[39;49m A new release of pip is available: \u001b[0m\u001b[31;49m23.0.1\u001b[0m\u001b[39;49m -> \u001b[0m\u001b[32;49m23.1\u001b[0m\n",
            "\u001b[1m[\u001b[0m\u001b[34;49mnotice\u001b[0m\u001b[1;39;49m]\u001b[0m\u001b[39;49m To update, run: \u001b[0m\u001b[32;49mpip install --upgrade pip\u001b[0m\n",
            "Looking in indexes: https://pypi.org/simple, https://download.pytorch.org/whl/cu116\n",
            "\u001b[31mERROR: Ignored the following versions that require a different python version: 1.10.0 Requires-Python <3.12,>=3.8; 1.10.0rc1 Requires-Python <3.12,>=3.8; 1.10.0rc2 Requires-Python <3.12,>=3.8; 1.10.1 Requires-Python <3.12,>=3.8; 1.8.0 Requires-Python >=3.8,<3.11; 1.8.0rc1 Requires-Python >=3.8,<3.11; 1.8.0rc2 Requires-Python >=3.8,<3.11; 1.8.0rc3 Requires-Python >=3.8,<3.11; 1.8.0rc4 Requires-Python >=3.8,<3.11; 1.8.1 Requires-Python >=3.8,<3.11; 1.9.0 Requires-Python >=3.8,<3.12; 1.9.0rc1 Requires-Python >=3.8,<3.12; 1.9.0rc2 Requires-Python >=3.8,<3.12; 1.9.0rc3 Requires-Python >=3.8,<3.12; 1.9.1 Requires-Python >=3.8,<3.12; 1.9.2 Requires-Python >=3.8; 1.9.3 Requires-Python >=3.8\u001b[0m\u001b[31m\n",
            "\u001b[0m\u001b[31mERROR: Could not find a version that satisfies the requirement scipy==1.10.1 (from versions: 0.8.0, 0.9.0, 0.10.0, 0.10.1, 0.11.0, 0.12.0, 0.12.1, 0.13.0, 0.13.1, 0.13.2, 0.13.3, 0.14.0, 0.14.1, 0.15.0, 0.15.1, 0.16.0, 0.16.1, 0.17.0, 0.17.1, 0.18.0, 0.18.1, 0.19.0, 0.19.1, 1.0.0, 1.0.1, 1.1.0, 1.2.0, 1.2.1, 1.2.2, 1.2.3, 1.3.0, 1.3.1, 1.3.2, 1.3.3, 1.4.0, 1.4.1, 1.5.0, 1.5.1, 1.5.2, 1.5.3, 1.5.4, 1.6.0, 1.6.1, 1.6.2, 1.6.3, 1.7.0rc1, 1.7.0rc2, 1.7.0, 1.7.1, 1.7.2, 1.7.3)\u001b[0m\u001b[31m\n",
            "\u001b[0m\u001b[31mERROR: No matching distribution found for scipy==1.10.1\u001b[0m\u001b[31m\n",
            "\u001b[0m\n",
            "\u001b[1m[\u001b[0m\u001b[34;49mnotice\u001b[0m\u001b[1;39;49m]\u001b[0m\u001b[39;49m A new release of pip is available: \u001b[0m\u001b[31;49m23.0.1\u001b[0m\u001b[39;49m -> \u001b[0m\u001b[32;49m23.1\u001b[0m\n",
            "\u001b[1m[\u001b[0m\u001b[34;49mnotice\u001b[0m\u001b[1;39;49m]\u001b[0m\u001b[39;49m To update, run: \u001b[0m\u001b[32;49mpip install --upgrade pip\u001b[0m\n",
            "Looking in indexes: https://pypi.org/simple, https://download.pytorch.org/whl/cu116\n",
            "Requirement already satisfied: SoundFile==0.12.1 in /home/antoine/.cache/pypoetry/virtualenvs/drake_ai-0bRsTVrO-py3.7/lib/python3.7/site-packages (0.12.1)\n",
            "Requirement already satisfied: cffi>=1.0 in /home/antoine/.cache/pypoetry/virtualenvs/drake_ai-0bRsTVrO-py3.7/lib/python3.7/site-packages (from SoundFile==0.12.1) (1.15.1)\n",
            "Requirement already satisfied: pycparser in /home/antoine/.cache/pypoetry/virtualenvs/drake_ai-0bRsTVrO-py3.7/lib/python3.7/site-packages (from cffi>=1.0->SoundFile==0.12.1) (2.21)\n",
            "\n",
            "\u001b[1m[\u001b[0m\u001b[34;49mnotice\u001b[0m\u001b[1;39;49m]\u001b[0m\u001b[39;49m A new release of pip is available: \u001b[0m\u001b[31;49m23.0.1\u001b[0m\u001b[39;49m -> \u001b[0m\u001b[32;49m23.1\u001b[0m\n",
            "\u001b[1m[\u001b[0m\u001b[34;49mnotice\u001b[0m\u001b[1;39;49m]\u001b[0m\u001b[39;49m To update, run: \u001b[0m\u001b[32;49mpip install --upgrade pip\u001b[0m\n",
            "Looking in indexes: https://pypi.org/simple, https://download.pytorch.org/whl/cu116\n",
            "Requirement already satisfied: torch==1.13.1 in /home/antoine/.cache/pypoetry/virtualenvs/drake_ai-0bRsTVrO-py3.7/lib/python3.7/site-packages (1.13.1)\n",
            "Requirement already satisfied: nvidia-cudnn-cu11==8.5.0.96 in /home/antoine/.cache/pypoetry/virtualenvs/drake_ai-0bRsTVrO-py3.7/lib/python3.7/site-packages (from torch==1.13.1) (8.5.0.96)\n",
            "Requirement already satisfied: nvidia-cublas-cu11==11.10.3.66 in /home/antoine/.cache/pypoetry/virtualenvs/drake_ai-0bRsTVrO-py3.7/lib/python3.7/site-packages (from torch==1.13.1) (11.10.3.66)\n",
            "Requirement already satisfied: nvidia-cuda-nvrtc-cu11==11.7.99 in /home/antoine/.cache/pypoetry/virtualenvs/drake_ai-0bRsTVrO-py3.7/lib/python3.7/site-packages (from torch==1.13.1) (11.7.99)\n",
            "Requirement already satisfied: typing-extensions in /home/antoine/.cache/pypoetry/virtualenvs/drake_ai-0bRsTVrO-py3.7/lib/python3.7/site-packages (from torch==1.13.1) (4.5.0)\n",
            "Requirement already satisfied: nvidia-cuda-runtime-cu11==11.7.99 in /home/antoine/.cache/pypoetry/virtualenvs/drake_ai-0bRsTVrO-py3.7/lib/python3.7/site-packages (from torch==1.13.1) (11.7.99)\n",
            "Requirement already satisfied: wheel in /home/antoine/.cache/pypoetry/virtualenvs/drake_ai-0bRsTVrO-py3.7/lib/python3.7/site-packages (from nvidia-cublas-cu11==11.10.3.66->torch==1.13.1) (0.40.0)\n",
            "Requirement already satisfied: setuptools in /home/antoine/.cache/pypoetry/virtualenvs/drake_ai-0bRsTVrO-py3.7/lib/python3.7/site-packages (from nvidia-cublas-cu11==11.10.3.66->torch==1.13.1) (67.6.1)\n",
            "\n",
            "\u001b[1m[\u001b[0m\u001b[34;49mnotice\u001b[0m\u001b[1;39;49m]\u001b[0m\u001b[39;49m A new release of pip is available: \u001b[0m\u001b[31;49m23.0.1\u001b[0m\u001b[39;49m -> \u001b[0m\u001b[32;49m23.1\u001b[0m\n",
            "\u001b[1m[\u001b[0m\u001b[34;49mnotice\u001b[0m\u001b[1;39;49m]\u001b[0m\u001b[39;49m To update, run: \u001b[0m\u001b[32;49mpip install --upgrade pip\u001b[0m\n",
            "Looking in indexes: https://pypi.org/simple, https://download.pytorch.org/whl/cu116\n",
            "Requirement already satisfied: torchaudio==0.13.1 in /home/antoine/.cache/pypoetry/virtualenvs/drake_ai-0bRsTVrO-py3.7/lib/python3.7/site-packages (0.13.1)\n",
            "Requirement already satisfied: torch==1.13.1 in /home/antoine/.cache/pypoetry/virtualenvs/drake_ai-0bRsTVrO-py3.7/lib/python3.7/site-packages (from torchaudio==0.13.1) (1.13.1)\n",
            "Requirement already satisfied: typing-extensions in /home/antoine/.cache/pypoetry/virtualenvs/drake_ai-0bRsTVrO-py3.7/lib/python3.7/site-packages (from torch==1.13.1->torchaudio==0.13.1) (4.5.0)\n",
            "Requirement already satisfied: nvidia-cudnn-cu11==8.5.0.96 in /home/antoine/.cache/pypoetry/virtualenvs/drake_ai-0bRsTVrO-py3.7/lib/python3.7/site-packages (from torch==1.13.1->torchaudio==0.13.1) (8.5.0.96)\n",
            "Requirement already satisfied: nvidia-cublas-cu11==11.10.3.66 in /home/antoine/.cache/pypoetry/virtualenvs/drake_ai-0bRsTVrO-py3.7/lib/python3.7/site-packages (from torch==1.13.1->torchaudio==0.13.1) (11.10.3.66)\n",
            "Requirement already satisfied: nvidia-cuda-nvrtc-cu11==11.7.99 in /home/antoine/.cache/pypoetry/virtualenvs/drake_ai-0bRsTVrO-py3.7/lib/python3.7/site-packages (from torch==1.13.1->torchaudio==0.13.1) (11.7.99)\n",
            "Requirement already satisfied: nvidia-cuda-runtime-cu11==11.7.99 in /home/antoine/.cache/pypoetry/virtualenvs/drake_ai-0bRsTVrO-py3.7/lib/python3.7/site-packages (from torch==1.13.1->torchaudio==0.13.1) (11.7.99)\n",
            "Requirement already satisfied: wheel in /home/antoine/.cache/pypoetry/virtualenvs/drake_ai-0bRsTVrO-py3.7/lib/python3.7/site-packages (from nvidia-cublas-cu11==11.10.3.66->torch==1.13.1->torchaudio==0.13.1) (0.40.0)\n",
            "Requirement already satisfied: setuptools in /home/antoine/.cache/pypoetry/virtualenvs/drake_ai-0bRsTVrO-py3.7/lib/python3.7/site-packages (from nvidia-cublas-cu11==11.10.3.66->torch==1.13.1->torchaudio==0.13.1) (67.6.1)\n",
            "\n",
            "\u001b[1m[\u001b[0m\u001b[34;49mnotice\u001b[0m\u001b[1;39;49m]\u001b[0m\u001b[39;49m A new release of pip is available: \u001b[0m\u001b[31;49m23.0.1\u001b[0m\u001b[39;49m -> \u001b[0m\u001b[32;49m23.1\u001b[0m\n",
            "\u001b[1m[\u001b[0m\u001b[34;49mnotice\u001b[0m\u001b[1;39;49m]\u001b[0m\u001b[39;49m To update, run: \u001b[0m\u001b[32;49mpip install --upgrade pip\u001b[0m\n",
            "Looking in indexes: https://pypi.org/simple, https://download.pytorch.org/whl/cu116\n",
            "Requirement already satisfied: tqdm in /home/antoine/.cache/pypoetry/virtualenvs/drake_ai-0bRsTVrO-py3.7/lib/python3.7/site-packages (4.65.0)\n",
            "\n",
            "\u001b[1m[\u001b[0m\u001b[34;49mnotice\u001b[0m\u001b[1;39;49m]\u001b[0m\u001b[39;49m A new release of pip is available: \u001b[0m\u001b[31;49m23.0.1\u001b[0m\u001b[39;49m -> \u001b[0m\u001b[32;49m23.1\u001b[0m\n",
            "\u001b[1m[\u001b[0m\u001b[34;49mnotice\u001b[0m\u001b[1;39;49m]\u001b[0m\u001b[39;49m To update, run: \u001b[0m\u001b[32;49mpip install --upgrade pip\u001b[0m\n",
            "Looking in indexes: https://pypi.org/simple, https://download.pytorch.org/whl/cu116\n",
            "Requirement already satisfied: scikit-maad in /home/antoine/.cache/pypoetry/virtualenvs/drake_ai-0bRsTVrO-py3.7/lib/python3.7/site-packages (1.3.12)\n",
            "Requirement already satisfied: pandas>=1.1 in /home/antoine/.cache/pypoetry/virtualenvs/drake_ai-0bRsTVrO-py3.7/lib/python3.7/site-packages (from scikit-maad) (1.3.5)\n",
            "Requirement already satisfied: resampy>=0.2 in /home/antoine/.cache/pypoetry/virtualenvs/drake_ai-0bRsTVrO-py3.7/lib/python3.7/site-packages (from scikit-maad) (0.4.2)\n",
            "Requirement already satisfied: scikit-image>=0.17 in /home/antoine/.cache/pypoetry/virtualenvs/drake_ai-0bRsTVrO-py3.7/lib/python3.7/site-packages (from scikit-maad) (0.19.3)\n",
            "Requirement already satisfied: numpy>=1.19 in /home/antoine/.cache/pypoetry/virtualenvs/drake_ai-0bRsTVrO-py3.7/lib/python3.7/site-packages (from scikit-maad) (1.21.0)\n",
            "Requirement already satisfied: scipy>=1.5 in /home/antoine/.cache/pypoetry/virtualenvs/drake_ai-0bRsTVrO-py3.7/lib/python3.7/site-packages (from scikit-maad) (1.7.3)\n",
            "Requirement already satisfied: python-dateutil>=2.7.3 in /home/antoine/.cache/pypoetry/virtualenvs/drake_ai-0bRsTVrO-py3.7/lib/python3.7/site-packages (from pandas>=1.1->scikit-maad) (2.8.2)\n",
            "Requirement already satisfied: pytz>=2017.3 in /home/antoine/.cache/pypoetry/virtualenvs/drake_ai-0bRsTVrO-py3.7/lib/python3.7/site-packages (from pandas>=1.1->scikit-maad) (2023.3)\n",
            "Requirement already satisfied: numba>=0.53 in /home/antoine/.cache/pypoetry/virtualenvs/drake_ai-0bRsTVrO-py3.7/lib/python3.7/site-packages (from resampy>=0.2->scikit-maad) (0.56.4)\n",
            "Requirement already satisfied: networkx>=2.2 in /home/antoine/.cache/pypoetry/virtualenvs/drake_ai-0bRsTVrO-py3.7/lib/python3.7/site-packages (from scikit-image>=0.17->scikit-maad) (2.6.3)\n",
            "Requirement already satisfied: imageio>=2.4.1 in /home/antoine/.cache/pypoetry/virtualenvs/drake_ai-0bRsTVrO-py3.7/lib/python3.7/site-packages (from scikit-image>=0.17->scikit-maad) (2.27.0)\n",
            "Requirement already satisfied: pillow!=7.1.0,!=7.1.1,!=8.3.0,>=6.1.0 in /home/antoine/.cache/pypoetry/virtualenvs/drake_ai-0bRsTVrO-py3.7/lib/python3.7/site-packages (from scikit-image>=0.17->scikit-maad) (9.5.0)\n",
            "Requirement already satisfied: tifffile>=2019.7.26 in /home/antoine/.cache/pypoetry/virtualenvs/drake_ai-0bRsTVrO-py3.7/lib/python3.7/site-packages (from scikit-image>=0.17->scikit-maad) (2021.11.2)\n",
            "Requirement already satisfied: packaging>=20.0 in /home/antoine/.cache/pypoetry/virtualenvs/drake_ai-0bRsTVrO-py3.7/lib/python3.7/site-packages (from scikit-image>=0.17->scikit-maad) (23.1)\n",
            "Requirement already satisfied: PyWavelets>=1.1.1 in /home/antoine/.cache/pypoetry/virtualenvs/drake_ai-0bRsTVrO-py3.7/lib/python3.7/site-packages (from scikit-image>=0.17->scikit-maad) (1.3.0)\n",
            "Requirement already satisfied: llvmlite<0.40,>=0.39.0dev0 in /home/antoine/.cache/pypoetry/virtualenvs/drake_ai-0bRsTVrO-py3.7/lib/python3.7/site-packages (from numba>=0.53->resampy>=0.2->scikit-maad) (0.39.1)\n",
            "Requirement already satisfied: importlib-metadata in /home/antoine/.cache/pypoetry/virtualenvs/drake_ai-0bRsTVrO-py3.7/lib/python3.7/site-packages (from numba>=0.53->resampy>=0.2->scikit-maad) (6.5.0)\n",
            "Requirement already satisfied: setuptools in /home/antoine/.cache/pypoetry/virtualenvs/drake_ai-0bRsTVrO-py3.7/lib/python3.7/site-packages (from numba>=0.53->resampy>=0.2->scikit-maad) (67.6.1)\n",
            "Requirement already satisfied: six>=1.5 in /home/antoine/.cache/pypoetry/virtualenvs/drake_ai-0bRsTVrO-py3.7/lib/python3.7/site-packages (from python-dateutil>=2.7.3->pandas>=1.1->scikit-maad) (1.16.0)\n",
            "Requirement already satisfied: zipp>=0.5 in /home/antoine/.cache/pypoetry/virtualenvs/drake_ai-0bRsTVrO-py3.7/lib/python3.7/site-packages (from importlib-metadata->numba>=0.53->resampy>=0.2->scikit-maad) (3.15.0)\n",
            "Requirement already satisfied: typing-extensions>=3.6.4 in /home/antoine/.cache/pypoetry/virtualenvs/drake_ai-0bRsTVrO-py3.7/lib/python3.7/site-packages (from importlib-metadata->numba>=0.53->resampy>=0.2->scikit-maad) (4.5.0)\n",
            "\n",
            "\u001b[1m[\u001b[0m\u001b[34;49mnotice\u001b[0m\u001b[1;39;49m]\u001b[0m\u001b[39;49m A new release of pip is available: \u001b[0m\u001b[31;49m23.0.1\u001b[0m\u001b[39;49m -> \u001b[0m\u001b[32;49m23.1\u001b[0m\n",
            "\u001b[1m[\u001b[0m\u001b[34;49mnotice\u001b[0m\u001b[1;39;49m]\u001b[0m\u001b[39;49m To update, run: \u001b[0m\u001b[32;49mpip install --upgrade pip\u001b[0m\n",
            "Looking in indexes: https://pypi.org/simple, https://download.pytorch.org/whl/cu116\n",
            "Requirement already satisfied: praat-parselmouth in /home/antoine/.cache/pypoetry/virtualenvs/drake_ai-0bRsTVrO-py3.7/lib/python3.7/site-packages (0.4.3)\n",
            "Requirement already satisfied: numpy>=1.7.0 in /home/antoine/.cache/pypoetry/virtualenvs/drake_ai-0bRsTVrO-py3.7/lib/python3.7/site-packages (from praat-parselmouth) (1.21.0)\n",
            "\n",
            "\u001b[1m[\u001b[0m\u001b[34;49mnotice\u001b[0m\u001b[1;39;49m]\u001b[0m\u001b[39;49m A new release of pip is available: \u001b[0m\u001b[31;49m23.0.1\u001b[0m\u001b[39;49m -> \u001b[0m\u001b[32;49m23.1\u001b[0m\n",
            "\u001b[1m[\u001b[0m\u001b[34;49mnotice\u001b[0m\u001b[1;39;49m]\u001b[0m\u001b[39;49m To update, run: \u001b[0m\u001b[32;49mpip install --upgrade pip\u001b[0m\n",
            "Looking in indexes: https://pypi.org/simple, https://download.pytorch.org/whl/cu116\n",
            "Requirement already satisfied: onnx in /home/antoine/.cache/pypoetry/virtualenvs/drake_ai-0bRsTVrO-py3.7/lib/python3.7/site-packages (1.13.1)\n",
            "Requirement already satisfied: numpy>=1.16.6 in /home/antoine/.cache/pypoetry/virtualenvs/drake_ai-0bRsTVrO-py3.7/lib/python3.7/site-packages (from onnx) (1.21.0)\n",
            "Requirement already satisfied: typing-extensions>=3.6.2.1 in /home/antoine/.cache/pypoetry/virtualenvs/drake_ai-0bRsTVrO-py3.7/lib/python3.7/site-packages (from onnx) (4.5.0)\n",
            "Collecting protobuf<4,>=3.20.2\n",
            "  Using cached protobuf-3.20.3-cp37-cp37m-manylinux_2_5_x86_64.manylinux1_x86_64.whl (1.0 MB)\n",
            "Installing collected packages: protobuf\n",
            "  Attempting uninstall: protobuf\n",
            "    Found existing installation: protobuf 3.19.6\n",
            "    Uninstalling protobuf-3.19.6:\n",
            "      Successfully uninstalled protobuf-3.19.6\n",
            "\u001b[31mERROR: pip's dependency resolver does not currently take into account all the packages that are installed. This behaviour is the source of the following dependency conflicts.\n",
            "tensorflow 2.11.0 requires protobuf<3.20,>=3.9.2, but you have protobuf 3.20.3 which is incompatible.\u001b[0m\u001b[31m\n",
            "\u001b[0mSuccessfully installed protobuf-3.20.3\n",
            "\n",
            "\u001b[1m[\u001b[0m\u001b[34;49mnotice\u001b[0m\u001b[1;39;49m]\u001b[0m\u001b[39;49m A new release of pip is available: \u001b[0m\u001b[31;49m23.0.1\u001b[0m\u001b[39;49m -> \u001b[0m\u001b[32;49m23.1\u001b[0m\n",
            "\u001b[1m[\u001b[0m\u001b[34;49mnotice\u001b[0m\u001b[1;39;49m]\u001b[0m\u001b[39;49m To update, run: \u001b[0m\u001b[32;49mpip install --upgrade pip\u001b[0m\n",
            "Looking in indexes: https://pypi.org/simple, https://download.pytorch.org/whl/cu116\n",
            "Requirement already satisfied: onnxsim in /home/antoine/.cache/pypoetry/virtualenvs/drake_ai-0bRsTVrO-py3.7/lib/python3.7/site-packages (0.4.22)\n",
            "Requirement already satisfied: rich in /home/antoine/.cache/pypoetry/virtualenvs/drake_ai-0bRsTVrO-py3.7/lib/python3.7/site-packages (from onnxsim) (10.16.2)\n",
            "Requirement already satisfied: onnx in /home/antoine/.cache/pypoetry/virtualenvs/drake_ai-0bRsTVrO-py3.7/lib/python3.7/site-packages (from onnxsim) (1.13.1)\n",
            "Requirement already satisfied: numpy>=1.16.6 in /home/antoine/.cache/pypoetry/virtualenvs/drake_ai-0bRsTVrO-py3.7/lib/python3.7/site-packages (from onnx->onnxsim) (1.21.0)\n",
            "Requirement already satisfied: typing-extensions>=3.6.2.1 in /home/antoine/.cache/pypoetry/virtualenvs/drake_ai-0bRsTVrO-py3.7/lib/python3.7/site-packages (from onnx->onnxsim) (4.5.0)\n",
            "Requirement already satisfied: protobuf<4,>=3.20.2 in /home/antoine/.cache/pypoetry/virtualenvs/drake_ai-0bRsTVrO-py3.7/lib/python3.7/site-packages (from onnx->onnxsim) (3.20.3)\n",
            "Requirement already satisfied: pygments<3.0.0,>=2.6.0 in /home/antoine/.cache/pypoetry/virtualenvs/drake_ai-0bRsTVrO-py3.7/lib/python3.7/site-packages (from rich->onnxsim) (2.15.1)\n",
            "Requirement already satisfied: colorama<0.5.0,>=0.4.0 in /home/antoine/.cache/pypoetry/virtualenvs/drake_ai-0bRsTVrO-py3.7/lib/python3.7/site-packages (from rich->onnxsim) (0.4.6)\n",
            "Requirement already satisfied: commonmark<0.10.0,>=0.9.0 in /home/antoine/.cache/pypoetry/virtualenvs/drake_ai-0bRsTVrO-py3.7/lib/python3.7/site-packages (from rich->onnxsim) (0.9.1)\n",
            "\n",
            "\u001b[1m[\u001b[0m\u001b[34;49mnotice\u001b[0m\u001b[1;39;49m]\u001b[0m\u001b[39;49m A new release of pip is available: \u001b[0m\u001b[31;49m23.0.1\u001b[0m\u001b[39;49m -> \u001b[0m\u001b[32;49m23.1\u001b[0m\n",
            "\u001b[1m[\u001b[0m\u001b[34;49mnotice\u001b[0m\u001b[1;39;49m]\u001b[0m\u001b[39;49m To update, run: \u001b[0m\u001b[32;49mpip install --upgrade pip\u001b[0m\n",
            "Looking in indexes: https://pypi.org/simple, https://download.pytorch.org/whl/cu116\n",
            "Requirement already satisfied: onnxoptimizer in /home/antoine/.cache/pypoetry/virtualenvs/drake_ai-0bRsTVrO-py3.7/lib/python3.7/site-packages (0.3.13)\n",
            "Requirement already satisfied: onnx in /home/antoine/.cache/pypoetry/virtualenvs/drake_ai-0bRsTVrO-py3.7/lib/python3.7/site-packages (from onnxoptimizer) (1.13.1)\n",
            "Requirement already satisfied: numpy>=1.16.6 in /home/antoine/.cache/pypoetry/virtualenvs/drake_ai-0bRsTVrO-py3.7/lib/python3.7/site-packages (from onnx->onnxoptimizer) (1.21.0)\n",
            "Requirement already satisfied: typing-extensions>=3.6.2.1 in /home/antoine/.cache/pypoetry/virtualenvs/drake_ai-0bRsTVrO-py3.7/lib/python3.7/site-packages (from onnx->onnxoptimizer) (4.5.0)\n",
            "Requirement already satisfied: protobuf<4,>=3.20.2 in /home/antoine/.cache/pypoetry/virtualenvs/drake_ai-0bRsTVrO-py3.7/lib/python3.7/site-packages (from onnx->onnxoptimizer) (3.20.3)\n",
            "\n",
            "\u001b[1m[\u001b[0m\u001b[34;49mnotice\u001b[0m\u001b[1;39;49m]\u001b[0m\u001b[39;49m A new release of pip is available: \u001b[0m\u001b[31;49m23.0.1\u001b[0m\u001b[39;49m -> \u001b[0m\u001b[32;49m23.1\u001b[0m\n",
            "\u001b[1m[\u001b[0m\u001b[34;49mnotice\u001b[0m\u001b[1;39;49m]\u001b[0m\u001b[39;49m To update, run: \u001b[0m\u001b[32;49mpip install --upgrade pip\u001b[0m\n",
            "Looking in indexes: https://pypi.org/simple, https://download.pytorch.org/whl/cu116\n",
            "Requirement already satisfied: fairseq==0.12.2 in /home/antoine/.cache/pypoetry/virtualenvs/drake_ai-0bRsTVrO-py3.7/lib/python3.7/site-packages (0.12.2)\n",
            "Requirement already satisfied: omegaconf<2.1 in /home/antoine/.cache/pypoetry/virtualenvs/drake_ai-0bRsTVrO-py3.7/lib/python3.7/site-packages (from fairseq==0.12.2) (2.0.6)\n",
            "Requirement already satisfied: cffi in /home/antoine/.cache/pypoetry/virtualenvs/drake_ai-0bRsTVrO-py3.7/lib/python3.7/site-packages (from fairseq==0.12.2) (1.15.1)\n",
            "Requirement already satisfied: numpy in /home/antoine/.cache/pypoetry/virtualenvs/drake_ai-0bRsTVrO-py3.7/lib/python3.7/site-packages (from fairseq==0.12.2) (1.21.0)\n",
            "Requirement already satisfied: torch in /home/antoine/.cache/pypoetry/virtualenvs/drake_ai-0bRsTVrO-py3.7/lib/python3.7/site-packages (from fairseq==0.12.2) (1.13.1)\n",
            "Requirement already satisfied: bitarray in /home/antoine/.cache/pypoetry/virtualenvs/drake_ai-0bRsTVrO-py3.7/lib/python3.7/site-packages (from fairseq==0.12.2) (2.7.3)\n",
            "Requirement already satisfied: regex in /home/antoine/.cache/pypoetry/virtualenvs/drake_ai-0bRsTVrO-py3.7/lib/python3.7/site-packages (from fairseq==0.12.2) (2022.10.31)\n",
            "Requirement already satisfied: torchaudio>=0.8.0 in /home/antoine/.cache/pypoetry/virtualenvs/drake_ai-0bRsTVrO-py3.7/lib/python3.7/site-packages (from fairseq==0.12.2) (0.13.1)\n",
            "Requirement already satisfied: sacrebleu>=1.4.12 in /home/antoine/.cache/pypoetry/virtualenvs/drake_ai-0bRsTVrO-py3.7/lib/python3.7/site-packages (from fairseq==0.12.2) (2.3.1)\n",
            "Requirement already satisfied: hydra-core<1.1,>=1.0.7 in /home/antoine/.cache/pypoetry/virtualenvs/drake_ai-0bRsTVrO-py3.7/lib/python3.7/site-packages (from fairseq==0.12.2) (1.0.7)\n",
            "Requirement already satisfied: tqdm in /home/antoine/.cache/pypoetry/virtualenvs/drake_ai-0bRsTVrO-py3.7/lib/python3.7/site-packages (from fairseq==0.12.2) (4.65.0)\n",
            "Requirement already satisfied: cython in /home/antoine/.cache/pypoetry/virtualenvs/drake_ai-0bRsTVrO-py3.7/lib/python3.7/site-packages (from fairseq==0.12.2) (0.29.34)\n",
            "Requirement already satisfied: antlr4-python3-runtime==4.8 in /home/antoine/.cache/pypoetry/virtualenvs/drake_ai-0bRsTVrO-py3.7/lib/python3.7/site-packages (from hydra-core<1.1,>=1.0.7->fairseq==0.12.2) (4.8)\n",
            "Requirement already satisfied: importlib-resources in /home/antoine/.cache/pypoetry/virtualenvs/drake_ai-0bRsTVrO-py3.7/lib/python3.7/site-packages (from hydra-core<1.1,>=1.0.7->fairseq==0.12.2) (5.12.0)\n",
            "Requirement already satisfied: typing-extensions in /home/antoine/.cache/pypoetry/virtualenvs/drake_ai-0bRsTVrO-py3.7/lib/python3.7/site-packages (from omegaconf<2.1->fairseq==0.12.2) (4.5.0)\n",
            "Requirement already satisfied: PyYAML>=5.1.* in /home/antoine/.cache/pypoetry/virtualenvs/drake_ai-0bRsTVrO-py3.7/lib/python3.7/site-packages (from omegaconf<2.1->fairseq==0.12.2) (6.0)\n",
            "Requirement already satisfied: tabulate>=0.8.9 in /home/antoine/.cache/pypoetry/virtualenvs/drake_ai-0bRsTVrO-py3.7/lib/python3.7/site-packages (from sacrebleu>=1.4.12->fairseq==0.12.2) (0.9.0)\n",
            "Requirement already satisfied: colorama in /home/antoine/.cache/pypoetry/virtualenvs/drake_ai-0bRsTVrO-py3.7/lib/python3.7/site-packages (from sacrebleu>=1.4.12->fairseq==0.12.2) (0.4.6)\n",
            "Requirement already satisfied: portalocker in /home/antoine/.cache/pypoetry/virtualenvs/drake_ai-0bRsTVrO-py3.7/lib/python3.7/site-packages (from sacrebleu>=1.4.12->fairseq==0.12.2) (2.7.0)\n",
            "Requirement already satisfied: lxml in /home/antoine/.cache/pypoetry/virtualenvs/drake_ai-0bRsTVrO-py3.7/lib/python3.7/site-packages (from sacrebleu>=1.4.12->fairseq==0.12.2) (4.9.2)\n",
            "Requirement already satisfied: nvidia-cuda-runtime-cu11==11.7.99 in /home/antoine/.cache/pypoetry/virtualenvs/drake_ai-0bRsTVrO-py3.7/lib/python3.7/site-packages (from torch->fairseq==0.12.2) (11.7.99)\n",
            "Requirement already satisfied: nvidia-cudnn-cu11==8.5.0.96 in /home/antoine/.cache/pypoetry/virtualenvs/drake_ai-0bRsTVrO-py3.7/lib/python3.7/site-packages (from torch->fairseq==0.12.2) (8.5.0.96)\n",
            "Requirement already satisfied: nvidia-cublas-cu11==11.10.3.66 in /home/antoine/.cache/pypoetry/virtualenvs/drake_ai-0bRsTVrO-py3.7/lib/python3.7/site-packages (from torch->fairseq==0.12.2) (11.10.3.66)\n",
            "Requirement already satisfied: nvidia-cuda-nvrtc-cu11==11.7.99 in /home/antoine/.cache/pypoetry/virtualenvs/drake_ai-0bRsTVrO-py3.7/lib/python3.7/site-packages (from torch->fairseq==0.12.2) (11.7.99)\n",
            "Requirement already satisfied: setuptools in /home/antoine/.cache/pypoetry/virtualenvs/drake_ai-0bRsTVrO-py3.7/lib/python3.7/site-packages (from nvidia-cublas-cu11==11.10.3.66->torch->fairseq==0.12.2) (67.6.1)\n",
            "Requirement already satisfied: wheel in /home/antoine/.cache/pypoetry/virtualenvs/drake_ai-0bRsTVrO-py3.7/lib/python3.7/site-packages (from nvidia-cublas-cu11==11.10.3.66->torch->fairseq==0.12.2) (0.40.0)\n",
            "Requirement already satisfied: pycparser in /home/antoine/.cache/pypoetry/virtualenvs/drake_ai-0bRsTVrO-py3.7/lib/python3.7/site-packages (from cffi->fairseq==0.12.2) (2.21)\n",
            "Requirement already satisfied: zipp>=3.1.0 in /home/antoine/.cache/pypoetry/virtualenvs/drake_ai-0bRsTVrO-py3.7/lib/python3.7/site-packages (from importlib-resources->hydra-core<1.1,>=1.0.7->fairseq==0.12.2) (3.15.0)\n",
            "\n",
            "\u001b[1m[\u001b[0m\u001b[34;49mnotice\u001b[0m\u001b[1;39;49m]\u001b[0m\u001b[39;49m A new release of pip is available: \u001b[0m\u001b[31;49m23.0.1\u001b[0m\u001b[39;49m -> \u001b[0m\u001b[32;49m23.1\u001b[0m\n",
            "\u001b[1m[\u001b[0m\u001b[34;49mnotice\u001b[0m\u001b[1;39;49m]\u001b[0m\u001b[39;49m To update, run: \u001b[0m\u001b[32;49mpip install --upgrade pip\u001b[0m\n",
            "Looking in indexes: https://pypi.org/simple, https://download.pytorch.org/whl/cu116\n",
            "Requirement already satisfied: librosa==0.8.1 in /home/antoine/.cache/pypoetry/virtualenvs/drake_ai-0bRsTVrO-py3.7/lib/python3.7/site-packages (0.8.1)\n",
            "Requirement already satisfied: numba>=0.43.0 in /home/antoine/.cache/pypoetry/virtualenvs/drake_ai-0bRsTVrO-py3.7/lib/python3.7/site-packages (from librosa==0.8.1) (0.56.4)\n",
            "Requirement already satisfied: numpy>=1.15.0 in /home/antoine/.cache/pypoetry/virtualenvs/drake_ai-0bRsTVrO-py3.7/lib/python3.7/site-packages (from librosa==0.8.1) (1.21.0)\n",
            "Requirement already satisfied: audioread>=2.0.0 in /home/antoine/.cache/pypoetry/virtualenvs/drake_ai-0bRsTVrO-py3.7/lib/python3.7/site-packages (from librosa==0.8.1) (3.0.0)\n",
            "Requirement already satisfied: pooch>=1.0 in /home/antoine/.cache/pypoetry/virtualenvs/drake_ai-0bRsTVrO-py3.7/lib/python3.7/site-packages (from librosa==0.8.1) (1.7.0)\n",
            "Requirement already satisfied: scipy>=1.0.0 in /home/antoine/.cache/pypoetry/virtualenvs/drake_ai-0bRsTVrO-py3.7/lib/python3.7/site-packages (from librosa==0.8.1) (1.7.3)\n",
            "Requirement already satisfied: scikit-learn!=0.19.0,>=0.14.0 in /home/antoine/.cache/pypoetry/virtualenvs/drake_ai-0bRsTVrO-py3.7/lib/python3.7/site-packages (from librosa==0.8.1) (1.0.2)\n",
            "Requirement already satisfied: decorator>=3.0.0 in /home/antoine/.cache/pypoetry/virtualenvs/drake_ai-0bRsTVrO-py3.7/lib/python3.7/site-packages (from librosa==0.8.1) (5.1.1)\n",
            "Requirement already satisfied: soundfile>=0.10.2 in /home/antoine/.cache/pypoetry/virtualenvs/drake_ai-0bRsTVrO-py3.7/lib/python3.7/site-packages (from librosa==0.8.1) (0.12.1)\n",
            "Requirement already satisfied: resampy>=0.2.2 in /home/antoine/.cache/pypoetry/virtualenvs/drake_ai-0bRsTVrO-py3.7/lib/python3.7/site-packages (from librosa==0.8.1) (0.4.2)\n",
            "Requirement already satisfied: packaging>=20.0 in /home/antoine/.cache/pypoetry/virtualenvs/drake_ai-0bRsTVrO-py3.7/lib/python3.7/site-packages (from librosa==0.8.1) (23.1)\n",
            "Requirement already satisfied: joblib>=0.14 in /home/antoine/.cache/pypoetry/virtualenvs/drake_ai-0bRsTVrO-py3.7/lib/python3.7/site-packages (from librosa==0.8.1) (1.2.0)\n",
            "Requirement already satisfied: setuptools in /home/antoine/.cache/pypoetry/virtualenvs/drake_ai-0bRsTVrO-py3.7/lib/python3.7/site-packages (from numba>=0.43.0->librosa==0.8.1) (67.6.1)\n",
            "Requirement already satisfied: importlib-metadata in /home/antoine/.cache/pypoetry/virtualenvs/drake_ai-0bRsTVrO-py3.7/lib/python3.7/site-packages (from numba>=0.43.0->librosa==0.8.1) (6.5.0)\n",
            "Requirement already satisfied: llvmlite<0.40,>=0.39.0dev0 in /home/antoine/.cache/pypoetry/virtualenvs/drake_ai-0bRsTVrO-py3.7/lib/python3.7/site-packages (from numba>=0.43.0->librosa==0.8.1) (0.39.1)\n",
            "Requirement already satisfied: platformdirs>=2.5.0 in /home/antoine/.cache/pypoetry/virtualenvs/drake_ai-0bRsTVrO-py3.7/lib/python3.7/site-packages (from pooch>=1.0->librosa==0.8.1) (3.2.0)\n",
            "Requirement already satisfied: requests>=2.19.0 in /home/antoine/.cache/pypoetry/virtualenvs/drake_ai-0bRsTVrO-py3.7/lib/python3.7/site-packages (from pooch>=1.0->librosa==0.8.1) (2.28.2)\n",
            "Requirement already satisfied: threadpoolctl>=2.0.0 in /home/antoine/.cache/pypoetry/virtualenvs/drake_ai-0bRsTVrO-py3.7/lib/python3.7/site-packages (from scikit-learn!=0.19.0,>=0.14.0->librosa==0.8.1) (3.1.0)\n",
            "Requirement already satisfied: cffi>=1.0 in /home/antoine/.cache/pypoetry/virtualenvs/drake_ai-0bRsTVrO-py3.7/lib/python3.7/site-packages (from soundfile>=0.10.2->librosa==0.8.1) (1.15.1)\n",
            "Requirement already satisfied: pycparser in /home/antoine/.cache/pypoetry/virtualenvs/drake_ai-0bRsTVrO-py3.7/lib/python3.7/site-packages (from cffi>=1.0->soundfile>=0.10.2->librosa==0.8.1) (2.21)\n",
            "Requirement already satisfied: typing-extensions>=4.5 in /home/antoine/.cache/pypoetry/virtualenvs/drake_ai-0bRsTVrO-py3.7/lib/python3.7/site-packages (from platformdirs>=2.5.0->pooch>=1.0->librosa==0.8.1) (4.5.0)\n",
            "Requirement already satisfied: idna<4,>=2.5 in /home/antoine/.cache/pypoetry/virtualenvs/drake_ai-0bRsTVrO-py3.7/lib/python3.7/site-packages (from requests>=2.19.0->pooch>=1.0->librosa==0.8.1) (3.4)\n",
            "Requirement already satisfied: charset-normalizer<4,>=2 in /home/antoine/.cache/pypoetry/virtualenvs/drake_ai-0bRsTVrO-py3.7/lib/python3.7/site-packages (from requests>=2.19.0->pooch>=1.0->librosa==0.8.1) (3.1.0)\n",
            "Requirement already satisfied: urllib3<1.27,>=1.21.1 in /home/antoine/.cache/pypoetry/virtualenvs/drake_ai-0bRsTVrO-py3.7/lib/python3.7/site-packages (from requests>=2.19.0->pooch>=1.0->librosa==0.8.1) (1.26.15)\n",
            "Requirement already satisfied: certifi>=2017.4.17 in /home/antoine/.cache/pypoetry/virtualenvs/drake_ai-0bRsTVrO-py3.7/lib/python3.7/site-packages (from requests>=2.19.0->pooch>=1.0->librosa==0.8.1) (2022.12.7)\n",
            "Requirement already satisfied: zipp>=0.5 in /home/antoine/.cache/pypoetry/virtualenvs/drake_ai-0bRsTVrO-py3.7/lib/python3.7/site-packages (from importlib-metadata->numba>=0.43.0->librosa==0.8.1) (3.15.0)\n",
            "\n",
            "\u001b[1m[\u001b[0m\u001b[34;49mnotice\u001b[0m\u001b[1;39;49m]\u001b[0m\u001b[39;49m A new release of pip is available: \u001b[0m\u001b[31;49m23.0.1\u001b[0m\u001b[39;49m -> \u001b[0m\u001b[32;49m23.1\u001b[0m\n",
            "\u001b[1m[\u001b[0m\u001b[34;49mnotice\u001b[0m\u001b[1;39;49m]\u001b[0m\u001b[39;49m To update, run: \u001b[0m\u001b[32;49mpip install --upgrade pip\u001b[0m\n",
            "Looking in indexes: https://pypi.org/simple, https://download.pytorch.org/whl/cu116\n",
            "Requirement already satisfied: tensorboard in /home/antoine/.cache/pypoetry/virtualenvs/drake_ai-0bRsTVrO-py3.7/lib/python3.7/site-packages (2.11.2)\n",
            "Requirement already satisfied: google-auth<3,>=1.6.3 in /home/antoine/.cache/pypoetry/virtualenvs/drake_ai-0bRsTVrO-py3.7/lib/python3.7/site-packages (from tensorboard) (2.17.3)\n",
            "Requirement already satisfied: protobuf<4,>=3.9.2 in /home/antoine/.cache/pypoetry/virtualenvs/drake_ai-0bRsTVrO-py3.7/lib/python3.7/site-packages (from tensorboard) (3.20.3)\n",
            "Requirement already satisfied: grpcio>=1.24.3 in /home/antoine/.cache/pypoetry/virtualenvs/drake_ai-0bRsTVrO-py3.7/lib/python3.7/site-packages (from tensorboard) (1.54.0)\n",
            "Requirement already satisfied: numpy>=1.12.0 in /home/antoine/.cache/pypoetry/virtualenvs/drake_ai-0bRsTVrO-py3.7/lib/python3.7/site-packages (from tensorboard) (1.21.0)\n",
            "Requirement already satisfied: tensorboard-plugin-wit>=1.6.0 in /home/antoine/.cache/pypoetry/virtualenvs/drake_ai-0bRsTVrO-py3.7/lib/python3.7/site-packages (from tensorboard) (1.8.1)\n",
            "Requirement already satisfied: wheel>=0.26 in /home/antoine/.cache/pypoetry/virtualenvs/drake_ai-0bRsTVrO-py3.7/lib/python3.7/site-packages (from tensorboard) (0.40.0)\n",
            "Requirement already satisfied: markdown>=2.6.8 in /home/antoine/.cache/pypoetry/virtualenvs/drake_ai-0bRsTVrO-py3.7/lib/python3.7/site-packages (from tensorboard) (3.4.3)\n",
            "Requirement already satisfied: requests<3,>=2.21.0 in /home/antoine/.cache/pypoetry/virtualenvs/drake_ai-0bRsTVrO-py3.7/lib/python3.7/site-packages (from tensorboard) (2.28.2)\n",
            "Requirement already satisfied: absl-py>=0.4 in /home/antoine/.cache/pypoetry/virtualenvs/drake_ai-0bRsTVrO-py3.7/lib/python3.7/site-packages (from tensorboard) (1.4.0)\n",
            "Requirement already satisfied: tensorboard-data-server<0.7.0,>=0.6.0 in /home/antoine/.cache/pypoetry/virtualenvs/drake_ai-0bRsTVrO-py3.7/lib/python3.7/site-packages (from tensorboard) (0.6.1)\n",
            "Requirement already satisfied: werkzeug>=1.0.1 in /home/antoine/.cache/pypoetry/virtualenvs/drake_ai-0bRsTVrO-py3.7/lib/python3.7/site-packages (from tensorboard) (2.2.3)\n",
            "Requirement already satisfied: setuptools>=41.0.0 in /home/antoine/.cache/pypoetry/virtualenvs/drake_ai-0bRsTVrO-py3.7/lib/python3.7/site-packages (from tensorboard) (67.6.1)\n",
            "Requirement already satisfied: google-auth-oauthlib<0.5,>=0.4.1 in /home/antoine/.cache/pypoetry/virtualenvs/drake_ai-0bRsTVrO-py3.7/lib/python3.7/site-packages (from tensorboard) (0.4.6)\n",
            "Requirement already satisfied: pyasn1-modules>=0.2.1 in /home/antoine/.cache/pypoetry/virtualenvs/drake_ai-0bRsTVrO-py3.7/lib/python3.7/site-packages (from google-auth<3,>=1.6.3->tensorboard) (0.2.8)\n",
            "Requirement already satisfied: cachetools<6.0,>=2.0.0 in /home/antoine/.cache/pypoetry/virtualenvs/drake_ai-0bRsTVrO-py3.7/lib/python3.7/site-packages (from google-auth<3,>=1.6.3->tensorboard) (5.3.0)\n",
            "Requirement already satisfied: rsa<5,>=3.1.4 in /home/antoine/.cache/pypoetry/virtualenvs/drake_ai-0bRsTVrO-py3.7/lib/python3.7/site-packages (from google-auth<3,>=1.6.3->tensorboard) (4.9)\n",
            "Requirement already satisfied: six>=1.9.0 in /home/antoine/.cache/pypoetry/virtualenvs/drake_ai-0bRsTVrO-py3.7/lib/python3.7/site-packages (from google-auth<3,>=1.6.3->tensorboard) (1.16.0)\n",
            "Requirement already satisfied: requests-oauthlib>=0.7.0 in /home/antoine/.cache/pypoetry/virtualenvs/drake_ai-0bRsTVrO-py3.7/lib/python3.7/site-packages (from google-auth-oauthlib<0.5,>=0.4.1->tensorboard) (1.3.1)\n",
            "Requirement already satisfied: importlib-metadata>=4.4 in /home/antoine/.cache/pypoetry/virtualenvs/drake_ai-0bRsTVrO-py3.7/lib/python3.7/site-packages (from markdown>=2.6.8->tensorboard) (6.5.0)\n",
            "Requirement already satisfied: charset-normalizer<4,>=2 in /home/antoine/.cache/pypoetry/virtualenvs/drake_ai-0bRsTVrO-py3.7/lib/python3.7/site-packages (from requests<3,>=2.21.0->tensorboard) (3.1.0)\n",
            "Requirement already satisfied: urllib3<1.27,>=1.21.1 in /home/antoine/.cache/pypoetry/virtualenvs/drake_ai-0bRsTVrO-py3.7/lib/python3.7/site-packages (from requests<3,>=2.21.0->tensorboard) (1.26.15)\n",
            "Requirement already satisfied: idna<4,>=2.5 in /home/antoine/.cache/pypoetry/virtualenvs/drake_ai-0bRsTVrO-py3.7/lib/python3.7/site-packages (from requests<3,>=2.21.0->tensorboard) (3.4)\n",
            "Requirement already satisfied: certifi>=2017.4.17 in /home/antoine/.cache/pypoetry/virtualenvs/drake_ai-0bRsTVrO-py3.7/lib/python3.7/site-packages (from requests<3,>=2.21.0->tensorboard) (2022.12.7)\n",
            "Requirement already satisfied: MarkupSafe>=2.1.1 in /home/antoine/.cache/pypoetry/virtualenvs/drake_ai-0bRsTVrO-py3.7/lib/python3.7/site-packages (from werkzeug>=1.0.1->tensorboard) (2.1.2)\n",
            "Requirement already satisfied: zipp>=0.5 in /home/antoine/.cache/pypoetry/virtualenvs/drake_ai-0bRsTVrO-py3.7/lib/python3.7/site-packages (from importlib-metadata>=4.4->markdown>=2.6.8->tensorboard) (3.15.0)\n",
            "Requirement already satisfied: typing-extensions>=3.6.4 in /home/antoine/.cache/pypoetry/virtualenvs/drake_ai-0bRsTVrO-py3.7/lib/python3.7/site-packages (from importlib-metadata>=4.4->markdown>=2.6.8->tensorboard) (4.5.0)\n",
            "Requirement already satisfied: pyasn1<0.5.0,>=0.4.6 in /home/antoine/.cache/pypoetry/virtualenvs/drake_ai-0bRsTVrO-py3.7/lib/python3.7/site-packages (from pyasn1-modules>=0.2.1->google-auth<3,>=1.6.3->tensorboard) (0.4.8)\n",
            "Requirement already satisfied: oauthlib>=3.0.0 in /home/antoine/.cache/pypoetry/virtualenvs/drake_ai-0bRsTVrO-py3.7/lib/python3.7/site-packages (from requests-oauthlib>=0.7.0->google-auth-oauthlib<0.5,>=0.4.1->tensorboard) (3.2.2)\n",
            "\n",
            "\u001b[1m[\u001b[0m\u001b[34;49mnotice\u001b[0m\u001b[1;39;49m]\u001b[0m\u001b[39;49m A new release of pip is available: \u001b[0m\u001b[31;49m23.0.1\u001b[0m\u001b[39;49m -> \u001b[0m\u001b[32;49m23.1\u001b[0m\n",
            "\u001b[1m[\u001b[0m\u001b[34;49mnotice\u001b[0m\u001b[1;39;49m]\u001b[0m\u001b[39;49m To update, run: \u001b[0m\u001b[32;49mpip install --upgrade pip\u001b[0m\n",
            "Looking in indexes: https://pypi.org/simple, https://download.pytorch.org/whl/cu116\n",
            "Requirement already satisfied: PyQt5 in /home/antoine/.cache/pypoetry/virtualenvs/drake_ai-0bRsTVrO-py3.7/lib/python3.7/site-packages (5.15.9)\n",
            "Requirement already satisfied: PyQt5-sip<13,>=12.11 in /home/antoine/.cache/pypoetry/virtualenvs/drake_ai-0bRsTVrO-py3.7/lib/python3.7/site-packages (from PyQt5) (12.12.0)\n",
            "Requirement already satisfied: PyQt5-Qt5>=5.15.2 in /home/antoine/.cache/pypoetry/virtualenvs/drake_ai-0bRsTVrO-py3.7/lib/python3.7/site-packages (from PyQt5) (5.15.2)\n",
            "\n",
            "\u001b[1m[\u001b[0m\u001b[34;49mnotice\u001b[0m\u001b[1;39;49m]\u001b[0m\u001b[39;49m A new release of pip is available: \u001b[0m\u001b[31;49m23.0.1\u001b[0m\u001b[39;49m -> \u001b[0m\u001b[32;49m23.1\u001b[0m\n",
            "\u001b[1m[\u001b[0m\u001b[34;49mnotice\u001b[0m\u001b[1;39;49m]\u001b[0m\u001b[39;49m To update, run: \u001b[0m\u001b[32;49mpip install --upgrade pip\u001b[0m\n",
            "Looking in indexes: https://pypi.org/simple, https://download.pytorch.org/whl/cu116\n",
            "Requirement already satisfied: huggingface_hub in /home/antoine/.cache/pypoetry/virtualenvs/drake_ai-0bRsTVrO-py3.7/lib/python3.7/site-packages (0.13.4)\n",
            "Requirement already satisfied: importlib-metadata in /home/antoine/.cache/pypoetry/virtualenvs/drake_ai-0bRsTVrO-py3.7/lib/python3.7/site-packages (from huggingface_hub) (6.5.0)\n",
            "Requirement already satisfied: tqdm>=4.42.1 in /home/antoine/.cache/pypoetry/virtualenvs/drake_ai-0bRsTVrO-py3.7/lib/python3.7/site-packages (from huggingface_hub) (4.65.0)\n",
            "Requirement already satisfied: pyyaml>=5.1 in /home/antoine/.cache/pypoetry/virtualenvs/drake_ai-0bRsTVrO-py3.7/lib/python3.7/site-packages (from huggingface_hub) (6.0)\n",
            "Requirement already satisfied: packaging>=20.9 in /home/antoine/.cache/pypoetry/virtualenvs/drake_ai-0bRsTVrO-py3.7/lib/python3.7/site-packages (from huggingface_hub) (23.1)\n",
            "Requirement already satisfied: requests in /home/antoine/.cache/pypoetry/virtualenvs/drake_ai-0bRsTVrO-py3.7/lib/python3.7/site-packages (from huggingface_hub) (2.28.2)\n",
            "Requirement already satisfied: typing-extensions>=3.7.4.3 in /home/antoine/.cache/pypoetry/virtualenvs/drake_ai-0bRsTVrO-py3.7/lib/python3.7/site-packages (from huggingface_hub) (4.5.0)\n",
            "Requirement already satisfied: filelock in /home/antoine/.cache/pypoetry/virtualenvs/drake_ai-0bRsTVrO-py3.7/lib/python3.7/site-packages (from huggingface_hub) (3.12.0)\n",
            "Requirement already satisfied: zipp>=0.5 in /home/antoine/.cache/pypoetry/virtualenvs/drake_ai-0bRsTVrO-py3.7/lib/python3.7/site-packages (from importlib-metadata->huggingface_hub) (3.15.0)\n",
            "Requirement already satisfied: charset-normalizer<4,>=2 in /home/antoine/.cache/pypoetry/virtualenvs/drake_ai-0bRsTVrO-py3.7/lib/python3.7/site-packages (from requests->huggingface_hub) (3.1.0)\n",
            "Requirement already satisfied: urllib3<1.27,>=1.21.1 in /home/antoine/.cache/pypoetry/virtualenvs/drake_ai-0bRsTVrO-py3.7/lib/python3.7/site-packages (from requests->huggingface_hub) (1.26.15)\n",
            "Requirement already satisfied: idna<4,>=2.5 in /home/antoine/.cache/pypoetry/virtualenvs/drake_ai-0bRsTVrO-py3.7/lib/python3.7/site-packages (from requests->huggingface_hub) (3.4)\n",
            "Requirement already satisfied: certifi>=2017.4.17 in /home/antoine/.cache/pypoetry/virtualenvs/drake_ai-0bRsTVrO-py3.7/lib/python3.7/site-packages (from requests->huggingface_hub) (2022.12.7)\n",
            "\n",
            "\u001b[1m[\u001b[0m\u001b[34;49mnotice\u001b[0m\u001b[1;39;49m]\u001b[0m\u001b[39;49m A new release of pip is available: \u001b[0m\u001b[31;49m23.0.1\u001b[0m\u001b[39;49m -> \u001b[0m\u001b[32;49m23.1\u001b[0m\n",
            "\u001b[1m[\u001b[0m\u001b[34;49mnotice\u001b[0m\u001b[1;39;49m]\u001b[0m\u001b[39;49m To update, run: \u001b[0m\u001b[32;49mpip install --upgrade pip\u001b[0m\n",
            "Looking in indexes: https://pypi.org/simple, https://download.pytorch.org/whl/cu116\n",
            "Requirement already satisfied: datasets in /home/antoine/.cache/pypoetry/virtualenvs/drake_ai-0bRsTVrO-py3.7/lib/python3.7/site-packages (2.11.0)\n",
            "Requirement already satisfied: importlib-metadata in /home/antoine/.cache/pypoetry/virtualenvs/drake_ai-0bRsTVrO-py3.7/lib/python3.7/site-packages (from datasets) (6.5.0)\n",
            "Requirement already satisfied: fsspec[http]>=2021.11.1 in /home/antoine/.cache/pypoetry/virtualenvs/drake_ai-0bRsTVrO-py3.7/lib/python3.7/site-packages (from datasets) (2023.1.0)\n",
            "Requirement already satisfied: responses<0.19 in /home/antoine/.cache/pypoetry/virtualenvs/drake_ai-0bRsTVrO-py3.7/lib/python3.7/site-packages (from datasets) (0.18.0)\n",
            "Requirement already satisfied: dill<0.3.7,>=0.3.0 in /home/antoine/.cache/pypoetry/virtualenvs/drake_ai-0bRsTVrO-py3.7/lib/python3.7/site-packages (from datasets) (0.3.6)\n",
            "Requirement already satisfied: multiprocess in /home/antoine/.cache/pypoetry/virtualenvs/drake_ai-0bRsTVrO-py3.7/lib/python3.7/site-packages (from datasets) (0.70.14)\n",
            "Requirement already satisfied: requests>=2.19.0 in /home/antoine/.cache/pypoetry/virtualenvs/drake_ai-0bRsTVrO-py3.7/lib/python3.7/site-packages (from datasets) (2.28.2)\n",
            "Requirement already satisfied: xxhash in /home/antoine/.cache/pypoetry/virtualenvs/drake_ai-0bRsTVrO-py3.7/lib/python3.7/site-packages (from datasets) (3.2.0)\n",
            "Requirement already satisfied: pyarrow>=8.0.0 in /home/antoine/.cache/pypoetry/virtualenvs/drake_ai-0bRsTVrO-py3.7/lib/python3.7/site-packages (from datasets) (11.0.0)\n",
            "Requirement already satisfied: pyyaml>=5.1 in /home/antoine/.cache/pypoetry/virtualenvs/drake_ai-0bRsTVrO-py3.7/lib/python3.7/site-packages (from datasets) (6.0)\n",
            "Requirement already satisfied: packaging in /home/antoine/.cache/pypoetry/virtualenvs/drake_ai-0bRsTVrO-py3.7/lib/python3.7/site-packages (from datasets) (23.1)\n",
            "Requirement already satisfied: numpy>=1.17 in /home/antoine/.cache/pypoetry/virtualenvs/drake_ai-0bRsTVrO-py3.7/lib/python3.7/site-packages (from datasets) (1.21.0)\n",
            "Requirement already satisfied: tqdm>=4.62.1 in /home/antoine/.cache/pypoetry/virtualenvs/drake_ai-0bRsTVrO-py3.7/lib/python3.7/site-packages (from datasets) (4.65.0)\n",
            "Requirement already satisfied: huggingface-hub<1.0.0,>=0.11.0 in /home/antoine/.cache/pypoetry/virtualenvs/drake_ai-0bRsTVrO-py3.7/lib/python3.7/site-packages (from datasets) (0.13.4)\n",
            "Requirement already satisfied: aiohttp in /home/antoine/.cache/pypoetry/virtualenvs/drake_ai-0bRsTVrO-py3.7/lib/python3.7/site-packages (from datasets) (3.8.4)\n",
            "Requirement already satisfied: pandas in /home/antoine/.cache/pypoetry/virtualenvs/drake_ai-0bRsTVrO-py3.7/lib/python3.7/site-packages (from datasets) (1.3.5)\n",
            "Requirement already satisfied: multidict<7.0,>=4.5 in /home/antoine/.cache/pypoetry/virtualenvs/drake_ai-0bRsTVrO-py3.7/lib/python3.7/site-packages (from aiohttp->datasets) (6.0.4)\n",
            "Requirement already satisfied: attrs>=17.3.0 in /home/antoine/.cache/pypoetry/virtualenvs/drake_ai-0bRsTVrO-py3.7/lib/python3.7/site-packages (from aiohttp->datasets) (23.1.0)\n",
            "Requirement already satisfied: asynctest==0.13.0 in /home/antoine/.cache/pypoetry/virtualenvs/drake_ai-0bRsTVrO-py3.7/lib/python3.7/site-packages (from aiohttp->datasets) (0.13.0)\n",
            "Requirement already satisfied: yarl<2.0,>=1.0 in /home/antoine/.cache/pypoetry/virtualenvs/drake_ai-0bRsTVrO-py3.7/lib/python3.7/site-packages (from aiohttp->datasets) (1.8.2)\n",
            "Requirement already satisfied: charset-normalizer<4.0,>=2.0 in /home/antoine/.cache/pypoetry/virtualenvs/drake_ai-0bRsTVrO-py3.7/lib/python3.7/site-packages (from aiohttp->datasets) (3.1.0)\n",
            "Requirement already satisfied: frozenlist>=1.1.1 in /home/antoine/.cache/pypoetry/virtualenvs/drake_ai-0bRsTVrO-py3.7/lib/python3.7/site-packages (from aiohttp->datasets) (1.3.3)\n",
            "Requirement already satisfied: async-timeout<5.0,>=4.0.0a3 in /home/antoine/.cache/pypoetry/virtualenvs/drake_ai-0bRsTVrO-py3.7/lib/python3.7/site-packages (from aiohttp->datasets) (4.0.2)\n",
            "Requirement already satisfied: aiosignal>=1.1.2 in /home/antoine/.cache/pypoetry/virtualenvs/drake_ai-0bRsTVrO-py3.7/lib/python3.7/site-packages (from aiohttp->datasets) (1.3.1)\n",
            "Requirement already satisfied: typing-extensions>=3.7.4 in /home/antoine/.cache/pypoetry/virtualenvs/drake_ai-0bRsTVrO-py3.7/lib/python3.7/site-packages (from aiohttp->datasets) (4.5.0)\n",
            "Requirement already satisfied: filelock in /home/antoine/.cache/pypoetry/virtualenvs/drake_ai-0bRsTVrO-py3.7/lib/python3.7/site-packages (from huggingface-hub<1.0.0,>=0.11.0->datasets) (3.12.0)\n",
            "Requirement already satisfied: certifi>=2017.4.17 in /home/antoine/.cache/pypoetry/virtualenvs/drake_ai-0bRsTVrO-py3.7/lib/python3.7/site-packages (from requests>=2.19.0->datasets) (2022.12.7)\n",
            "Requirement already satisfied: urllib3<1.27,>=1.21.1 in /home/antoine/.cache/pypoetry/virtualenvs/drake_ai-0bRsTVrO-py3.7/lib/python3.7/site-packages (from requests>=2.19.0->datasets) (1.26.15)\n",
            "Requirement already satisfied: idna<4,>=2.5 in /home/antoine/.cache/pypoetry/virtualenvs/drake_ai-0bRsTVrO-py3.7/lib/python3.7/site-packages (from requests>=2.19.0->datasets) (3.4)\n",
            "Requirement already satisfied: zipp>=0.5 in /home/antoine/.cache/pypoetry/virtualenvs/drake_ai-0bRsTVrO-py3.7/lib/python3.7/site-packages (from importlib-metadata->datasets) (3.15.0)\n",
            "Requirement already satisfied: pytz>=2017.3 in /home/antoine/.cache/pypoetry/virtualenvs/drake_ai-0bRsTVrO-py3.7/lib/python3.7/site-packages (from pandas->datasets) (2023.3)\n",
            "Requirement already satisfied: python-dateutil>=2.7.3 in /home/antoine/.cache/pypoetry/virtualenvs/drake_ai-0bRsTVrO-py3.7/lib/python3.7/site-packages (from pandas->datasets) (2.8.2)\n",
            "Requirement already satisfied: six>=1.5 in /home/antoine/.cache/pypoetry/virtualenvs/drake_ai-0bRsTVrO-py3.7/lib/python3.7/site-packages (from python-dateutil>=2.7.3->pandas->datasets) (1.16.0)\n",
            "\n",
            "\u001b[1m[\u001b[0m\u001b[34;49mnotice\u001b[0m\u001b[1;39;49m]\u001b[0m\u001b[39;49m A new release of pip is available: \u001b[0m\u001b[31;49m23.0.1\u001b[0m\u001b[39;49m -> \u001b[0m\u001b[32;49m23.1\u001b[0m\n",
            "\u001b[1m[\u001b[0m\u001b[34;49mnotice\u001b[0m\u001b[1;39;49m]\u001b[0m\u001b[39;49m To update, run: \u001b[0m\u001b[32;49mpip install --upgrade pip\u001b[0m\n",
            "Requirement already satisfied: praat-parselmouth in /home/antoine/.cache/pypoetry/virtualenvs/drake_ai-0bRsTVrO-py3.7/lib/python3.7/site-packages (0.4.3)\n",
            "Requirement already satisfied: numpy>=1.7.0 in /home/antoine/.cache/pypoetry/virtualenvs/drake_ai-0bRsTVrO-py3.7/lib/python3.7/site-packages (from praat-parselmouth) (1.21.0)\n",
            "\n",
            "\u001b[1m[\u001b[0m\u001b[34;49mnotice\u001b[0m\u001b[1;39;49m]\u001b[0m\u001b[39;49m A new release of pip is available: \u001b[0m\u001b[31;49m23.0.1\u001b[0m\u001b[39;49m -> \u001b[0m\u001b[32;49m23.1\u001b[0m\n",
            "\u001b[1m[\u001b[0m\u001b[34;49mnotice\u001b[0m\u001b[1;39;49m]\u001b[0m\u001b[39;49m To update, run: \u001b[0m\u001b[32;49mpip install --upgrade pip\u001b[0m\n",
            "Requirement already satisfied: ipywidgets in /home/antoine/.cache/pypoetry/virtualenvs/drake_ai-0bRsTVrO-py3.7/lib/python3.7/site-packages (8.0.6)\n",
            "Requirement already satisfied: traitlets>=4.3.1 in /home/antoine/.cache/pypoetry/virtualenvs/drake_ai-0bRsTVrO-py3.7/lib/python3.7/site-packages (from ipywidgets) (5.9.0)\n",
            "Requirement already satisfied: ipython>=6.1.0 in /home/antoine/.cache/pypoetry/virtualenvs/drake_ai-0bRsTVrO-py3.7/lib/python3.7/site-packages (from ipywidgets) (7.34.0)\n",
            "Requirement already satisfied: jupyterlab-widgets~=3.0.7 in /home/antoine/.cache/pypoetry/virtualenvs/drake_ai-0bRsTVrO-py3.7/lib/python3.7/site-packages (from ipywidgets) (3.0.7)\n",
            "Requirement already satisfied: ipykernel>=4.5.1 in /home/antoine/.cache/pypoetry/virtualenvs/drake_ai-0bRsTVrO-py3.7/lib/python3.7/site-packages (from ipywidgets) (6.16.2)\n",
            "Requirement already satisfied: widgetsnbextension~=4.0.7 in /home/antoine/.cache/pypoetry/virtualenvs/drake_ai-0bRsTVrO-py3.7/lib/python3.7/site-packages (from ipywidgets) (4.0.7)\n",
            "Requirement already satisfied: nest-asyncio in /home/antoine/.cache/pypoetry/virtualenvs/drake_ai-0bRsTVrO-py3.7/lib/python3.7/site-packages (from ipykernel>=4.5.1->ipywidgets) (1.5.6)\n",
            "Requirement already satisfied: debugpy>=1.0 in /home/antoine/.cache/pypoetry/virtualenvs/drake_ai-0bRsTVrO-py3.7/lib/python3.7/site-packages (from ipykernel>=4.5.1->ipywidgets) (1.6.7)\n",
            "Requirement already satisfied: packaging in /home/antoine/.cache/pypoetry/virtualenvs/drake_ai-0bRsTVrO-py3.7/lib/python3.7/site-packages (from ipykernel>=4.5.1->ipywidgets) (23.1)\n",
            "Requirement already satisfied: tornado>=6.1 in /home/antoine/.cache/pypoetry/virtualenvs/drake_ai-0bRsTVrO-py3.7/lib/python3.7/site-packages (from ipykernel>=4.5.1->ipywidgets) (6.2)\n",
            "Requirement already satisfied: matplotlib-inline>=0.1 in /home/antoine/.cache/pypoetry/virtualenvs/drake_ai-0bRsTVrO-py3.7/lib/python3.7/site-packages (from ipykernel>=4.5.1->ipywidgets) (0.1.6)\n",
            "Requirement already satisfied: jupyter-client>=6.1.12 in /home/antoine/.cache/pypoetry/virtualenvs/drake_ai-0bRsTVrO-py3.7/lib/python3.7/site-packages (from ipykernel>=4.5.1->ipywidgets) (7.4.9)\n",
            "Requirement already satisfied: pyzmq>=17 in /home/antoine/.cache/pypoetry/virtualenvs/drake_ai-0bRsTVrO-py3.7/lib/python3.7/site-packages (from ipykernel>=4.5.1->ipywidgets) (25.0.2)\n",
            "Requirement already satisfied: psutil in /home/antoine/.cache/pypoetry/virtualenvs/drake_ai-0bRsTVrO-py3.7/lib/python3.7/site-packages (from ipykernel>=4.5.1->ipywidgets) (5.9.5)\n",
            "Requirement already satisfied: setuptools>=18.5 in /home/antoine/.cache/pypoetry/virtualenvs/drake_ai-0bRsTVrO-py3.7/lib/python3.7/site-packages (from ipython>=6.1.0->ipywidgets) (67.6.1)\n",
            "Requirement already satisfied: pickleshare in /home/antoine/.cache/pypoetry/virtualenvs/drake_ai-0bRsTVrO-py3.7/lib/python3.7/site-packages (from ipython>=6.1.0->ipywidgets) (0.7.5)\n",
            "Requirement already satisfied: jedi>=0.16 in /home/antoine/.cache/pypoetry/virtualenvs/drake_ai-0bRsTVrO-py3.7/lib/python3.7/site-packages (from ipython>=6.1.0->ipywidgets) (0.18.2)\n",
            "Requirement already satisfied: backcall in /home/antoine/.cache/pypoetry/virtualenvs/drake_ai-0bRsTVrO-py3.7/lib/python3.7/site-packages (from ipython>=6.1.0->ipywidgets) (0.2.0)\n",
            "Requirement already satisfied: prompt-toolkit!=3.0.0,!=3.0.1,<3.1.0,>=2.0.0 in /home/antoine/.cache/pypoetry/virtualenvs/drake_ai-0bRsTVrO-py3.7/lib/python3.7/site-packages (from ipython>=6.1.0->ipywidgets) (3.0.38)\n",
            "Requirement already satisfied: decorator in /home/antoine/.cache/pypoetry/virtualenvs/drake_ai-0bRsTVrO-py3.7/lib/python3.7/site-packages (from ipython>=6.1.0->ipywidgets) (5.1.1)\n",
            "Requirement already satisfied: pexpect>4.3 in /home/antoine/.cache/pypoetry/virtualenvs/drake_ai-0bRsTVrO-py3.7/lib/python3.7/site-packages (from ipython>=6.1.0->ipywidgets) (4.8.0)\n",
            "Requirement already satisfied: pygments in /home/antoine/.cache/pypoetry/virtualenvs/drake_ai-0bRsTVrO-py3.7/lib/python3.7/site-packages (from ipython>=6.1.0->ipywidgets) (2.15.1)\n",
            "Requirement already satisfied: parso<0.9.0,>=0.8.0 in /home/antoine/.cache/pypoetry/virtualenvs/drake_ai-0bRsTVrO-py3.7/lib/python3.7/site-packages (from jedi>=0.16->ipython>=6.1.0->ipywidgets) (0.8.3)\n",
            "Requirement already satisfied: python-dateutil>=2.8.2 in /home/antoine/.cache/pypoetry/virtualenvs/drake_ai-0bRsTVrO-py3.7/lib/python3.7/site-packages (from jupyter-client>=6.1.12->ipykernel>=4.5.1->ipywidgets) (2.8.2)\n",
            "Requirement already satisfied: jupyter-core>=4.9.2 in /home/antoine/.cache/pypoetry/virtualenvs/drake_ai-0bRsTVrO-py3.7/lib/python3.7/site-packages (from jupyter-client>=6.1.12->ipykernel>=4.5.1->ipywidgets) (4.12.0)\n",
            "Requirement already satisfied: entrypoints in /home/antoine/.cache/pypoetry/virtualenvs/drake_ai-0bRsTVrO-py3.7/lib/python3.7/site-packages (from jupyter-client>=6.1.12->ipykernel>=4.5.1->ipywidgets) (0.4)\n",
            "Requirement already satisfied: ptyprocess>=0.5 in /home/antoine/.cache/pypoetry/virtualenvs/drake_ai-0bRsTVrO-py3.7/lib/python3.7/site-packages (from pexpect>4.3->ipython>=6.1.0->ipywidgets) (0.7.0)\n",
            "Requirement already satisfied: wcwidth in /home/antoine/.cache/pypoetry/virtualenvs/drake_ai-0bRsTVrO-py3.7/lib/python3.7/site-packages (from prompt-toolkit!=3.0.0,!=3.0.1,<3.1.0,>=2.0.0->ipython>=6.1.0->ipywidgets) (0.2.6)\n",
            "Requirement already satisfied: six>=1.5 in /home/antoine/.cache/pypoetry/virtualenvs/drake_ai-0bRsTVrO-py3.7/lib/python3.7/site-packages (from python-dateutil>=2.8.2->jupyter-client>=6.1.12->ipykernel>=4.5.1->ipywidgets) (1.16.0)\n",
            "\n",
            "\u001b[1m[\u001b[0m\u001b[34;49mnotice\u001b[0m\u001b[1;39;49m]\u001b[0m\u001b[39;49m A new release of pip is available: \u001b[0m\u001b[31;49m23.0.1\u001b[0m\u001b[39;49m -> \u001b[0m\u001b[32;49m23.1\u001b[0m\n",
            "\u001b[1m[\u001b[0m\u001b[34;49mnotice\u001b[0m\u001b[1;39;49m]\u001b[0m\u001b[39;49m To update, run: \u001b[0m\u001b[32;49mpip install --upgrade pip\u001b[0m\n",
            "Requirement already satisfied: huggingface_hub in /home/antoine/.cache/pypoetry/virtualenvs/drake_ai-0bRsTVrO-py3.7/lib/python3.7/site-packages (0.13.4)\n",
            "Requirement already satisfied: typing-extensions>=3.7.4.3 in /home/antoine/.cache/pypoetry/virtualenvs/drake_ai-0bRsTVrO-py3.7/lib/python3.7/site-packages (from huggingface_hub) (4.5.0)\n",
            "Requirement already satisfied: pyyaml>=5.1 in /home/antoine/.cache/pypoetry/virtualenvs/drake_ai-0bRsTVrO-py3.7/lib/python3.7/site-packages (from huggingface_hub) (6.0)\n",
            "Requirement already satisfied: importlib-metadata in /home/antoine/.cache/pypoetry/virtualenvs/drake_ai-0bRsTVrO-py3.7/lib/python3.7/site-packages (from huggingface_hub) (6.5.0)\n",
            "Requirement already satisfied: tqdm>=4.42.1 in /home/antoine/.cache/pypoetry/virtualenvs/drake_ai-0bRsTVrO-py3.7/lib/python3.7/site-packages (from huggingface_hub) (4.65.0)\n",
            "Requirement already satisfied: requests in /home/antoine/.cache/pypoetry/virtualenvs/drake_ai-0bRsTVrO-py3.7/lib/python3.7/site-packages (from huggingface_hub) (2.28.2)\n",
            "Requirement already satisfied: packaging>=20.9 in /home/antoine/.cache/pypoetry/virtualenvs/drake_ai-0bRsTVrO-py3.7/lib/python3.7/site-packages (from huggingface_hub) (23.1)\n",
            "Requirement already satisfied: filelock in /home/antoine/.cache/pypoetry/virtualenvs/drake_ai-0bRsTVrO-py3.7/lib/python3.7/site-packages (from huggingface_hub) (3.12.0)\n",
            "Requirement already satisfied: zipp>=0.5 in /home/antoine/.cache/pypoetry/virtualenvs/drake_ai-0bRsTVrO-py3.7/lib/python3.7/site-packages (from importlib-metadata->huggingface_hub) (3.15.0)\n",
            "Requirement already satisfied: certifi>=2017.4.17 in /home/antoine/.cache/pypoetry/virtualenvs/drake_ai-0bRsTVrO-py3.7/lib/python3.7/site-packages (from requests->huggingface_hub) (2022.12.7)\n",
            "Requirement already satisfied: charset-normalizer<4,>=2 in /home/antoine/.cache/pypoetry/virtualenvs/drake_ai-0bRsTVrO-py3.7/lib/python3.7/site-packages (from requests->huggingface_hub) (3.1.0)\n",
            "Requirement already satisfied: urllib3<1.27,>=1.21.1 in /home/antoine/.cache/pypoetry/virtualenvs/drake_ai-0bRsTVrO-py3.7/lib/python3.7/site-packages (from requests->huggingface_hub) (1.26.15)\n",
            "Requirement already satisfied: idna<4,>=2.5 in /home/antoine/.cache/pypoetry/virtualenvs/drake_ai-0bRsTVrO-py3.7/lib/python3.7/site-packages (from requests->huggingface_hub) (3.4)\n",
            "\n",
            "\u001b[1m[\u001b[0m\u001b[34;49mnotice\u001b[0m\u001b[1;39;49m]\u001b[0m\u001b[39;49m A new release of pip is available: \u001b[0m\u001b[31;49m23.0.1\u001b[0m\u001b[39;49m -> \u001b[0m\u001b[32;49m23.1\u001b[0m\n",
            "\u001b[1m[\u001b[0m\u001b[34;49mnotice\u001b[0m\u001b[1;39;49m]\u001b[0m\u001b[39;49m To update, run: \u001b[0m\u001b[32;49mpip install --upgrade pip\u001b[0m\n",
            "Requirement already satisfied: pip==23.0.1 in /home/antoine/.cache/pypoetry/virtualenvs/drake_ai-0bRsTVrO-py3.7/lib/python3.7/site-packages (23.0.1)\n",
            "\n",
            "\u001b[1m[\u001b[0m\u001b[34;49mnotice\u001b[0m\u001b[1;39;49m]\u001b[0m\u001b[39;49m A new release of pip is available: \u001b[0m\u001b[31;49m23.0.1\u001b[0m\u001b[39;49m -> \u001b[0m\u001b[32;49m23.1\u001b[0m\n",
            "\u001b[1m[\u001b[0m\u001b[34;49mnotice\u001b[0m\u001b[1;39;49m]\u001b[0m\u001b[39;49m To update, run: \u001b[0m\u001b[32;49mpip install --upgrade pip\u001b[0m\n",
            "Requirement already satisfied: fairseq==0.12.2 in /home/antoine/.cache/pypoetry/virtualenvs/drake_ai-0bRsTVrO-py3.7/lib/python3.7/site-packages (0.12.2)\n",
            "Requirement already satisfied: torchaudio>=0.8.0 in /home/antoine/.cache/pypoetry/virtualenvs/drake_ai-0bRsTVrO-py3.7/lib/python3.7/site-packages (from fairseq==0.12.2) (0.13.1)\n",
            "Requirement already satisfied: numpy in /home/antoine/.cache/pypoetry/virtualenvs/drake_ai-0bRsTVrO-py3.7/lib/python3.7/site-packages (from fairseq==0.12.2) (1.21.0)\n",
            "Requirement already satisfied: sacrebleu>=1.4.12 in /home/antoine/.cache/pypoetry/virtualenvs/drake_ai-0bRsTVrO-py3.7/lib/python3.7/site-packages (from fairseq==0.12.2) (2.3.1)\n",
            "Requirement already satisfied: cython in /home/antoine/.cache/pypoetry/virtualenvs/drake_ai-0bRsTVrO-py3.7/lib/python3.7/site-packages (from fairseq==0.12.2) (0.29.34)\n",
            "Requirement already satisfied: cffi in /home/antoine/.cache/pypoetry/virtualenvs/drake_ai-0bRsTVrO-py3.7/lib/python3.7/site-packages (from fairseq==0.12.2) (1.15.1)\n",
            "Requirement already satisfied: regex in /home/antoine/.cache/pypoetry/virtualenvs/drake_ai-0bRsTVrO-py3.7/lib/python3.7/site-packages (from fairseq==0.12.2) (2022.10.31)\n",
            "Requirement already satisfied: hydra-core<1.1,>=1.0.7 in /home/antoine/.cache/pypoetry/virtualenvs/drake_ai-0bRsTVrO-py3.7/lib/python3.7/site-packages (from fairseq==0.12.2) (1.0.7)\n",
            "Requirement already satisfied: omegaconf<2.1 in /home/antoine/.cache/pypoetry/virtualenvs/drake_ai-0bRsTVrO-py3.7/lib/python3.7/site-packages (from fairseq==0.12.2) (2.0.6)\n",
            "Requirement already satisfied: torch in /home/antoine/.cache/pypoetry/virtualenvs/drake_ai-0bRsTVrO-py3.7/lib/python3.7/site-packages (from fairseq==0.12.2) (1.13.1)\n",
            "Requirement already satisfied: bitarray in /home/antoine/.cache/pypoetry/virtualenvs/drake_ai-0bRsTVrO-py3.7/lib/python3.7/site-packages (from fairseq==0.12.2) (2.7.3)\n",
            "Requirement already satisfied: tqdm in /home/antoine/.cache/pypoetry/virtualenvs/drake_ai-0bRsTVrO-py3.7/lib/python3.7/site-packages (from fairseq==0.12.2) (4.65.0)\n",
            "Requirement already satisfied: antlr4-python3-runtime==4.8 in /home/antoine/.cache/pypoetry/virtualenvs/drake_ai-0bRsTVrO-py3.7/lib/python3.7/site-packages (from hydra-core<1.1,>=1.0.7->fairseq==0.12.2) (4.8)\n",
            "Requirement already satisfied: importlib-resources in /home/antoine/.cache/pypoetry/virtualenvs/drake_ai-0bRsTVrO-py3.7/lib/python3.7/site-packages (from hydra-core<1.1,>=1.0.7->fairseq==0.12.2) (5.12.0)\n",
            "Requirement already satisfied: typing-extensions in /home/antoine/.cache/pypoetry/virtualenvs/drake_ai-0bRsTVrO-py3.7/lib/python3.7/site-packages (from omegaconf<2.1->fairseq==0.12.2) (4.5.0)\n",
            "Requirement already satisfied: PyYAML>=5.1.* in /home/antoine/.cache/pypoetry/virtualenvs/drake_ai-0bRsTVrO-py3.7/lib/python3.7/site-packages (from omegaconf<2.1->fairseq==0.12.2) (6.0)\n",
            "Requirement already satisfied: tabulate>=0.8.9 in /home/antoine/.cache/pypoetry/virtualenvs/drake_ai-0bRsTVrO-py3.7/lib/python3.7/site-packages (from sacrebleu>=1.4.12->fairseq==0.12.2) (0.9.0)\n",
            "Requirement already satisfied: portalocker in /home/antoine/.cache/pypoetry/virtualenvs/drake_ai-0bRsTVrO-py3.7/lib/python3.7/site-packages (from sacrebleu>=1.4.12->fairseq==0.12.2) (2.7.0)\n",
            "Requirement already satisfied: lxml in /home/antoine/.cache/pypoetry/virtualenvs/drake_ai-0bRsTVrO-py3.7/lib/python3.7/site-packages (from sacrebleu>=1.4.12->fairseq==0.12.2) (4.9.2)\n",
            "Requirement already satisfied: colorama in /home/antoine/.cache/pypoetry/virtualenvs/drake_ai-0bRsTVrO-py3.7/lib/python3.7/site-packages (from sacrebleu>=1.4.12->fairseq==0.12.2) (0.4.6)\n",
            "Requirement already satisfied: nvidia-cuda-nvrtc-cu11==11.7.99 in /home/antoine/.cache/pypoetry/virtualenvs/drake_ai-0bRsTVrO-py3.7/lib/python3.7/site-packages (from torch->fairseq==0.12.2) (11.7.99)\n",
            "Requirement already satisfied: nvidia-cudnn-cu11==8.5.0.96 in /home/antoine/.cache/pypoetry/virtualenvs/drake_ai-0bRsTVrO-py3.7/lib/python3.7/site-packages (from torch->fairseq==0.12.2) (8.5.0.96)\n",
            "Requirement already satisfied: nvidia-cublas-cu11==11.10.3.66 in /home/antoine/.cache/pypoetry/virtualenvs/drake_ai-0bRsTVrO-py3.7/lib/python3.7/site-packages (from torch->fairseq==0.12.2) (11.10.3.66)\n",
            "Requirement already satisfied: nvidia-cuda-runtime-cu11==11.7.99 in /home/antoine/.cache/pypoetry/virtualenvs/drake_ai-0bRsTVrO-py3.7/lib/python3.7/site-packages (from torch->fairseq==0.12.2) (11.7.99)\n",
            "Requirement already satisfied: wheel in /home/antoine/.cache/pypoetry/virtualenvs/drake_ai-0bRsTVrO-py3.7/lib/python3.7/site-packages (from nvidia-cublas-cu11==11.10.3.66->torch->fairseq==0.12.2) (0.40.0)\n",
            "Requirement already satisfied: setuptools in /home/antoine/.cache/pypoetry/virtualenvs/drake_ai-0bRsTVrO-py3.7/lib/python3.7/site-packages (from nvidia-cublas-cu11==11.10.3.66->torch->fairseq==0.12.2) (67.6.1)\n",
            "Requirement already satisfied: pycparser in /home/antoine/.cache/pypoetry/virtualenvs/drake_ai-0bRsTVrO-py3.7/lib/python3.7/site-packages (from cffi->fairseq==0.12.2) (2.21)\n",
            "Requirement already satisfied: zipp>=3.1.0 in /home/antoine/.cache/pypoetry/virtualenvs/drake_ai-0bRsTVrO-py3.7/lib/python3.7/site-packages (from importlib-resources->hydra-core<1.1,>=1.0.7->fairseq==0.12.2) (3.15.0)\n",
            "\n",
            "\u001b[1m[\u001b[0m\u001b[34;49mnotice\u001b[0m\u001b[1;39;49m]\u001b[0m\u001b[39;49m A new release of pip is available: \u001b[0m\u001b[31;49m23.0.1\u001b[0m\u001b[39;49m -> \u001b[0m\u001b[32;49m23.1\u001b[0m\n",
            "\u001b[1m[\u001b[0m\u001b[34;49mnotice\u001b[0m\u001b[1;39;49m]\u001b[0m\u001b[39;49m To update, run: \u001b[0m\u001b[32;49mpip install --upgrade pip\u001b[0m\n",
            "Enabling notebook extension jupyter-js-widgets/extension...\n",
            "      - Validating: \u001b[32mOK\u001b[0m\n",
            "Requirement already satisfied: numpy==1.21 in /home/antoine/.cache/pypoetry/virtualenvs/drake_ai-0bRsTVrO-py3.7/lib/python3.7/site-packages (1.21.0)\n",
            "\n",
            "\u001b[1m[\u001b[0m\u001b[34;49mnotice\u001b[0m\u001b[1;39;49m]\u001b[0m\u001b[39;49m A new release of pip is available: \u001b[0m\u001b[31;49m23.0.1\u001b[0m\u001b[39;49m -> \u001b[0m\u001b[32;49m23.1\u001b[0m\n",
            "\u001b[1m[\u001b[0m\u001b[34;49mnotice\u001b[0m\u001b[1;39;49m]\u001b[0m\u001b[39;49m To update, run: \u001b[0m\u001b[32;49mpip install --upgrade pip\u001b[0m\n",
            "\u001b[31mERROR: Invalid requirement: 'protobuf=3.9.2'\n",
            "Hint: = is not a valid operator. Did you mean == ?\u001b[0m\u001b[31m\n",
            "\u001b[0m\n",
            "\u001b[1m[\u001b[0m\u001b[34;49mnotice\u001b[0m\u001b[1;39;49m]\u001b[0m\u001b[39;49m A new release of pip is available: \u001b[0m\u001b[31;49m23.0.1\u001b[0m\u001b[39;49m -> \u001b[0m\u001b[32;49m23.1\u001b[0m\n",
            "\u001b[1m[\u001b[0m\u001b[34;49mnotice\u001b[0m\u001b[1;39;49m]\u001b[0m\u001b[39;49m To update, run: \u001b[0m\u001b[32;49mpip install --upgrade pip\u001b[0m\n",
            "Found existing installation: tensorflow 2.11.0\n",
            "Uninstalling tensorflow-2.11.0:\n",
            "  Successfully uninstalled tensorflow-2.11.0\n",
            "Collecting tensorflow==2.11.0\n",
            "  Using cached tensorflow-2.11.0-cp37-cp37m-manylinux_2_17_x86_64.manylinux2014_x86_64.whl (588.3 MB)\n",
            "Requirement already satisfied: libclang>=13.0.0 in /home/antoine/.cache/pypoetry/virtualenvs/drake_ai-0bRsTVrO-py3.7/lib/python3.7/site-packages (from tensorflow==2.11.0) (16.0.0)\n",
            "Requirement already satisfied: six>=1.12.0 in /home/antoine/.cache/pypoetry/virtualenvs/drake_ai-0bRsTVrO-py3.7/lib/python3.7/site-packages (from tensorflow==2.11.0) (1.16.0)\n",
            "Requirement already satisfied: gast<=0.4.0,>=0.2.1 in /home/antoine/.cache/pypoetry/virtualenvs/drake_ai-0bRsTVrO-py3.7/lib/python3.7/site-packages (from tensorflow==2.11.0) (0.4.0)\n",
            "Requirement already satisfied: typing-extensions>=3.6.6 in /home/antoine/.cache/pypoetry/virtualenvs/drake_ai-0bRsTVrO-py3.7/lib/python3.7/site-packages (from tensorflow==2.11.0) (4.5.0)\n",
            "Requirement already satisfied: flatbuffers>=2.0 in /home/antoine/.cache/pypoetry/virtualenvs/drake_ai-0bRsTVrO-py3.7/lib/python3.7/site-packages (from tensorflow==2.11.0) (23.3.3)\n",
            "Requirement already satisfied: termcolor>=1.1.0 in /home/antoine/.cache/pypoetry/virtualenvs/drake_ai-0bRsTVrO-py3.7/lib/python3.7/site-packages (from tensorflow==2.11.0) (2.2.0)\n",
            "Requirement already satisfied: setuptools in /home/antoine/.cache/pypoetry/virtualenvs/drake_ai-0bRsTVrO-py3.7/lib/python3.7/site-packages (from tensorflow==2.11.0) (67.6.1)\n",
            "Requirement already satisfied: numpy>=1.20 in /home/antoine/.cache/pypoetry/virtualenvs/drake_ai-0bRsTVrO-py3.7/lib/python3.7/site-packages (from tensorflow==2.11.0) (1.21.0)\n",
            "Requirement already satisfied: google-pasta>=0.1.1 in /home/antoine/.cache/pypoetry/virtualenvs/drake_ai-0bRsTVrO-py3.7/lib/python3.7/site-packages (from tensorflow==2.11.0) (0.2.0)\n",
            "Requirement already satisfied: tensorflow-estimator<2.12,>=2.11.0 in /home/antoine/.cache/pypoetry/virtualenvs/drake_ai-0bRsTVrO-py3.7/lib/python3.7/site-packages (from tensorflow==2.11.0) (2.11.0)\n",
            "Requirement already satisfied: keras<2.12,>=2.11.0 in /home/antoine/.cache/pypoetry/virtualenvs/drake_ai-0bRsTVrO-py3.7/lib/python3.7/site-packages (from tensorflow==2.11.0) (2.11.0)\n",
            "Requirement already satisfied: wrapt>=1.11.0 in /home/antoine/.cache/pypoetry/virtualenvs/drake_ai-0bRsTVrO-py3.7/lib/python3.7/site-packages (from tensorflow==2.11.0) (1.15.0)\n",
            "Collecting protobuf<3.20,>=3.9.2\n",
            "  Using cached protobuf-3.19.6-cp37-cp37m-manylinux_2_17_x86_64.manylinux2014_x86_64.whl (1.1 MB)\n",
            "Requirement already satisfied: tensorflow-io-gcs-filesystem>=0.23.1 in /home/antoine/.cache/pypoetry/virtualenvs/drake_ai-0bRsTVrO-py3.7/lib/python3.7/site-packages (from tensorflow==2.11.0) (0.32.0)\n",
            "Requirement already satisfied: absl-py>=1.0.0 in /home/antoine/.cache/pypoetry/virtualenvs/drake_ai-0bRsTVrO-py3.7/lib/python3.7/site-packages (from tensorflow==2.11.0) (1.4.0)\n",
            "Requirement already satisfied: tensorboard<2.12,>=2.11 in /home/antoine/.cache/pypoetry/virtualenvs/drake_ai-0bRsTVrO-py3.7/lib/python3.7/site-packages (from tensorflow==2.11.0) (2.11.2)\n",
            "Requirement already satisfied: astunparse>=1.6.0 in /home/antoine/.cache/pypoetry/virtualenvs/drake_ai-0bRsTVrO-py3.7/lib/python3.7/site-packages (from tensorflow==2.11.0) (1.6.3)\n",
            "Requirement already satisfied: packaging in /home/antoine/.cache/pypoetry/virtualenvs/drake_ai-0bRsTVrO-py3.7/lib/python3.7/site-packages (from tensorflow==2.11.0) (23.1)\n",
            "Requirement already satisfied: h5py>=2.9.0 in /home/antoine/.cache/pypoetry/virtualenvs/drake_ai-0bRsTVrO-py3.7/lib/python3.7/site-packages (from tensorflow==2.11.0) (3.8.0)\n",
            "Requirement already satisfied: opt-einsum>=2.3.2 in /home/antoine/.cache/pypoetry/virtualenvs/drake_ai-0bRsTVrO-py3.7/lib/python3.7/site-packages (from tensorflow==2.11.0) (3.3.0)\n",
            "Requirement already satisfied: grpcio<2.0,>=1.24.3 in /home/antoine/.cache/pypoetry/virtualenvs/drake_ai-0bRsTVrO-py3.7/lib/python3.7/site-packages (from tensorflow==2.11.0) (1.54.0)\n",
            "Requirement already satisfied: wheel<1.0,>=0.23.0 in /home/antoine/.cache/pypoetry/virtualenvs/drake_ai-0bRsTVrO-py3.7/lib/python3.7/site-packages (from astunparse>=1.6.0->tensorflow==2.11.0) (0.40.0)\n",
            "Requirement already satisfied: markdown>=2.6.8 in /home/antoine/.cache/pypoetry/virtualenvs/drake_ai-0bRsTVrO-py3.7/lib/python3.7/site-packages (from tensorboard<2.12,>=2.11->tensorflow==2.11.0) (3.4.3)\n",
            "Requirement already satisfied: tensorboard-data-server<0.7.0,>=0.6.0 in /home/antoine/.cache/pypoetry/virtualenvs/drake_ai-0bRsTVrO-py3.7/lib/python3.7/site-packages (from tensorboard<2.12,>=2.11->tensorflow==2.11.0) (0.6.1)\n",
            "Requirement already satisfied: tensorboard-plugin-wit>=1.6.0 in /home/antoine/.cache/pypoetry/virtualenvs/drake_ai-0bRsTVrO-py3.7/lib/python3.7/site-packages (from tensorboard<2.12,>=2.11->tensorflow==2.11.0) (1.8.1)\n",
            "Requirement already satisfied: google-auth-oauthlib<0.5,>=0.4.1 in /home/antoine/.cache/pypoetry/virtualenvs/drake_ai-0bRsTVrO-py3.7/lib/python3.7/site-packages (from tensorboard<2.12,>=2.11->tensorflow==2.11.0) (0.4.6)\n",
            "Requirement already satisfied: google-auth<3,>=1.6.3 in /home/antoine/.cache/pypoetry/virtualenvs/drake_ai-0bRsTVrO-py3.7/lib/python3.7/site-packages (from tensorboard<2.12,>=2.11->tensorflow==2.11.0) (2.17.3)\n",
            "Requirement already satisfied: requests<3,>=2.21.0 in /home/antoine/.cache/pypoetry/virtualenvs/drake_ai-0bRsTVrO-py3.7/lib/python3.7/site-packages (from tensorboard<2.12,>=2.11->tensorflow==2.11.0) (2.28.2)\n",
            "Requirement already satisfied: werkzeug>=1.0.1 in /home/antoine/.cache/pypoetry/virtualenvs/drake_ai-0bRsTVrO-py3.7/lib/python3.7/site-packages (from tensorboard<2.12,>=2.11->tensorflow==2.11.0) (2.2.3)\n",
            "Requirement already satisfied: cachetools<6.0,>=2.0.0 in /home/antoine/.cache/pypoetry/virtualenvs/drake_ai-0bRsTVrO-py3.7/lib/python3.7/site-packages (from google-auth<3,>=1.6.3->tensorboard<2.12,>=2.11->tensorflow==2.11.0) (5.3.0)\n",
            "Requirement already satisfied: pyasn1-modules>=0.2.1 in /home/antoine/.cache/pypoetry/virtualenvs/drake_ai-0bRsTVrO-py3.7/lib/python3.7/site-packages (from google-auth<3,>=1.6.3->tensorboard<2.12,>=2.11->tensorflow==2.11.0) (0.2.8)\n",
            "Requirement already satisfied: rsa<5,>=3.1.4 in /home/antoine/.cache/pypoetry/virtualenvs/drake_ai-0bRsTVrO-py3.7/lib/python3.7/site-packages (from google-auth<3,>=1.6.3->tensorboard<2.12,>=2.11->tensorflow==2.11.0) (4.9)\n",
            "Requirement already satisfied: requests-oauthlib>=0.7.0 in /home/antoine/.cache/pypoetry/virtualenvs/drake_ai-0bRsTVrO-py3.7/lib/python3.7/site-packages (from google-auth-oauthlib<0.5,>=0.4.1->tensorboard<2.12,>=2.11->tensorflow==2.11.0) (1.3.1)\n",
            "Requirement already satisfied: importlib-metadata>=4.4 in /home/antoine/.cache/pypoetry/virtualenvs/drake_ai-0bRsTVrO-py3.7/lib/python3.7/site-packages (from markdown>=2.6.8->tensorboard<2.12,>=2.11->tensorflow==2.11.0) (6.5.0)\n",
            "Requirement already satisfied: urllib3<1.27,>=1.21.1 in /home/antoine/.cache/pypoetry/virtualenvs/drake_ai-0bRsTVrO-py3.7/lib/python3.7/site-packages (from requests<3,>=2.21.0->tensorboard<2.12,>=2.11->tensorflow==2.11.0) (1.26.15)\n",
            "Requirement already satisfied: charset-normalizer<4,>=2 in /home/antoine/.cache/pypoetry/virtualenvs/drake_ai-0bRsTVrO-py3.7/lib/python3.7/site-packages (from requests<3,>=2.21.0->tensorboard<2.12,>=2.11->tensorflow==2.11.0) (3.1.0)\n",
            "Requirement already satisfied: idna<4,>=2.5 in /home/antoine/.cache/pypoetry/virtualenvs/drake_ai-0bRsTVrO-py3.7/lib/python3.7/site-packages (from requests<3,>=2.21.0->tensorboard<2.12,>=2.11->tensorflow==2.11.0) (3.4)\n",
            "Requirement already satisfied: certifi>=2017.4.17 in /home/antoine/.cache/pypoetry/virtualenvs/drake_ai-0bRsTVrO-py3.7/lib/python3.7/site-packages (from requests<3,>=2.21.0->tensorboard<2.12,>=2.11->tensorflow==2.11.0) (2022.12.7)\n",
            "Requirement already satisfied: MarkupSafe>=2.1.1 in /home/antoine/.cache/pypoetry/virtualenvs/drake_ai-0bRsTVrO-py3.7/lib/python3.7/site-packages (from werkzeug>=1.0.1->tensorboard<2.12,>=2.11->tensorflow==2.11.0) (2.1.2)\n",
            "Requirement already satisfied: zipp>=0.5 in /home/antoine/.cache/pypoetry/virtualenvs/drake_ai-0bRsTVrO-py3.7/lib/python3.7/site-packages (from importlib-metadata>=4.4->markdown>=2.6.8->tensorboard<2.12,>=2.11->tensorflow==2.11.0) (3.15.0)\n",
            "Requirement already satisfied: pyasn1<0.5.0,>=0.4.6 in /home/antoine/.cache/pypoetry/virtualenvs/drake_ai-0bRsTVrO-py3.7/lib/python3.7/site-packages (from pyasn1-modules>=0.2.1->google-auth<3,>=1.6.3->tensorboard<2.12,>=2.11->tensorflow==2.11.0) (0.4.8)\n",
            "Requirement already satisfied: oauthlib>=3.0.0 in /home/antoine/.cache/pypoetry/virtualenvs/drake_ai-0bRsTVrO-py3.7/lib/python3.7/site-packages (from requests-oauthlib>=0.7.0->google-auth-oauthlib<0.5,>=0.4.1->tensorboard<2.12,>=2.11->tensorflow==2.11.0) (3.2.2)\n",
            "Installing collected packages: protobuf, tensorflow\n",
            "  Attempting uninstall: protobuf\n",
            "    Found existing installation: protobuf 3.20.3\n",
            "    Uninstalling protobuf-3.20.3:\n",
            "      Successfully uninstalled protobuf-3.20.3\n",
            "\u001b[31mERROR: pip's dependency resolver does not currently take into account all the packages that are installed. This behaviour is the source of the following dependency conflicts.\n",
            "onnx 1.13.1 requires protobuf<4,>=3.20.2, but you have protobuf 3.19.6 which is incompatible.\u001b[0m\u001b[31m\n",
            "\u001b[0mSuccessfully installed protobuf-3.19.6 tensorflow-2.11.0\n",
            "\n",
            "\u001b[1m[\u001b[0m\u001b[34;49mnotice\u001b[0m\u001b[1;39;49m]\u001b[0m\u001b[39;49m A new release of pip is available: \u001b[0m\u001b[31;49m23.0.1\u001b[0m\u001b[39;49m -> \u001b[0m\u001b[32;49m23.1\u001b[0m\n",
            "\u001b[1m[\u001b[0m\u001b[34;49mnotice\u001b[0m\u001b[1;39;49m]\u001b[0m\u001b[39;49m To update, run: \u001b[0m\u001b[32;49mpip install --upgrade pip\u001b[0m\n",
            "Collecting gdown\n",
            "  Using cached gdown-4.7.1-py3-none-any.whl (15 kB)\n",
            "Requirement already satisfied: six in /home/antoine/.cache/pypoetry/virtualenvs/drake_ai-0bRsTVrO-py3.7/lib/python3.7/site-packages (from gdown) (1.16.0)\n",
            "Collecting beautifulsoup4\n",
            "  Using cached beautifulsoup4-4.12.2-py3-none-any.whl (142 kB)\n",
            "Requirement already satisfied: requests[socks] in /home/antoine/.cache/pypoetry/virtualenvs/drake_ai-0bRsTVrO-py3.7/lib/python3.7/site-packages (from gdown) (2.28.2)\n",
            "Requirement already satisfied: tqdm in /home/antoine/.cache/pypoetry/virtualenvs/drake_ai-0bRsTVrO-py3.7/lib/python3.7/site-packages (from gdown) (4.65.0)\n",
            "Requirement already satisfied: filelock in /home/antoine/.cache/pypoetry/virtualenvs/drake_ai-0bRsTVrO-py3.7/lib/python3.7/site-packages (from gdown) (3.12.0)\n",
            "Collecting soupsieve>1.2\n",
            "  Using cached soupsieve-2.4.1-py3-none-any.whl (36 kB)\n",
            "Requirement already satisfied: charset-normalizer<4,>=2 in /home/antoine/.cache/pypoetry/virtualenvs/drake_ai-0bRsTVrO-py3.7/lib/python3.7/site-packages (from requests[socks]->gdown) (3.1.0)\n",
            "Requirement already satisfied: urllib3<1.27,>=1.21.1 in /home/antoine/.cache/pypoetry/virtualenvs/drake_ai-0bRsTVrO-py3.7/lib/python3.7/site-packages (from requests[socks]->gdown) (1.26.15)\n",
            "Requirement already satisfied: certifi>=2017.4.17 in /home/antoine/.cache/pypoetry/virtualenvs/drake_ai-0bRsTVrO-py3.7/lib/python3.7/site-packages (from requests[socks]->gdown) (2022.12.7)\n",
            "Requirement already satisfied: idna<4,>=2.5 in /home/antoine/.cache/pypoetry/virtualenvs/drake_ai-0bRsTVrO-py3.7/lib/python3.7/site-packages (from requests[socks]->gdown) (3.4)\n",
            "Collecting PySocks!=1.5.7,>=1.5.6\n",
            "  Using cached PySocks-1.7.1-py3-none-any.whl (16 kB)\n",
            "Installing collected packages: soupsieve, PySocks, beautifulsoup4, gdown\n",
            "Successfully installed PySocks-1.7.1 beautifulsoup4-4.12.2 gdown-4.7.1 soupsieve-2.4.1\n",
            "\n",
            "\u001b[1m[\u001b[0m\u001b[34;49mnotice\u001b[0m\u001b[1;39;49m]\u001b[0m\u001b[39;49m A new release of pip is available: \u001b[0m\u001b[31;49m23.0.1\u001b[0m\u001b[39;49m -> \u001b[0m\u001b[32;49m23.1\u001b[0m\n",
            "\u001b[1m[\u001b[0m\u001b[34;49mnotice\u001b[0m\u001b[1;39;49m]\u001b[0m\u001b[39;49m To update, run: \u001b[0m\u001b[32;49mpip install --upgrade pip\u001b[0m\n"
          ]
        }
      ],
      "source": [
        "#@title Setup 1 (just run this once)\n",
        "import os\n",
        "import glob\n",
        "!git clone https://github.com/effusiveperiscope/so-vits-svc -b eff-4.0\n",
        "os.chdir('so-vits-svc')\n",
        "# install requirements one-at-a-time to ignore exceptions\n",
        "!cat requirements.txt | xargs -n 1 pip install --extra-index-url https://download.pytorch.org/whl/cu116\n",
        "!pip install praat-parselmouth\n",
        "!pip install ipywidgets\n",
        "!pip install huggingface_hub\n",
        "!pip install pip==23.0.1 # fix pip version for fairseq install\n",
        "!pip install fairseq==0.12.2\n",
        "!jupyter nbextension enable --py widgetsnbextension\n",
        "existing_files = glob.glob('/content/**/*.*', recursive=True)\n",
        "!pip install numpy==1.21\n",
        "!pip install --upgrade protobuf=3.9.2\n",
        "!pip uninstall -y tensorflow\n",
        "!pip install tensorflow==2.11.0 \n",
        "!pip install gdown"
      ]
    },
    {
      "cell_type": "code",
      "execution_count": 15,
      "metadata": {
        "cellView": "form",
        "id": "K7aE5WZqdStA"
      },
      "outputs": [
        {
          "name": "stdout",
          "output_type": "stream",
          "text": [
            "Finished!\n"
          ]
        }
      ],
      "source": [
        "#@title Setup 2 (just run this once)\n",
        "os.chdir('/content/so-vits-svc') # force working-directory to so-vits-svc - this line is just for safety and is probably not required\n",
        "\n",
        "import tarfile\n",
        "import os\n",
        "from zipfile import ZipFile\n",
        "# taken from https://github.com/CookiePPP/cookietts/blob/master/CookieTTS/utils/dataset/extract_unknown.py\n",
        "def extract(path):\n",
        "    if path.endswith(\".zip\"):\n",
        "        with ZipFile(path, 'r') as zipObj:\n",
        "           zipObj.extractall(os.path.split(path)[0])\n",
        "    elif path.endswith(\".tar.bz2\"):\n",
        "        tar = tarfile.open(path, \"r:bz2\")\n",
        "        tar.extractall(os.path.split(path)[0])\n",
        "        tar.close()\n",
        "    elif path.endswith(\".tar.gz\"):\n",
        "        tar = tarfile.open(path, \"r:gz\")\n",
        "        tar.extractall(os.path.split(path)[0])\n",
        "        tar.close()\n",
        "    elif path.endswith(\".tar\"):\n",
        "        tar = tarfile.open(path, \"r:\")\n",
        "        tar.extractall(os.path.split(path)[0])\n",
        "        tar.close()\n",
        "    elif path.endswith(\".7z\"):\n",
        "        import py7zr\n",
        "        archive = py7zr.SevenZipFile(path, mode='r')\n",
        "        archive.extractall(path=os.path.split(path)[0])\n",
        "        archive.close()\n",
        "    else:\n",
        "        raise NotImplementedError(f\"{path} extension not implemented.\")\n",
        "\n",
        "# taken from https://github.com/CookiePPP/cookietts/tree/master/CookieTTS/_0_download/scripts\n",
        "\n",
        "# megatools download urls\n",
        "win64_url = \"https://megatools.megous.com/builds/builds/megatools-1.11.1.20230212-win64.zip\"\n",
        "win32_url = \"https://megatools.megous.com/builds/builds/megatools-1.11.1.20230212-win32.zip\"\n",
        "linux_url = \"https://megatools.megous.com/builds/builds/megatools-1.11.1.20230212-linux-x86_64.tar.gz\"\n",
        "# download megatools\n",
        "from sys import platform\n",
        "import os\n",
        "import urllib.request\n",
        "import subprocess\n",
        "from time import sleep\n",
        "\n",
        "if platform == \"linux\" or platform == \"linux2\":\n",
        "        dl_url = linux_url\n",
        "elif platform == \"darwin\":\n",
        "    raise NotImplementedError('MacOS not supported.')\n",
        "elif platform == \"win32\":\n",
        "        dl_url = win64_url\n",
        "else:\n",
        "    raise NotImplementedError ('Unknown Operating System.')\n",
        "\n",
        "dlname = dl_url.split(\"/\")[-1]\n",
        "if dlname.endswith(\".zip\"):\n",
        "    binary_folder = dlname[:-4] # remove .zip\n",
        "elif dlname.endswith(\".tar.gz\"):\n",
        "    binary_folder = dlname[:-7] # remove .tar.gz\n",
        "else:\n",
        "    raise NameError('downloaded megatools has unknown archive file extension!')\n",
        "\n",
        "if not os.path.exists(binary_folder):\n",
        "    print('\"megatools\" not found. Downloading...')\n",
        "    if not os.path.exists(dlname):\n",
        "        urllib.request.urlretrieve(dl_url, dlname)\n",
        "    assert os.path.exists(dlname), 'failed to download.'\n",
        "    extract(dlname)\n",
        "    sleep(0.10)\n",
        "    os.unlink(dlname)\n",
        "    print(\"Done!\")\n",
        "\n",
        "\n",
        "binary_folder = os.path.abspath(binary_folder)\n",
        "\n",
        "def megadown(download_link, filename='.', verbose=False):\n",
        "    \"\"\"Use megatools binary executable to download files and folders from MEGA.nz .\"\"\"\n",
        "    filename = ' --path \"'+os.path.abspath(filename)+'\"' if filename else \"\"\n",
        "    wd_old = os.getcwd()\n",
        "    os.chdir(binary_folder)\n",
        "    try:\n",
        "        if platform == \"linux\" or platform == \"linux2\":\n",
        "            subprocess.call(f'./megatools dl{filename}{\" --debug http\" if verbose else \"\"} {download_link}', shell=True)\n",
        "        elif platform == \"win32\":\n",
        "            subprocess.call(f'megatools.exe dl{filename}{\" --debug http\" if verbose else \"\"} {download_link}', shell=True)\n",
        "    except:\n",
        "        os.chdir(wd_old) # don't let user stop download without going back to correct directory first\n",
        "        raise\n",
        "    os.chdir(wd_old)\n",
        "    return filename\n",
        "\n",
        "import urllib.request\n",
        "from tqdm import tqdm\n",
        "import gdown\n",
        "from os.path import exists\n",
        "\n",
        "def request_url_with_progress_bar(url, filename):\n",
        "    class DownloadProgressBar(tqdm):\n",
        "        def update_to(self, b=1, bsize=1, tsize=None):\n",
        "            if tsize is not None:\n",
        "                self.total = tsize\n",
        "            self.update(b * bsize - self.n)\n",
        "    \n",
        "    def download_url(url, filename):\n",
        "        with DownloadProgressBar(unit='B', unit_scale=True,\n",
        "                                 miniters=1, desc=url.split('/')[-1]) as t:\n",
        "            filename, headers = urllib.request.urlretrieve(url, filename=filename, reporthook=t.update_to)\n",
        "            print(\"Downloaded to \"+filename)\n",
        "    download_url(url, filename)\n",
        "\n",
        "\n",
        "def download(urls, dataset='', filenames=None, force_dl=False, username='', password='', auth_needed=False):\n",
        "    assert filenames is None or len(urls) == len(filenames), f\"number of urls does not match filenames. Expected {len(filenames)} urls, containing the files listed below.\\n{filenames}\"\n",
        "    assert not auth_needed or (len(username) and len(password)), f\"username and password needed for {dataset} Dataset\"\n",
        "    if filenames is None:\n",
        "        filenames = [None,]*len(urls)\n",
        "    for i, (url, filename) in enumerate(zip(urls, filenames)):\n",
        "        print(f\"Downloading File from {url}\")\n",
        "        #if filename is None:\n",
        "        #    filename = url.split(\"/\")[-1]\n",
        "        if filename and (not force_dl) and exists(filename):\n",
        "            print(f\"{filename} Already Exists, Skipping.\")\n",
        "            continue\n",
        "        if 'drive.google.com' in url:\n",
        "            assert 'https://drive.google.com/uc?id=' in url, 'Google Drive links should follow the format \"https://drive.google.com/uc?id=1eQAnaoDBGQZldPVk-nzgYzRbcPSmnpv6\".\\nWhere id=XXXXXXXXXXXXXXXXX is the Google Drive Share ID.'\n",
        "            gdown.download(url, filename, quiet=False)\n",
        "        elif 'mega.nz' in url:\n",
        "            megadown(url, filename)\n",
        "        else:\n",
        "            #urllib.request.urlretrieve(url, filename=filename) # no progress bar\n",
        "            request_url_with_progress_bar(url, filename) # with progress bar\n",
        "\n",
        "import huggingface_hub\n",
        "import os\n",
        "import shutil\n",
        "\n",
        "class HFModels:\n",
        "    def __init__(self, repo = \"therealvul/so-vits-svc-4.0\", \n",
        "            model_dir = \"hf_vul_models\"):\n",
        "        self.model_repo = huggingface_hub.Repository(local_dir=model_dir,\n",
        "            clone_from=repo, skip_lfs_files=True)\n",
        "        self.repo = repo\n",
        "        self.model_dir = model_dir\n",
        "\n",
        "        self.model_folders = os.listdir(model_dir)\n",
        "        self.model_folders.remove('.git')\n",
        "        self.model_folders.remove('.gitattributes')\n",
        "\n",
        "    def list_models(self):\n",
        "        return self.model_folders\n",
        "\n",
        "    # Downloads model;\n",
        "    # copies config to target_dir and moves model to target_dir\n",
        "    def download_model(self, model_name, target_dir):\n",
        "        if not model_name in self.model_folders:\n",
        "            raise Exception(model_name + \" not found\")\n",
        "        model_dir = self.model_dir\n",
        "        charpath = os.path.join(model_dir,model_name)\n",
        "\n",
        "        gen_pt = next(x for x in os.listdir(charpath) if x.startswith(\"G_\"))\n",
        "        cfg = next(x for x in os.listdir(charpath) if x.endswith(\"json\"))\n",
        "        try:\n",
        "          clust = next(x for x in os.listdir(charpath) if x.endswith(\"pt\"))\n",
        "        except StopIteration as e:\n",
        "          print(\"Note - no cluster model for \"+model_name)\n",
        "          clust = None\n",
        "\n",
        "        if not os.path.exists(target_dir):\n",
        "            os.makedirs(target_dir, exist_ok=True)\n",
        "\n",
        "        gen_dir = huggingface_hub.hf_hub_download(repo_id = self.repo,\n",
        "            filename = model_name + \"/\" + gen_pt) # this is a symlink\n",
        "        \n",
        "        if clust is not None:\n",
        "          clust_dir = huggingface_hub.hf_hub_download(repo_id = self.repo,\n",
        "              filename = model_name + \"/\" + clust) # this is a symlink\n",
        "          shutil.move(os.path.realpath(clust_dir), os.path.join(target_dir, clust))\n",
        "          clust_out = os.path.join(target_dir, clust)\n",
        "        else:\n",
        "          clust_out = None\n",
        "\n",
        "        shutil.copy(os.path.join(charpath,cfg),os.path.join(target_dir, cfg))\n",
        "        shutil.move(os.path.realpath(gen_dir), os.path.join(target_dir, gen_pt))\n",
        "\n",
        "        return {\"config_path\": os.path.join(target_dir,cfg),\n",
        "            \"generator_path\": os.path.join(target_dir,gen_pt),\n",
        "            \"cluster_path\": clust_out}\n",
        "\n",
        "# Example usage\n",
        "# vul_models = HFModels()\n",
        "# print(vul_models.list_models())\n",
        "# print(\"Applejack (singing)\" in vul_models.list_models())\n",
        "# vul_models.download_model(\"Applejack (singing)\",\"models/Applejack (singing)\")\n",
        "\n",
        "    print(\"Finished!\")"
      ]
    },
    {
      "cell_type": "code",
      "execution_count": 17,
      "metadata": {
        "cellView": "form",
        "id": "JntsKHUGr9kD"
      },
      "outputs": [
        {
          "name": "stdout",
          "output_type": "stream",
          "text": [
            "Downloading File from https://huggingface.co/therealvul/so-vits-svc-4.0-init/resolve/main/checkpoint_best_legacy_500.pt\n"
          ]
        },
        {
          "name": "stderr",
          "output_type": "stream",
          "text": [
            "checkpoint_best_legacy_500.pt: 1.33GB [06:56, 3.19MB/s]                               "
          ]
        },
        {
          "name": "stdout",
          "output_type": "stream",
          "text": [
            "Downloaded to hubert/checkpoint_best_legacy_500.pt\n"
          ]
        },
        {
          "name": "stderr",
          "output_type": "stream",
          "text": [
            "\n"
          ]
        }
      ],
      "source": [
        "#@title Download ContentVec (just run this once)\n",
        "os.chdir('/content/so-vits-svc') # force working-directory to so-vits-svc - this line is just for safety and is probably not required\n",
        "download([\"https://huggingface.co/therealvul/so-vits-svc-4.0-init/resolve/main/checkpoint_best_legacy_500.pt\"], filenames=[\"hubert/checkpoint_best_legacy_500.pt\"])"
      ]
    },
    {
      "cell_type": "code",
      "execution_count": 18,
      "metadata": {
        "cellView": "form",
        "id": "Ist9AYsybTc7"
      },
      "outputs": [
        {
          "name": "stderr",
          "output_type": "stream",
          "text": [
            "Cloning https://huggingface.co/therealvul/so-vits-svc-4.0 into local empty directory.\n"
          ]
        },
        {
          "data": {
            "application/vnd.jupyter.widget-view+json": {
              "model_id": "039b225d8cae470ba56ed51b7e91bd37",
              "version_major": 2,
              "version_minor": 0
            },
            "text/plain": [
              "Button(description='Zecora', style=ButtonStyle())"
            ]
          },
          "metadata": {},
          "output_type": "display_data"
        },
        {
          "data": {
            "application/vnd.jupyter.widget-view+json": {
              "model_id": "519f5e116ec3433b8f7856be2dc74814",
              "version_major": 2,
              "version_minor": 0
            },
            "text/plain": [
              "Button(description='Fluttershy (speaking mix)', style=ButtonStyle())"
            ]
          },
          "metadata": {},
          "output_type": "display_data"
        },
        {
          "data": {
            "application/vnd.jupyter.widget-view+json": {
              "model_id": "b25b2fe3343847babc30bbac740d4d00",
              "version_major": 2,
              "version_minor": 0
            },
            "text/plain": [
              "Button(description='Applebloom (singing)', style=ButtonStyle())"
            ]
          },
          "metadata": {},
          "output_type": "display_data"
        },
        {
          "data": {
            "application/vnd.jupyter.widget-view+json": {
              "model_id": "497e1f118c9b46ca8d54119da50d64f5",
              "version_major": 2,
              "version_minor": 0
            },
            "text/plain": [
              "Button(description='Maud Pie (speaking)', style=ButtonStyle())"
            ]
          },
          "metadata": {},
          "output_type": "display_data"
        },
        {
          "data": {
            "application/vnd.jupyter.widget-view+json": {
              "model_id": "7b9a68ad23894908ad6ee02069fe4217",
              "version_major": 2,
              "version_minor": 0
            },
            "text/plain": [
              "Button(description='Fluttershy (singing)', style=ButtonStyle())"
            ]
          },
          "metadata": {},
          "output_type": "display_data"
        },
        {
          "data": {
            "application/vnd.jupyter.widget-view+json": {
              "model_id": "0cf7ccfbb63f46bfbe9964868cfe96b8",
              "version_major": 2,
              "version_minor": 0
            },
            "text/plain": [
              "Button(description='Pony1', style=ButtonStyle())"
            ]
          },
          "metadata": {},
          "output_type": "display_data"
        },
        {
          "data": {
            "application/vnd.jupyter.widget-view+json": {
              "model_id": "5b5c1d6b01904d4aaabbcdba35495ff9",
              "version_major": 2,
              "version_minor": 0
            },
            "text/plain": [
              "Button(description='Sweetie Belle (speaking)', style=ButtonStyle())"
            ]
          },
          "metadata": {},
          "output_type": "display_data"
        },
        {
          "data": {
            "application/vnd.jupyter.widget-view+json": {
              "model_id": "8da85f17399145e197374d62d894bf60",
              "version_major": 2,
              "version_minor": 0
            },
            "text/plain": [
              "Button(description='Starlight (singing)', style=ButtonStyle())"
            ]
          },
          "metadata": {},
          "output_type": "display_data"
        },
        {
          "data": {
            "application/vnd.jupyter.widget-view+json": {
              "model_id": "22302b63e1d04930893f7276e95ffe31",
              "version_major": 2,
              "version_minor": 0
            },
            "text/plain": [
              "Button(description='Twilight (speaking mix)', style=ButtonStyle())"
            ]
          },
          "metadata": {},
          "output_type": "display_data"
        },
        {
          "data": {
            "application/vnd.jupyter.widget-view+json": {
              "model_id": "b62c1eec5fc54ecfa4355b1621e783ca",
              "version_major": 2,
              "version_minor": 0
            },
            "text/plain": [
              "Button(description='Luna (speaking)', style=ButtonStyle())"
            ]
          },
          "metadata": {},
          "output_type": "display_data"
        },
        {
          "data": {
            "application/vnd.jupyter.widget-view+json": {
              "model_id": "76e79a10621e4e1bb95bf5094ac0405a",
              "version_major": 2,
              "version_minor": 0
            },
            "text/plain": [
              "Button(description='Rainbow Dash (singing alt)', style=ButtonStyle())"
            ]
          },
          "metadata": {},
          "output_type": "display_data"
        },
        {
          "data": {
            "application/vnd.jupyter.widget-view+json": {
              "model_id": "e2effd16389f44f88197ec6117b59f62",
              "version_major": 2,
              "version_minor": 0
            },
            "text/plain": [
              "Button(description='Applebloom (speaking)', style=ButtonStyle())"
            ]
          },
          "metadata": {},
          "output_type": "display_data"
        },
        {
          "data": {
            "application/vnd.jupyter.widget-view+json": {
              "model_id": "272885e8e9364f5a92b14949c682edf9",
              "version_major": 2,
              "version_minor": 0
            },
            "text/plain": [
              "Button(description='Celestia (speaking)', style=ButtonStyle())"
            ]
          },
          "metadata": {},
          "output_type": "display_data"
        },
        {
          "data": {
            "application/vnd.jupyter.widget-view+json": {
              "model_id": "52234d18fd9641f18f5e0d0722e1cd20",
              "version_major": 2,
              "version_minor": 0
            },
            "text/plain": [
              "Button(description='Applejack (s1)', style=ButtonStyle())"
            ]
          },
          "metadata": {},
          "output_type": "display_data"
        },
        {
          "data": {
            "application/vnd.jupyter.widget-view+json": {
              "model_id": "647dad75d0ba4ffdbeabd27d88597cf6",
              "version_major": 2,
              "version_minor": 0
            },
            "text/plain": [
              "Button(description='Chrysalis', style=ButtonStyle())"
            ]
          },
          "metadata": {},
          "output_type": "display_data"
        },
        {
          "data": {
            "application/vnd.jupyter.widget-view+json": {
              "model_id": "6cc794918d624cdd9ed50e727c8555e4",
              "version_major": 2,
              "version_minor": 0
            },
            "text/plain": [
              "Button(description='Rainbow Dash (singing)', style=ButtonStyle())"
            ]
          },
          "metadata": {},
          "output_type": "display_data"
        },
        {
          "data": {
            "application/vnd.jupyter.widget-view+json": {
              "model_id": "664e3c75c5db49daaeaf23dd254b7163",
              "version_major": 2,
              "version_minor": 0
            },
            "text/plain": [
              "Button(description='Pinkie (speaking mix)', style=ButtonStyle())"
            ]
          },
          "metadata": {},
          "output_type": "display_data"
        },
        {
          "data": {
            "application/vnd.jupyter.widget-view+json": {
              "model_id": "2c68b4e824e445d6a0703d3ba43bed14",
              "version_major": 2,
              "version_minor": 0
            },
            "text/plain": [
              "Button(description='Rarity (speaking mix)', style=ButtonStyle())"
            ]
          },
          "metadata": {},
          "output_type": "display_data"
        },
        {
          "data": {
            "application/vnd.jupyter.widget-view+json": {
              "model_id": "e60fbd3994c64b4eae32e14d4702f57a",
              "version_major": 2,
              "version_minor": 0
            },
            "text/plain": [
              "Button(description='Sweetie Belle (singing)', style=ButtonStyle())"
            ]
          },
          "metadata": {},
          "output_type": "display_data"
        },
        {
          "data": {
            "application/vnd.jupyter.widget-view+json": {
              "model_id": "fe66217d039b4b8eaf1d3aaa847788cf",
              "version_major": 2,
              "version_minor": 0
            },
            "text/plain": [
              "Button(description='Twilight (singing)', style=ButtonStyle())"
            ]
          },
          "metadata": {},
          "output_type": "display_data"
        },
        {
          "data": {
            "application/vnd.jupyter.widget-view+json": {
              "model_id": "3ead210be4054865bfe04dae125c6916",
              "version_major": 2,
              "version_minor": 0
            },
            "text/plain": [
              "Button(description='Pinkie (speaking sep)', style=ButtonStyle())"
            ]
          },
          "metadata": {},
          "output_type": "display_data"
        },
        {
          "data": {
            "application/vnd.jupyter.widget-view+json": {
              "model_id": "38cd56b71e774ea690a1f8512decc858",
              "version_major": 2,
              "version_minor": 0
            },
            "text/plain": [
              "Button(description='Discord', style=ButtonStyle())"
            ]
          },
          "metadata": {},
          "output_type": "display_data"
        },
        {
          "data": {
            "application/vnd.jupyter.widget-view+json": {
              "model_id": "8517bfb654824306b7a8f209bf3bbbb1",
              "version_major": 2,
              "version_minor": 0
            },
            "text/plain": [
              "Button(description='Pinkie (singing)', style=ButtonStyle())"
            ]
          },
          "metadata": {},
          "output_type": "display_data"
        },
        {
          "data": {
            "application/vnd.jupyter.widget-view+json": {
              "model_id": "9f27f18ed0b54e7aae551527d3b780bf",
              "version_major": 2,
              "version_minor": 0
            },
            "text/plain": [
              "Button(description='Applejack (singing)', style=ButtonStyle())"
            ]
          },
          "metadata": {},
          "output_type": "display_data"
        },
        {
          "data": {
            "application/vnd.jupyter.widget-view+json": {
              "model_id": "dd7ad2483f6f465d90482394f7e055a0",
              "version_major": 2,
              "version_minor": 0
            },
            "text/plain": [
              "Button(description='Trixie (mix)', style=ButtonStyle())"
            ]
          },
          "metadata": {},
          "output_type": "display_data"
        },
        {
          "data": {
            "application/vnd.jupyter.widget-view+json": {
              "model_id": "cce9c4ea841542518e90b082accf43cd",
              "version_major": 2,
              "version_minor": 0
            },
            "text/plain": [
              "Button(description='Rainbow Dash (s1)', style=ButtonStyle())"
            ]
          },
          "metadata": {},
          "output_type": "display_data"
        },
        {
          "data": {
            "application/vnd.jupyter.widget-view+json": {
              "model_id": "157108fe888f4357bb7d230b58dceeb5",
              "version_major": 2,
              "version_minor": 0
            },
            "text/plain": [
              "Button(description='Scootaloo (singing)', style=ButtonStyle())"
            ]
          },
          "metadata": {},
          "output_type": "display_data"
        },
        {
          "data": {
            "application/vnd.jupyter.widget-view+json": {
              "model_id": "439aa5e10b044a3fbcb6ee636dd75817",
              "version_major": 2,
              "version_minor": 0
            },
            "text/plain": [
              "Button(description='Starlight Glimmer (speaking)', style=ButtonStyle())"
            ]
          },
          "metadata": {},
          "output_type": "display_data"
        },
        {
          "data": {
            "application/vnd.jupyter.widget-view+json": {
              "model_id": "28d96846e51049c9ab89eae2eb6a853d",
              "version_major": 2,
              "version_minor": 0
            },
            "text/plain": [
              "Button(description='Luna (singing)', style=ButtonStyle())"
            ]
          },
          "metadata": {},
          "output_type": "display_data"
        },
        {
          "data": {
            "application/vnd.jupyter.widget-view+json": {
              "model_id": "b1f9a9dfce9548269878584e2a6cba86",
              "version_major": 2,
              "version_minor": 0
            },
            "text/plain": [
              "Button(description='Scootaloo (speaking)', style=ButtonStyle())"
            ]
          },
          "metadata": {},
          "output_type": "display_data"
        },
        {
          "data": {
            "application/vnd.jupyter.widget-view+json": {
              "model_id": "e4f19a374fdb4bd097d38679de725608",
              "version_major": 2,
              "version_minor": 0
            },
            "text/plain": [
              "Button(description='Celestia (singing)', style=ButtonStyle())"
            ]
          },
          "metadata": {},
          "output_type": "display_data"
        },
        {
          "data": {
            "application/vnd.jupyter.widget-view+json": {
              "model_id": "8ae3e4f628314d158a3db0f17182c5f6",
              "version_major": 2,
              "version_minor": 0
            },
            "text/plain": [
              "Button(description='Rainbow Dash (speaking)', style=ButtonStyle())"
            ]
          },
          "metadata": {},
          "output_type": "display_data"
        },
        {
          "data": {
            "application/vnd.jupyter.widget-view+json": {
              "model_id": "d5c9875c12444fdba61e5ffd89301457",
              "version_major": 2,
              "version_minor": 0
            },
            "text/plain": [
              "Button(description='Applejack (speaking mix)', style=ButtonStyle())"
            ]
          },
          "metadata": {},
          "output_type": "display_data"
        },
        {
          "data": {
            "application/vnd.jupyter.widget-view+json": {
              "model_id": "204f6bffee324e4889c34189ad8ece3a",
              "version_major": 2,
              "version_minor": 0
            },
            "text/plain": [
              "Button(description='Cadance (singing)', style=ButtonStyle())"
            ]
          },
          "metadata": {},
          "output_type": "display_data"
        },
        {
          "data": {
            "application/vnd.jupyter.widget-view+json": {
              "model_id": "3d3ff5f2da784781b04b10b5447840cb",
              "version_major": 2,
              "version_minor": 0
            },
            "text/plain": [
              "Button(description='Rarity (singing)', style=ButtonStyle())"
            ]
          },
          "metadata": {},
          "output_type": "display_data"
        },
        {
          "data": {
            "application/vnd.jupyter.widget-view+json": {
              "model_id": "db171045b9844edfbe1fe8a1987e022f",
              "version_major": 2,
              "version_minor": 0
            },
            "text/plain": [
              "Downloading G_28800.pth:   0%|          | 0.00/543M [00:00<?, ?B/s]"
            ]
          },
          "metadata": {},
          "output_type": "display_data"
        },
        {
          "data": {
            "application/vnd.jupyter.widget-view+json": {
              "model_id": "1c0ee165066f473795598338a9fc29f0",
              "version_major": 2,
              "version_minor": 0
            },
            "text/plain": [
              "Downloading kmeans_1000.pt:   0%|          | 0.00/1.54M [00:00<?, ?B/s]"
            ]
          },
          "metadata": {},
          "output_type": "display_data"
        }
      ],
      "source": [
        "#@title Setup HF Downloads (run cell and click buttons to download models)\n",
        "#@markdown This ai was created by BRONIES 🙏🙏 which is why all this stuff is down here idk how to remove it but if youre a brony its cool for you i guess\n",
        "from ipywidgets import widgets\n",
        "vul_models = HFModels()\n",
        "\n",
        "def button_eventhandler(but):\n",
        "  vul_models.download_model(but.description, \"models/\"+but.description)\n",
        "\n",
        "for model in vul_models.list_models():\n",
        "  btn = widgets.Button(description=model)\n",
        "  btn.on_click(button_eventhandler)\n",
        "  display(btn)"
      ]
    },
    {
      "cell_type": "code",
      "execution_count": 19,
      "metadata": {
        "cellView": "form",
        "id": "oFr2MWaQfR6X"
      },
      "outputs": [
        {
          "name": "stdout",
          "output_type": "stream",
          "text": [
            "Downloading File from https://mega.nz/file/P7hWwCoQ#s0OICnRbTpcUjUIS7iQPIlYwBVelZXzm_-1LLPSUd2Y\n",
            "ye200k.zip: 0.00% - 0 bytes of 468.7 MiB\n",
            "ye200k.zip: 0.00% - 0 bytes of 468.7 MiB (0 bytes/s)\n",
            "ye200k.zip: 0.10% - 466.6 KiB (477840 bytes) of 468.7 MiB (466.3 KiB/s)\n",
            "ye200k.zip: 1.22% - 5.7 MiB (6013544 bytes) of 468.7 MiB (5.3 MiB/s)\n",
            "ye200k.zip: 2.45% - 11.5 MiB (12051616 bytes) of 468.7 MiB (5.7 MiB/s)\n",
            "ye200k.zip: 3.05% - 14.3 MiB (14986800 bytes) of 468.7 MiB (2.3 MiB/s)\n",
            "ye200k.zip: 4.58% - 21.5 MiB (22509160 bytes) of 468.7 MiB (7.2 MiB/s)\n",
            "ye200k.zip: 5.67% - 26.6 MiB (27849384 bytes) of 468.7 MiB (4.6 MiB/s)\n",
            "ye200k.zip: 7.25% - 34.0 MiB (35622248 bytes) of 468.7 MiB (7.4 MiB/s)\n",
            "ye200k.zip: 8.75% - 41.0 MiB (43004152 bytes) of 468.7 MiB (7.0 MiB/s)\n",
            "ye200k.zip: 10.30% - 48.3 MiB (50638008 bytes) of 468.7 MiB (7.2 MiB/s)\n",
            "ye200k.zip: 11.36% - 53.2 MiB (55813160 bytes) of 468.7 MiB (4.4 MiB/s)\n",
            "ye200k.zip: 12.36% - 57.9 MiB (60762424 bytes) of 468.7 MiB (4.7 MiB/s)\n",
            "ye200k.zip: 13.75% - 64.5 MiB (67594088 bytes) of 468.7 MiB (6.5 MiB/s)\n",
            "ye200k.zip: 15.24% - 71.4 MiB (74910832 bytes) of 468.7 MiB (7.0 MiB/s)\n",
            "ye200k.zip: 16.63% - 78.0 MiB (81741048 bytes) of 468.7 MiB (6.5 MiB/s)\n",
            "ye200k.zip: 17.56% - 82.3 MiB (86326864 bytes) of 468.7 MiB (3.8 MiB/s)\n",
            "ye200k.zip: 18.35% - 86.0 MiB (90200264 bytes) of 468.7 MiB (3.7 MiB/s)\n",
            "ye200k.zip: 19.38% - 90.8 MiB (95256680 bytes) of 468.7 MiB (4.8 MiB/s)\n",
            "ye200k.zip: 20.69% - 97.0 MiB (101694488 bytes) of 468.7 MiB (6.1 MiB/s)\n",
            "ye200k.zip: 21.79% - 102.1 MiB (107086840 bytes) of 468.7 MiB (5.1 MiB/s)\n",
            "ye200k.zip: 23.01% - 107.9 MiB (113113416 bytes) of 468.7 MiB (5.7 MiB/s)\n",
            "ye200k.zip: 23.96% - 112.3 MiB (117744120 bytes) of 468.7 MiB (4.4 MiB/s)\n",
            "ye200k.zip: 24.81% - 116.3 MiB (121941872 bytes) of 468.7 MiB (4.0 MiB/s)\n",
            "ye200k.zip: 26.38% - 123.7 MiB (129661072 bytes) of 468.7 MiB (7.3 MiB/s)\n",
            "ye200k.zip: 27.78% - 130.2 MiB (136539160 bytes) of 468.7 MiB (6.6 MiB/s)\n",
            "ye200k.zip: 29.19% - 136.8 MiB (143467752 bytes) of 468.7 MiB (6.6 MiB/s)\n",
            "ye200k.zip: 30.62% - 143.5 MiB (150494984 bytes) of 468.7 MiB (6.7 MiB/s)\n",
            "ye200k.zip: 31.69% - 148.5 MiB (155752672 bytes) of 468.7 MiB (3.9 MiB/s)\n",
            "ye200k.zip: 32.36% - 151.7 MiB (159071488 bytes) of 468.7 MiB (3.2 MiB/s)\n",
            "ye200k.zip: 33.40% - 156.6 MiB (164182752 bytes) of 468.7 MiB (4.6 MiB/s)\n",
            "ye200k.zip: 34.82% - 163.2 MiB (171126088 bytes) of 468.7 MiB (6.6 MiB/s)\n",
            "ye200k.zip: 35.86% - 168.1 MiB (176230288 bytes) of 468.7 MiB (4.9 MiB/s)\n",
            "ye200k.zip: 37.21% - 174.4 MiB (182895432 bytes) of 468.7 MiB (6.4 MiB/s)\n",
            "ye200k.zip: 38.02% - 178.2 MiB (186871640 bytes) of 468.7 MiB (3.7 MiB/s)\n",
            "ye200k.zip: 39.44% - 184.9 MiB (193833624 bytes) of 468.7 MiB (6.6 MiB/s)\n",
            "ye200k.zip: 40.81% - 191.3 MiB (200555240 bytes) of 468.7 MiB (6.4 MiB/s)\n",
            "ye200k.zip: 41.81% - 196.0 MiB (205503056 bytes) of 468.7 MiB (4.7 MiB/s)\n",
            "ye200k.zip: 43.17% - 202.3 MiB (212165304 bytes) of 468.7 MiB (6.4 MiB/s)\n",
            "ye200k.zip: 44.62% - 209.2 MiB (219321320 bytes) of 468.7 MiB (6.8 MiB/s)\n",
            "ye200k.zip: 45.37% - 212.6 MiB (222978968 bytes) of 468.7 MiB (3.5 MiB/s)\n",
            "ye200k.zip: 46.08% - 216.0 MiB (226484488 bytes) of 468.7 MiB (3.0 MiB/s)\n",
            "ye200k.zip: 47.49% - 222.6 MiB (233419048 bytes) of 468.7 MiB (6.6 MiB/s)\n",
            "ye200k.zip: 49.10% - 230.1 MiB (241314992 bytes) of 468.7 MiB (7.5 MiB/s)\n",
            "ye200k.zip: 50.56% - 237.0 MiB (248486936 bytes) of 468.7 MiB (6.8 MiB/s)\n",
            "ye200k.zip: 51.50% - 241.4 MiB (253142168 bytes) of 468.7 MiB (4.0 MiB/s)\n",
            "ye200k.zip: 52.86% - 247.8 MiB (259827672 bytes) of 468.7 MiB (6.4 MiB/s)\n",
            "ye200k.zip: 54.43% - 255.1 MiB (267535376 bytes) of 468.7 MiB (7.4 MiB/s)\n",
            "ye200k.zip: 54.62% - 256.0 MiB (268435456 bytes) of 468.7 MiB (636.3 KiB/s)\n",
            "ye200k.zip: 54.70% - 256.4 MiB (268862616 bytes) of 468.7 MiB (417.1 KiB/s)\n",
            "ye200k.zip: 55.81% - 261.6 MiB (274289720 bytes) of 468.7 MiB (5.2 MiB/s)\n",
            "ye200k.zip: 56.79% - 266.2 MiB (279143416 bytes) of 468.7 MiB (3.9 MiB/s)\n",
            "ye200k.zip: 57.84% - 271.1 MiB (284278024 bytes) of 468.7 MiB (3.8 MiB/s)\n",
            "ye200k.zip: 58.99% - 276.5 MiB (289957080 bytes) of 468.7 MiB (5.4 MiB/s)\n",
            "ye200k.zip: 59.84% - 280.5 MiB (294102704 bytes) of 468.7 MiB (4.0 MiB/s)\n",
            "ye200k.zip: 60.65% - 284.3 MiB (298077464 bytes) of 468.7 MiB (3.8 MiB/s)\n",
            "ye200k.zip: 61.44% - 288.0 MiB (301982720 bytes) of 468.7 MiB (3.7 MiB/s)\n",
            "ye200k.zip: 62.32% - 292.1 MiB (306286176 bytes) of 468.7 MiB (4.1 MiB/s)\n",
            "ye200k.zip: 63.15% - 296.0 MiB (310386912 bytes) of 468.7 MiB (3.9 MiB/s)\n",
            "ye200k.zip: 64.07% - 300.3 MiB (314891640 bytes) of 468.7 MiB (4.3 MiB/s)\n",
            "ye200k.zip: 64.88% - 304.1 MiB (318906944 bytes) of 468.7 MiB (3.8 MiB/s)\n",
            "ye200k.zip: 65.80% - 308.4 MiB (323385608 bytes) of 468.7 MiB (4.3 MiB/s)\n",
            "ye200k.zip: 66.65% - 312.4 MiB (327603632 bytes) of 468.7 MiB (4.0 MiB/s)\n",
            "ye200k.zip: 67.54% - 316.6 MiB (331949080 bytes) of 468.7 MiB (4.1 MiB/s)\n",
            "ye200k.zip: 68.41% - 320.7 MiB (336235160 bytes) of 468.7 MiB (4.1 MiB/s)\n",
            "ye200k.zip: 69.25% - 324.6 MiB (340370648 bytes) of 468.7 MiB (3.9 MiB/s)\n",
            "ye200k.zip: 69.76% - 327.0 MiB (342882928 bytes) of 468.7 MiB (2.3 MiB/s)\n",
            "ye200k.zip: 70.41% - 330.0 MiB (346043912 bytes) of 468.7 MiB (3.0 MiB/s)\n",
            "ye200k.zip: 71.17% - 333.6 MiB (349792784 bytes) of 468.7 MiB (3.6 MiB/s)\n",
            "ye200k.zip: 71.93% - 337.2 MiB (353550344 bytes) of 468.7 MiB (3.6 MiB/s)\n",
            "ye200k.zip: 72.65% - 340.5 MiB (357086360 bytes) of 468.7 MiB (3.4 MiB/s)\n",
            "ye200k.zip: 73.40% - 344.1 MiB (360781656 bytes) of 468.7 MiB (3.5 MiB/s)\n",
            "ye200k.zip: 74.21% - 347.8 MiB (364720216 bytes) of 468.7 MiB (3.8 MiB/s)\n",
            "ye200k.zip: 74.97% - 351.4 MiB (368464744 bytes) of 468.7 MiB (3.6 MiB/s)\n",
            "ye200k.zip: 75.63% - 354.5 MiB (371741568 bytes) of 468.7 MiB (3.1 MiB/s)\n",
            "ye200k.zip: 76.29% - 357.6 MiB (374970608 bytes) of 468.7 MiB (3.1 MiB/s)\n",
            "ye200k.zip: 76.89% - 360.4 MiB (377921632 bytes) of 468.7 MiB (2.8 MiB/s)\n",
            "ye200k.zip: 77.59% - 363.7 MiB (381372216 bytes) of 468.7 MiB (3.3 MiB/s)\n",
            "ye200k.zip: 78.25% - 366.8 MiB (384588224 bytes) of 468.7 MiB (3.1 MiB/s)\n",
            "ye200k.zip: 79.01% - 370.3 MiB (388319720 bytes) of 468.7 MiB (3.6 MiB/s)\n",
            "ye200k.zip: 79.38% - 372.1 MiB (390138408 bytes) of 468.7 MiB (1.7 MiB/s)\n",
            "ye200k.zip: 80.21% - 375.9 MiB (394211632 bytes) of 468.7 MiB (3.9 MiB/s)\n",
            "ye200k.zip: 80.90% - 379.2 MiB (397610088 bytes) of 468.7 MiB (3.2 MiB/s)\n",
            "ye200k.zip: 81.64% - 382.7 MiB (401247464 bytes) of 468.7 MiB (3.5 MiB/s)\n",
            "ye200k.zip: 82.48% - 386.6 MiB (405384400 bytes) of 468.7 MiB (3.9 MiB/s)\n",
            "ye200k.zip: 83.31% - 390.5 MiB (409461968 bytes) of 468.7 MiB (3.9 MiB/s)\n",
            "ye200k.zip: 84.30% - 395.1 MiB (414306976 bytes) of 468.7 MiB (4.6 MiB/s)\n",
            "ye200k.zip: 85.15% - 399.1 MiB (418493144 bytes) of 468.7 MiB (4.0 MiB/s)\n",
            "ye200k.zip: 86.02% - 403.2 MiB (422790808 bytes) of 468.7 MiB (4.1 MiB/s)\n",
            "ye200k.zip: 86.73% - 406.5 MiB (426257320 bytes) of 468.7 MiB (3.3 MiB/s)\n",
            "ye200k.zip: 87.36% - 409.5 MiB (429390792 bytes) of 468.7 MiB (3.0 MiB/s)\n",
            "ye200k.zip: 88.01% - 412.5 MiB (432563360 bytes) of 468.7 MiB (3.0 MiB/s)\n",
            "ye200k.zip: 88.41% - 414.4 MiB (434521056 bytes) of 468.7 MiB (1.7 MiB/s)\n",
            "ye200k.zip: 89.20% - 418.1 MiB (438427760 bytes) of 468.7 MiB (3.7 MiB/s)\n",
            "ye200k.zip: 90.04% - 422.0 MiB (442529944 bytes) of 468.7 MiB (3.9 MiB/s)\n",
            "ye200k.zip: 91.25% - 427.7 MiB (448504392 bytes) of 468.7 MiB (5.7 MiB/s)\n",
            "ye200k.zip: 92.34% - 432.8 MiB (453861992 bytes) of 468.7 MiB (5.1 MiB/s)\n",
            "ye200k.zip: 93.57% - 438.6 MiB (459913184 bytes) of 468.7 MiB (5.8 MiB/s)\n",
            "ye200k.zip: 95.13% - 445.9 MiB (467578896 bytes) of 468.7 MiB (7.3 MiB/s)\n",
            "ye200k.zip: 96.62% - 452.9 MiB (474886952 bytes) of 468.7 MiB (7.0 MiB/s)\n",
            "ye200k.zip: 97.23% - 455.8 MiB (477904584 bytes) of 468.7 MiB (2.6 MiB/s)\n",
            "ye200k.zip: 97.75% - 458.2 MiB (480450168 bytes) of 468.7 MiB (2.4 MiB/s)\n",
            "ye200k.zip: 98.66% - 462.4 MiB (484892672 bytes) of 468.7 MiB (4.0 MiB/s)\n",
            "ye200k.zip: 99.88% - 468.2 MiB (490930792 bytes) of 468.7 MiB (5.8 MiB/s)\n",
            "Downloaded ye200k.zip\n"
          ]
        }
      ],
      "source": [
        "#@title Other Downloads (.zip) Step o.1\n",
        "#@markdown Please note that 3.0 models are incompatible with 4.0.\n",
        "\n",
        "#@markdown Supported URL types: \n",
        "#@markdown * Google Drive zip\n",
        "#@markdown * MEGA zip\n",
        "#@markdown * Direct zip (+HuggingFace /resolve/ link)\n",
        "\n",
        "#@markdown Example URLs:\n",
        "#@markdown * Kanye: https://mega.nz/file/P7hWwCoQ#s0OICnRbTpcUjUIS7iQPIlYwBVelZXzm_-1LLPSUd2Y\n",
        "#@markdown * Kendrick: https://mega.nz/file/WmBzgSZa#UD-SFhHBv3aw0obTHW2lGc5yeaMnK8qtKU3OjDKMVKk\n",
        "#@markdown * Carti (v3): https://mega.nz/file/jnwzEJ4K#erlpUaNQ3VyQIIVaQDYge3Kv4pZtyNfQBWA6hUy6uu8\n",
        "#@markdown * Drake: https://mega.nz/file/Sm53wAwI#4PmIrSWDrEP1-pnZb5MJpTcfoHy3OBhBOhn2FVxfyb8\n",
        "#@markdown * Juice Wrld: https://mega.nz/file/5w9kGSJA#MQEQi7lBBBJMBa_rQ5mfGtDXnv96-XhhsNx-xc81ta8\n",
        "#@markdown * Travis: https://mega.nz/file/q652kCZb#VS9IE0Vr3A3PbynDvmkfantFmz_Iik9i3M9DMWeShoE\n",
        "#@markdown * Tyler: https://mega.nz/file/rz5SBBIK#KAhHX8tR-f5yf_aR4dRwF-oE90LpliA4E8v1YFC7ONQ\n",
        "#@markdown * AI Hub: https://discord.gg/Aktyxz4jwA\n",
        "\n",
        "\n",
        "import re\n",
        "model_url = \"https://mega.nz/file/P7hWwCoQ#s0OICnRbTpcUjUIS7iQPIlYwBVelZXzm_-1LLPSUd2Y\" #@param {\"type\": \"string\"}\n",
        "if \"huggingface.co\" in model_url.lower():\n",
        "  download([re.sub(r\"/blob/\",\"/resolve/\",model_url)], \n",
        "           filenames=[os.path.join(os.getcwd(),model_url.split(\"/\")[-1])])\n",
        "else:\n",
        "  download([model_url])"
      ]
    },
    {
      "cell_type": "code",
      "execution_count": 20,
      "metadata": {
        "cellView": "form",
        "id": "7FHg8Gx8ihDk"
      },
      "outputs": [
        {
          "name": "stdout",
          "output_type": "stream",
          "text": [
            "extracting zip /content/so-vits-svc/megatools-1.11.1.20230212-linux-x86_64/ye200k.zip\n"
          ]
        }
      ],
      "source": [
        "#@title Extract .zip Downloads - Step o.2\n",
        "# download speaker model files into 'models' directory\n",
        "#import glob, os, shutil\n",
        "#from pathlib import Path\n",
        "#os.makedirs('models', exist_ok=True)\n",
        "#model_zip_paths = glob.glob('/content/**/*.zip', recursive=True)\n",
        "#for model_zip_path in model_zip_paths:\n",
        "#    extract(model_zip_path) # extract inplace\n",
        "#    ckpts_inplace = glob.glob('./*.pth')\n",
        "#    json_inplace = glob.glob('./*.json')\n",
        "#    if os.path.exists(os.path.splitext(model_zip_path)[0]):\n",
        "#      shutil.move(os.path.splitext(model_zip_path)[0],'models')\n",
        "#    elif len(ckpts_inplace):\n",
        "#      for f in ckpts_inplace:\n",
        "#        os.makedirs('models/'+Path(model_zip_path).stem, \n",
        "#                      exist_ok=True)\n",
        "#        shutil.move(f,'models/'+Path(model_zip_path).stem)\n",
        "#      for f in json_inplace:\n",
        "#        shutil.move(f,'models/'+Path(model_zip_path).stem)\n",
        "        #@title Extract .zip Downloads - Step o.2\n",
        "# download speaker model files into 'models' directory\n",
        "import glob, os, shutil\n",
        "from pathlib import Path\n",
        "os.makedirs('models', exist_ok=True)\n",
        "model_zip_paths = glob.glob('/content/**/*.zip', recursive=True)\n",
        "\n",
        "for model_zip_path in model_zip_paths:\n",
        "    print(\"extracting zip\",model_zip_path)\n",
        "    output_dir = os.path.join('/content/so-vits-svc/models',os.path.basename(os.path.splitext(model_zip_path)[0]).replace(\" \",\"_\"))\n",
        "    \n",
        "    # clean and create output dir\n",
        "    if os.path.exists(output_dir):\n",
        "      shutil.rmtree(output_dir)\n",
        "    os.mkdir(output_dir)\n",
        "    input_base = os.path.dirname(model_zip_path)\n",
        "\n",
        "    # clean input dir (if user stopped an earlier extract and we have dirty files)\n",
        "    ckpts_pre = glob.glob(os.path.join(input_base,'**/*.pth'),recursive=True)\n",
        "    jsons_pre = glob.glob(os.path.join(input_base,'**/config.json'),recursive=True)\n",
        "    for cpkt in ckpts_pre:\n",
        "      os.remove(cpkt)\n",
        "    for json in jsons_pre:\n",
        "      os.remove(json)\n",
        "\n",
        "    # do the extract\n",
        "    extract(model_zip_path)\n",
        "    ckpts = glob.glob(os.path.join(input_base,'**/*.pth'),recursive=True)\n",
        "    jsons = glob.glob(os.path.join(input_base,'**/config.json'),recursive=True)\n",
        "    for ckpt in ckpts:\n",
        "      shutil.move(ckpt,os.path.join(output_dir,os.path.basename(ckpt)))\n",
        "    for json in jsons:\n",
        "      shutil.move(json,os.path.join(output_dir,os.path.basename(json)))\n"
      ]
    },
    {
      "cell_type": "code",
      "execution_count": 10,
      "metadata": {
        "cellView": "form",
        "id": "Bpg6Ql1QHEV6"
      },
      "outputs": [
        {
          "ename": "ImportError",
          "evalue": "cannot import name 'SynthesizerTrn' from 'models' (unknown location)",
          "output_type": "error",
          "traceback": [
            "\u001b[0;31m---------------------------------------------------------------------------\u001b[0m",
            "\u001b[0;31mImportError\u001b[0m                               Traceback (most recent call last)",
            "\u001b[0;32m/tmp/ipykernel_2574971/2290406819.py\u001b[0m in \u001b[0;36m<module>\u001b[0;34m\u001b[0m\n\u001b[1;32m     13\u001b[0m \u001b[0;34m\u001b[0m\u001b[0m\n\u001b[1;32m     14\u001b[0m \u001b[0;32mimport\u001b[0m \u001b[0mtorch\u001b[0m\u001b[0;34m\u001b[0m\u001b[0;34m\u001b[0m\u001b[0m\n\u001b[0;32m---> 15\u001b[0;31m \u001b[0;32mfrom\u001b[0m \u001b[0mso_vits_svc\u001b[0m\u001b[0;34m.\u001b[0m\u001b[0minference\u001b[0m \u001b[0;32mimport\u001b[0m \u001b[0mslicer\u001b[0m\u001b[0;34m,\u001b[0m \u001b[0minfer_tool\u001b[0m\u001b[0;34m\u001b[0m\u001b[0;34m\u001b[0m\u001b[0m\n\u001b[0m\u001b[1;32m     16\u001b[0m \u001b[0;32mimport\u001b[0m \u001b[0msoundfile\u001b[0m\u001b[0;34m\u001b[0m\u001b[0;34m\u001b[0m\u001b[0m\n\u001b[1;32m     17\u001b[0m \u001b[0;32mimport\u001b[0m \u001b[0mnumpy\u001b[0m \u001b[0;32mas\u001b[0m \u001b[0mnp\u001b[0m\u001b[0;34m\u001b[0m\u001b[0;34m\u001b[0m\u001b[0m\n",
            "\u001b[0;32m~/code/ETS/ALGOETS/drake-ai/notebook/so_vits_svc/inference/infer_tool.py\u001b[0m in \u001b[0;36m<module>\u001b[0;34m\u001b[0m\n\u001b[1;32m     26\u001b[0m \u001b[0;32mfrom\u001b[0m \u001b[0mtorch\u001b[0m\u001b[0;34m.\u001b[0m\u001b[0mnn\u001b[0m\u001b[0;34m.\u001b[0m\u001b[0mmodules\u001b[0m\u001b[0;34m.\u001b[0m\u001b[0mutils\u001b[0m \u001b[0;32mimport\u001b[0m \u001b[0mconsume_prefix_in_state_dict_if_present\u001b[0m\u001b[0;34m\u001b[0m\u001b[0;34m\u001b[0m\u001b[0m\n\u001b[1;32m     27\u001b[0m \u001b[0;34m\u001b[0m\u001b[0m\n\u001b[0;32m---> 28\u001b[0;31m \u001b[0;32mfrom\u001b[0m \u001b[0mmodels\u001b[0m \u001b[0;32mimport\u001b[0m \u001b[0mSynthesizerTrn\u001b[0m\u001b[0;34m\u001b[0m\u001b[0;34m\u001b[0m\u001b[0m\n\u001b[0m\u001b[1;32m     29\u001b[0m \u001b[0;34m\u001b[0m\u001b[0m\n\u001b[1;32m     30\u001b[0m \u001b[0mlogging\u001b[0m\u001b[0;34m.\u001b[0m\u001b[0mgetLogger\u001b[0m\u001b[0;34m(\u001b[0m\u001b[0;34m'matplotlib'\u001b[0m\u001b[0;34m)\u001b[0m\u001b[0;34m.\u001b[0m\u001b[0msetLevel\u001b[0m\u001b[0;34m(\u001b[0m\u001b[0mlogging\u001b[0m\u001b[0;34m.\u001b[0m\u001b[0mWARNING\u001b[0m\u001b[0;34m)\u001b[0m\u001b[0;34m\u001b[0m\u001b[0;34m\u001b[0m\u001b[0m\n",
            "\u001b[0;31mImportError\u001b[0m: cannot import name 'SynthesizerTrn' from 'models' (unknown location)"
          ]
        }
      ],
      "source": [
        "#@title Open the file explorer on the left of your screen and drag-and-drop an audio file anywhere. Then run the below cell.\n",
        "import os\n",
        "import glob\n",
        "import json\n",
        "import copy\n",
        "import logging\n",
        "import io\n",
        "from ipywidgets import widgets\n",
        "from pathlib import Path\n",
        "from IPython.display import Audio, display\n",
        "\n",
        "os.chdir('/content/so-vits-svc')\n",
        "\n",
        "import torch\n",
        "from so_vits_svc.inference import slicer, infer_tool\n",
        "import soundfile\n",
        "import numpy as np\n",
        "\n",
        "MODELS_DIR = \"models\"\n",
        "\n",
        "def get_speakers():\n",
        "  speakers = []\n",
        "  for _,dirs,_ in os.walk(MODELS_DIR):\n",
        "    for folder in dirs:\n",
        "      cur_speaker = {}\n",
        "      # Look for G_****.pth\n",
        "      g = glob.glob(os.path.join(MODELS_DIR,folder,'G_*.pth'))\n",
        "      if not len(g):\n",
        "        print(\"Skipping \"+folder+\", no G_*.pth\")\n",
        "        continue\n",
        "      cur_speaker[\"model_path\"] = g[0]\n",
        "      cur_speaker[\"model_folder\"] = folder\n",
        "\n",
        "      # Look for *.pt (clustering model)\n",
        "      clst = glob.glob(os.path.join(MODELS_DIR,folder,'*.pt'))\n",
        "      if not len(clst):\n",
        "        print(\"Note: No clustering model found for \"+folder)\n",
        "        cur_speaker[\"cluster_path\"] = \"\"\n",
        "      else:\n",
        "        cur_speaker[\"cluster_path\"] = clst[0]\n",
        "\n",
        "      # Look for config.json\n",
        "      cfg = glob.glob(os.path.join(MODELS_DIR,folder,'*.json'))\n",
        "      if not len(cfg):\n",
        "        print(\"Skipping \"+folder+\", no config json\")\n",
        "        continue\n",
        "      cur_speaker[\"cfg_path\"] = cfg[0]\n",
        "      with open(cur_speaker[\"cfg_path\"]) as f:\n",
        "        try:\n",
        "          cfg_json = json.loads(f.read())\n",
        "        except Exception as e:\n",
        "          print(\"Malformed config json in \"+folder)\n",
        "        for name, i in cfg_json[\"spk\"].items():\n",
        "          cur_speaker[\"name\"] = name\n",
        "          cur_speaker[\"id\"] = i\n",
        "          if not name.startswith('.'):\n",
        "            speakers.append(copy.copy(cur_speaker))\n",
        "\n",
        "    return sorted(speakers, key=lambda x:x[\"name\"].lower())\n",
        "\n",
        "logging.getLogger('numba').setLevel(logging.WARNING)\n",
        "chunks_dict = infer_tool.read_temp(\"inference/chunks_temp.json\")\n",
        "existing_files = []\n",
        "slice_db = -40\n",
        "wav_format = 'wav'\n",
        "\n",
        "class InferenceGui():\n",
        "  def __init__(self):\n",
        "    self.speakers = get_speakers()\n",
        "    self.speaker_list = [x[\"name\"] for x in self.speakers]\n",
        "    self.speaker_box = widgets.Dropdown(\n",
        "        options = self.speaker_list\n",
        "    )\n",
        "    display(self.speaker_box)\n",
        "\n",
        "    def convert_cb(btn):\n",
        "      self.convert()\n",
        "    def clean_cb(btn):\n",
        "      self.clean()\n",
        "\n",
        "    self.convert_btn = widgets.Button(description=\"Convert\")\n",
        "    self.convert_btn.on_click(convert_cb)\n",
        "    self.clean_btn = widgets.Button(description=\"Delete all audio files\")\n",
        "    self.clean_btn.on_click(clean_cb)\n",
        "\n",
        "    self.trans_tx = widgets.IntText(value=0, description='Transpose')\n",
        "    self.cluster_ratio_tx = widgets.FloatText(value=0.0, \n",
        "      description='Clustering Ratio')\n",
        "    self.noise_scale_tx = widgets.FloatText(value=0.4, \n",
        "      description='Noise Scale')\n",
        "    self.auto_pitch_ck = widgets.Checkbox(value=False, description=\n",
        "      'Auto pitch f0 (do not use for singing)')\n",
        "\n",
        "    display(self.trans_tx)\n",
        "    display(self.cluster_ratio_tx)\n",
        "    display(self.noise_scale_tx)\n",
        "    display(self.auto_pitch_ck)\n",
        "    display(self.convert_btn)\n",
        "    display(self.clean_btn)\n",
        "\n",
        "  def convert(self):\n",
        "    trans = int(self.trans_tx.value)\n",
        "    speaker = next(x for x in self.speakers if x[\"name\"] == \n",
        "          self.speaker_box.value)\n",
        "    spkpth2 = os.path.join(os.getcwd(),speaker[\"model_path\"])\n",
        "    print(spkpth2)\n",
        "    print(os.path.exists(spkpth2))\n",
        "\n",
        "    svc_model = Svc(speaker[\"model_path\"], speaker[\"cfg_path\"], \n",
        "      cluster_model_path=speaker[\"cluster_path\"])\n",
        "    \n",
        "    input_filepaths = [f for f in glob.glob('/content/**/*.*', recursive=True)\n",
        "     if f not in existing_files and \n",
        "     any(f.endswith(ex) for ex in ['.wav','.flac','.mp3','.ogg','.opus'])]\n",
        "    for name in input_filepaths:\n",
        "      print(\"Converting \"+os.path.split(name)[-1])\n",
        "      infer_tool.format_wav(name)\n",
        "\n",
        "      wav_path = str(Path(name).with_suffix('.wav'))\n",
        "      wav_name = Path(name).stem\n",
        "      chunks = slicer.cut(wav_path, db_thresh=slice_db)\n",
        "      audio_data, audio_sr = slicer.chunks2audio(wav_path, chunks)\n",
        "\n",
        "      audio = []\n",
        "      for (slice_tag, data) in audio_data:\n",
        "          print(f'#=====segment start, '\n",
        "              f'{round(len(data)/audio_sr, 3)}s======')\n",
        "          \n",
        "          length = int(np.ceil(len(data) / audio_sr *\n",
        "              svc_model.target_sample))\n",
        "          \n",
        "          if slice_tag:\n",
        "              print('jump empty segment')\n",
        "              _audio = np.zeros(length)\n",
        "          else:\n",
        "              # Padding \"fix\" for noise\n",
        "              pad_len = int(audio_sr * 0.5)\n",
        "              data = np.concatenate([np.zeros([pad_len]),\n",
        "                  data, np.zeros([pad_len])])\n",
        "              raw_path = io.BytesIO()\n",
        "              soundfile.write(raw_path, data, audio_sr, format=\"wav\")\n",
        "              raw_path.seek(0)\n",
        "              _cluster_ratio = 0.0\n",
        "              if speaker[\"cluster_path\"] != \"\":\n",
        "                _cluster_ratio = float(self.cluster_ratio_tx.value)\n",
        "              out_audio, out_sr = svc_model.infer(\n",
        "                  speaker[\"name\"], trans, raw_path,\n",
        "                  cluster_infer_ratio = _cluster_ratio,\n",
        "                  auto_predict_f0 = bool(self.auto_pitch_ck.value),\n",
        "                  noice_scale = float(self.noise_scale_tx.value))\n",
        "              _audio = out_audio.cpu().numpy()\n",
        "              pad_len = int(svc_model.target_sample * 0.5)\n",
        "              _audio = _audio[pad_len:-pad_len]\n",
        "          audio.extend(list(infer_tool.pad_array(_audio, length)))\n",
        "          \n",
        "      res_path = os.path.join('/content/',\n",
        "          f'{wav_name}_{trans}_key_'\n",
        "          f'{speaker[\"name\"]}.{wav_format}')\n",
        "      soundfile.write(res_path, audio, svc_model.target_sample,\n",
        "          format=wav_format)\n",
        "      display(Audio(res_path, autoplay=True)) # display audio file\n",
        "    pass\n",
        "\n",
        "  def clean(self):\n",
        "     input_filepaths = [f for f in glob.glob('/content/**/*.*', recursive=True)\n",
        "     if f not in existing_files and \n",
        "     any(f.endswith(ex) for ex in ['.wav','.flac','.mp3','.ogg','.opus'])]\n",
        "     for f in input_filepaths:\n",
        "       os.remove(f)\n",
        "\n",
        "inference_gui = InferenceGui()"
      ]
    },
    {
      "cell_type": "code",
      "execution_count": null,
      "metadata": {},
      "outputs": [],
      "source": []
    }
  ],
  "metadata": {
    "accelerator": "GPU",
    "colab": {
      "provenance": []
    },
    "gpuClass": "standard",
    "kernelspec": {
      "display_name": "Python 3",
      "name": "python3"
    },
    "language_info": {
      "codemirror_mode": {
        "name": "ipython",
        "version": 3
      },
      "file_extension": ".py",
      "mimetype": "text/x-python",
      "name": "python",
      "nbconvert_exporter": "python",
      "pygments_lexer": "ipython3",
      "version": "3.7.16"
    }
  },
  "nbformat": 4,
  "nbformat_minor": 0
}
